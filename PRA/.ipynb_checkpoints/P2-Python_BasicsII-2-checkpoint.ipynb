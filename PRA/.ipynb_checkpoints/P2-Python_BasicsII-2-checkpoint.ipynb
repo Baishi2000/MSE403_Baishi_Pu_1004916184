{
 "cells": [
  {
   "cell_type": "markdown",
   "metadata": {
    "id": "k6OZVjppnZig"
   },
   "source": [
    "# Python Modules\n",
    "\n",
    "* What makes Python so powerful, modules!\n",
    "* Python is open-sourced, which means that developers all around the world can contribute to its development!\n",
    "* Modules are a a collection of Python functions and classes that you can import and use in your code!\n",
    "* As mentioned earlier, before spending a lot of time writing your own functions, try searching online, there is probably a module out there that can do what you need"
   ]
  },
  {
   "cell_type": "markdown",
   "metadata": {
    "id": "K-dVsmqr4Mm4"
   },
   "source": [
    "## Part One: NumPy"
   ]
  },
  {
   "cell_type": "markdown",
   "metadata": {
    "id": "QuxUlEGBnZis"
   },
   "source": [
    "### Why Numpy?"
   ]
  },
  {
   "cell_type": "markdown",
   "metadata": {
    "id": "rVh2Ys8wnZiu"
   },
   "source": [
    "<div>\n",
    "<img src=\"img/numpy.gif\" width=\"600\"/>\n",
    "</div>\n",
    "\n",
    "Read more: https://towardsdatascience.com/why-is-numpy-awesome-3f8f011abf70#:~:text=NumPy%20can%20be%20used%20to,calculations%20you%20can%20use%20np"
   ]
  },
  {
   "cell_type": "code",
   "execution_count": 7,
   "metadata": {
    "executionInfo": {
     "elapsed": 9,
     "status": "ok",
     "timestamp": 1663440831502,
     "user": {
      "displayName": "Jason Hattrick-Simpers",
      "userId": "05089878327807216172"
     },
     "user_tz": 240
    },
    "id": "-5oFi5Vu4Mm7"
   },
   "outputs": [],
   "source": [
    "# Importing the Numpy Module\n",
    "\n",
    "import numpy as np"
   ]
  },
  {
   "cell_type": "code",
   "execution_count": 8,
   "metadata": {
    "colab": {
     "base_uri": "https://localhost:8080/",
     "height": 36
    },
    "executionInfo": {
     "elapsed": 162,
     "status": "ok",
     "timestamp": 1663440836153,
     "user": {
      "displayName": "Jason Hattrick-Simpers",
      "userId": "05089878327807216172"
     },
     "user_tz": 240
    },
    "id": "sRPTZLftnZiz",
    "outputId": "9f408620-7d11-4e07-ec56-34226927179e"
   },
   "outputs": [
    {
     "data": {
      "text/plain": [
       "'1.22.4'"
      ]
     },
     "execution_count": 8,
     "metadata": {},
     "output_type": "execute_result"
    }
   ],
   "source": [
    "np.__version__"
   ]
  },
  {
   "cell_type": "code",
   "execution_count": 70,
   "metadata": {
    "colab": {
     "base_uri": "https://localhost:8080/"
    },
    "executionInfo": {
     "elapsed": 159,
     "status": "ok",
     "timestamp": 1663440838490,
     "user": {
      "displayName": "Jason Hattrick-Simpers",
      "userId": "05089878327807216172"
     },
     "user_tz": 240
    },
    "id": "1rBJVPYu4MnA",
    "outputId": "c7367291-7868-4f7f-ca41-c78e4a1e1399"
   },
   "outputs": [
    {
     "name": "stdout",
     "output_type": "stream",
     "text": [
      "[1 2 3]\n"
     ]
    }
   ],
   "source": [
    "# let's make an array using the array() function and assign it to variable \"a\"\n",
    "\n",
    "a = np.array([1,2,3])\n",
    "print(a)"
   ]
  },
  {
   "cell_type": "markdown",
   "metadata": {
    "id": "QDzkK10InZi3"
   },
   "source": [
    "An **array** object represents a multidimensional, homogeneous array of fixed-size items\n"
   ]
  },
  {
   "cell_type": "code",
   "execution_count": 10,
   "metadata": {
    "colab": {
     "base_uri": "https://localhost:8080/"
    },
    "executionInfo": {
     "elapsed": 165,
     "status": "ok",
     "timestamp": 1663440841975,
     "user": {
      "displayName": "Jason Hattrick-Simpers",
      "userId": "05089878327807216172"
     },
     "user_tz": 240
    },
    "id": "A3Jn6K6y4MnD",
    "outputId": "6a965698-1b57-4832-dab8-6664f710377c"
   },
   "outputs": [
    {
     "data": {
      "text/plain": [
       "numpy.ndarray"
      ]
     },
     "execution_count": 10,
     "metadata": {},
     "output_type": "execute_result"
    }
   ],
   "source": [
    "# The variable is a np.array object, use the type() function to confirm that\n",
    "\n",
    "type(a)"
   ]
  },
  {
   "cell_type": "markdown",
   "metadata": {
    "id": "XlGsGs38nZi7"
   },
   "source": [
    "An associated **data-type** object describes the format of each element in the array (its byte-order, how many bytes it occupies in memory, whether it is an integer, a floating point number, or something else, etc.)"
   ]
  },
  {
   "cell_type": "code",
   "execution_count": 11,
   "metadata": {
    "colab": {
     "base_uri": "https://localhost:8080/"
    },
    "executionInfo": {
     "elapsed": 114,
     "status": "ok",
     "timestamp": 1663440844265,
     "user": {
      "displayName": "Jason Hattrick-Simpers",
      "userId": "05089878327807216172"
     },
     "user_tz": 240
    },
    "id": "1TbahIs14MnF",
    "outputId": "d690292e-4506-4005-fb24-bd091fdbe98a"
   },
   "outputs": [
    {
     "data": {
      "text/plain": [
       "dtype('int64')"
      ]
     },
     "execution_count": 11,
     "metadata": {},
     "output_type": "execute_result"
    }
   ],
   "source": [
    "# The type of the data stored in the array can be checked using array.dtype attribute\n",
    "\n",
    "a.dtype"
   ]
  },
  {
   "cell_type": "code",
   "execution_count": 12,
   "metadata": {
    "colab": {
     "base_uri": "https://localhost:8080/"
    },
    "executionInfo": {
     "elapsed": 150,
     "status": "ok",
     "timestamp": 1663440848031,
     "user": {
      "displayName": "Jason Hattrick-Simpers",
      "userId": "05089878327807216172"
     },
     "user_tz": 240
    },
    "id": "8CI-4ENZ4MnJ",
    "outputId": "cb6828fe-f0fe-4e8c-dd40-b7fbb482358d"
   },
   "outputs": [
    {
     "data": {
      "text/plain": [
       "dtype('int64')"
      ]
     },
     "execution_count": 12,
     "metadata": {},
     "output_type": "execute_result"
    }
   ],
   "source": [
    "# We can explicitly specify the data type we want\n",
    "a = np.array([1,2,3], dtype = 'int64')\n",
    "\n",
    "a.dtype"
   ]
  },
  {
   "cell_type": "markdown",
   "metadata": {
    "id": "lAk8SkHvnZi-"
   },
   "source": [
    "Arrays have different **dimenssions**, **sizes**, and **shapes**:\n",
    "\n",
    "* 1- dimenssion: number of dimenssions\n",
    "* 2- size: number of elements\n",
    "* 3- shape: rows x columns"
   ]
  },
  {
   "cell_type": "code",
   "execution_count": 13,
   "metadata": {
    "colab": {
     "base_uri": "https://localhost:8080/"
    },
    "executionInfo": {
     "elapsed": 167,
     "status": "ok",
     "timestamp": 1663440852927,
     "user": {
      "displayName": "Jason Hattrick-Simpers",
      "userId": "05089878327807216172"
     },
     "user_tz": 240
    },
    "id": "ugxPJoo64MnM",
    "outputId": "f53bc3ed-7194-43df-8168-db5dabc1c5c8"
   },
   "outputs": [
    {
     "name": "stdout",
     "output_type": "stream",
     "text": [
      "Array a is  1 D\n",
      "Array a has 3  elements\n",
      "Array a has a shape of:  (3,)\n",
      "Array a has a shape of:  (3,)\n",
      "[1 2 3]\n"
     ]
    }
   ],
   "source": [
    "print(\"Array a is \", a.ndim, \"D\")\n",
    "print(\"Array a has\", a.size, \" elements\")\n",
    "print(\"Array a has a shape of: \", a.shape)\n",
    "print(\"Array a has a shape of: \", np.transpose(a).shape)\n",
    "print(np.transpose(a))"
   ]
  },
  {
   "cell_type": "code",
   "execution_count": 14,
   "metadata": {
    "colab": {
     "base_uri": "https://localhost:8080/"
    },
    "executionInfo": {
     "elapsed": 145,
     "status": "ok",
     "timestamp": 1663440860213,
     "user": {
      "displayName": "Jason Hattrick-Simpers",
      "userId": "05089878327807216172"
     },
     "user_tz": 240
    },
    "id": "xqPCBjqm4MnQ",
    "outputId": "e30499e3-9a4b-4fd7-9a95-605b0cd6a182"
   },
   "outputs": [
    {
     "name": "stdout",
     "output_type": "stream",
     "text": [
      "Array b is  2  dimensional\n",
      "Array b has 12  elements\n",
      "Array b has a shape of:  (3, 4) [3 Rows & 4 Columns]\n"
     ]
    }
   ],
   "source": [
    "# We can construct 2D arrays \n",
    "\n",
    "b = np.array([[1,2,3,4],\n",
    "              [5,6,7,8],\n",
    "              [4,3,2,1]]\n",
    "            )\n",
    "\n",
    "print(\"Array b is \", b.ndim, \" dimensional\")\n",
    "print(\"Array b has\", b.size, \" elements\")\n",
    "print(\"Array b has a shape of: \", b.shape, \"[3 Rows & 4 Columns]\")"
   ]
  },
  {
   "cell_type": "markdown",
   "metadata": {
    "id": "qLqdEHtk4MnT"
   },
   "source": [
    "**Can Arrays  contain heterogenous data types?**"
   ]
  },
  {
   "cell_type": "code",
   "execution_count": 15,
   "metadata": {
    "executionInfo": {
     "elapsed": 875,
     "status": "ok",
     "timestamp": 1663440865531,
     "user": {
      "displayName": "Jason Hattrick-Simpers",
      "userId": "05089878327807216172"
     },
     "user_tz": 240
    },
    "id": "w976CLXmnZjC"
   },
   "outputs": [],
   "source": [
    "b = np.array([['a',2,3,4],\n",
    "              [5,6,7,8],\n",
    "              [4,3,2,1]]\n",
    "            )"
   ]
  },
  {
   "cell_type": "code",
   "execution_count": 16,
   "metadata": {
    "colab": {
     "base_uri": "https://localhost:8080/",
     "height": 226
    },
    "executionInfo": {
     "elapsed": 160,
     "status": "error",
     "timestamp": 1663440868142,
     "user": {
      "displayName": "Jason Hattrick-Simpers",
      "userId": "05089878327807216172"
     },
     "user_tz": 240
    },
    "id": "xAD-sPzrnZjD",
    "outputId": "e4a45d18-8026-430a-fc06-3a35d37d5fac"
   },
   "outputs": [
    {
     "ename": "ValueError",
     "evalue": "invalid literal for int() with base 10: 'a'",
     "output_type": "error",
     "traceback": [
      "\u001b[0;31m---------------------------------------------------------------------------\u001b[0m",
      "\u001b[0;31mValueError\u001b[0m                                Traceback (most recent call last)",
      "Input \u001b[0;32mIn [16]\u001b[0m, in \u001b[0;36m<cell line: 1>\u001b[0;34m()\u001b[0m\n\u001b[0;32m----> 1\u001b[0m b \u001b[38;5;241m=\u001b[39m \u001b[43mnp\u001b[49m\u001b[38;5;241;43m.\u001b[39;49m\u001b[43marray\u001b[49m\u001b[43m(\u001b[49m\u001b[43m[\u001b[49m\u001b[43m[\u001b[49m\u001b[38;5;124;43m'\u001b[39;49m\u001b[38;5;124;43ma\u001b[39;49m\u001b[38;5;124;43m'\u001b[39;49m\u001b[43m,\u001b[49m\u001b[38;5;241;43m2\u001b[39;49m\u001b[43m,\u001b[49m\u001b[38;5;241;43m3\u001b[39;49m\u001b[43m,\u001b[49m\u001b[38;5;241;43m4\u001b[39;49m\u001b[43m]\u001b[49m\u001b[43m,\u001b[49m\n\u001b[1;32m      2\u001b[0m \u001b[43m              \u001b[49m\u001b[43m[\u001b[49m\u001b[38;5;241;43m5\u001b[39;49m\u001b[43m,\u001b[49m\u001b[38;5;241;43m6\u001b[39;49m\u001b[43m,\u001b[49m\u001b[38;5;241;43m7\u001b[39;49m\u001b[43m,\u001b[49m\u001b[38;5;241;43m8\u001b[39;49m\u001b[43m]\u001b[49m\u001b[43m,\u001b[49m\n\u001b[1;32m      3\u001b[0m \u001b[43m              \u001b[49m\u001b[43m[\u001b[49m\u001b[38;5;241;43m4\u001b[39;49m\u001b[43m,\u001b[49m\u001b[38;5;241;43m3\u001b[39;49m\u001b[43m,\u001b[49m\u001b[38;5;241;43m2\u001b[39;49m\u001b[43m,\u001b[49m\u001b[38;5;241;43m1\u001b[39;49m\u001b[43m]\u001b[49m\u001b[43m,\u001b[49m\u001b[43m]\u001b[49m\u001b[43m,\u001b[49m\u001b[43m \u001b[49m\u001b[43mdtype\u001b[49m\u001b[38;5;241;43m=\u001b[39;49m\u001b[38;5;124;43m'\u001b[39;49m\u001b[38;5;124;43mint64\u001b[39;49m\u001b[38;5;124;43m'\u001b[39;49m\n\u001b[1;32m      4\u001b[0m \u001b[43m            \u001b[49m\u001b[43m)\u001b[49m\n",
      "\u001b[0;31mValueError\u001b[0m: invalid literal for int() with base 10: 'a'"
     ]
    }
   ],
   "source": [
    "b = np.array([['a',2,3,4],\n",
    "              [5,6,7,8],\n",
    "              [4,3,2,1],], dtype='int64'\n",
    "            )"
   ]
  },
  {
   "cell_type": "markdown",
   "metadata": {
    "id": "YElO8zeH4MnU"
   },
   "source": [
    "Knowledge of the shape of the arrays is integral in performing operations on them. This concept also extends into **Tensors** which are at the heart of Deep learning packages such as **Pytorch** and **TensorFlow**. Let's take a look at this in an example:"
   ]
  },
  {
   "cell_type": "code",
   "execution_count": 17,
   "metadata": {
    "colab": {
     "base_uri": "https://localhost:8080/",
     "height": 207
    },
    "executionInfo": {
     "elapsed": 148,
     "status": "error",
     "timestamp": 1663440882406,
     "user": {
      "displayName": "Jason Hattrick-Simpers",
      "userId": "05089878327807216172"
     },
     "user_tz": 240
    },
    "id": "E9m12Uru4MnV",
    "outputId": "2336b1cb-8687-4813-ea49-df177b156a4c"
   },
   "outputs": [
    {
     "ename": "UFuncTypeError",
     "evalue": "ufunc 'add' did not contain a loop with signature matching types (dtype('int64'), dtype('<U21')) -> None",
     "output_type": "error",
     "traceback": [
      "\u001b[0;31m---------------------------------------------------------------------------\u001b[0m",
      "\u001b[0;31mUFuncTypeError\u001b[0m                            Traceback (most recent call last)",
      "Input \u001b[0;32mIn [17]\u001b[0m, in \u001b[0;36m<cell line: 3>\u001b[0;34m()\u001b[0m\n\u001b[1;32m      1\u001b[0m \u001b[38;5;66;03m# let's try create an array \"c\" by adding our 1D array (\"a\") & 2D array (\"b\")\u001b[39;00m\n\u001b[0;32m----> 3\u001b[0m c \u001b[38;5;241m=\u001b[39m \u001b[43ma\u001b[49m\u001b[43m \u001b[49m\u001b[38;5;241;43m+\u001b[39;49m\u001b[43m \u001b[49m\u001b[43mb\u001b[49m\n",
      "\u001b[0;31mUFuncTypeError\u001b[0m: ufunc 'add' did not contain a loop with signature matching types (dtype('int64'), dtype('<U21')) -> None"
     ]
    }
   ],
   "source": [
    "# let's try create an array \"c\" by adding our 1D array (\"a\") & 2D array (\"b\")\n",
    "\n",
    "c = a + b"
   ]
  },
  {
   "cell_type": "markdown",
   "metadata": {
    "id": "J_AqOgFf4MnX"
   },
   "source": [
    "**Arrays shapes need to be the same for element wise operations**"
   ]
  },
  {
   "cell_type": "markdown",
   "metadata": {
    "id": "k3USPlB4nZjG"
   },
   "source": [
    "<div>\n",
    "<img src=\"img/dim_img.gif\" width=\"200\"/>\n",
    "</div>\n",
    "\n",
    "Read more: https://towardsdatascience.com/understanding-dimensions-in-pytorch-6edf9972d3be"
   ]
  },
  {
   "cell_type": "markdown",
   "metadata": {
    "id": "fzdCO3044MnY"
   },
   "source": [
    "**What if you need to change the dimenssionality of your array?**\n",
    "##### We can use the reshape() function to change 2D arrays to 1D"
   ]
  },
  {
   "cell_type": "code",
   "execution_count": 40,
   "metadata": {
    "colab": {
     "base_uri": "https://localhost:8080/"
    },
    "executionInfo": {
     "elapsed": 154,
     "status": "ok",
     "timestamp": 1663440893707,
     "user": {
      "displayName": "Jason Hattrick-Simpers",
      "userId": "05089878327807216172"
     },
     "user_tz": 240
    },
    "id": "QR3rZenI4MnZ",
    "outputId": "7850ac86-6cbc-4ec9-d03d-32e141e51030"
   },
   "outputs": [
    {
     "name": "stdout",
     "output_type": "stream",
     "text": [
      "[0.71852024 0.17010373 0.62556292 0.74335347 0.16350417 0.92046097\n",
      " 0.33007963 0.05799293 0.99189453 0.68607281 0.32268093 0.2591686 ]\n"
     ]
    }
   ],
   "source": [
    "a2 = np.random.random(12)  # Generate 1D array with random numbers \n",
    "print(a2)"
   ]
  },
  {
   "cell_type": "code",
   "execution_count": 20,
   "metadata": {
    "colab": {
     "base_uri": "https://localhost:8080/"
    },
    "executionInfo": {
     "elapsed": 120,
     "status": "ok",
     "timestamp": 1663440900948,
     "user": {
      "displayName": "Jason Hattrick-Simpers",
      "userId": "05089878327807216172"
     },
     "user_tz": 240
    },
    "id": "irwSvp6e4Mnc",
    "outputId": "58c468a2-e666-48ad-b54b-96207c852121"
   },
   "outputs": [
    {
     "name": "stdout",
     "output_type": "stream",
     "text": [
      "<class 'numpy.ndarray'>\n",
      "float64\n",
      "12\n"
     ]
    }
   ],
   "source": [
    "print(type(a2))\n",
    "print(a2.dtype)\n",
    "print(a2.size)"
   ]
  },
  {
   "cell_type": "code",
   "execution_count": 47,
   "metadata": {
    "colab": {
     "base_uri": "https://localhost:8080/",
     "height": 207
    },
    "executionInfo": {
     "elapsed": 127,
     "status": "error",
     "timestamp": 1663440904220,
     "user": {
      "displayName": "Jason Hattrick-Simpers",
      "userId": "05089878327807216172"
     },
     "user_tz": 240
    },
    "id": "uM85m3Ks4Mnf",
    "outputId": "3855b9dc-6925-4050-ddab-6130e88a7e09"
   },
   "outputs": [
    {
     "name": "stdout",
     "output_type": "stream",
     "text": [
      "[[1 2 3 4]\n",
      " [5 6 7 8]\n",
      " [4 3 2 1]]\n"
     ]
    }
   ],
   "source": [
    "b = np.array([[1,2,3,4],[5,6,7,8],[4,3,2,1]])\n",
    "print(b)\n",
    "\n",
    "c = a2 + b"
   ]
  },
  {
   "cell_type": "code",
   "execution_count": 43,
   "metadata": {
    "colab": {
     "base_uri": "https://localhost:8080/"
    },
    "executionInfo": {
     "elapsed": 125,
     "status": "ok",
     "timestamp": 1663440919415,
     "user": {
      "displayName": "Jason Hattrick-Simpers",
      "userId": "05089878327807216172"
     },
     "user_tz": 240
    },
    "id": "K9orzS3S4Mni",
    "outputId": "f7a91cd3-5259-4e53-9989-76862e51444c"
   },
   "outputs": [
    {
     "name": "stdout",
     "output_type": "stream",
     "text": [
      "Array a2 has the following shape:  (12,)\n",
      "Remember array b's shape is:  (3, 4)\n"
     ]
    }
   ],
   "source": [
    "print(\"Array a2 has the following shape: \",a2.shape)\n",
    "print(\"Remember array b's shape is: \", b.shape)"
   ]
  },
  {
   "cell_type": "code",
   "execution_count": 48,
   "metadata": {
    "colab": {
     "base_uri": "https://localhost:8080/"
    },
    "executionInfo": {
     "elapsed": 126,
     "status": "ok",
     "timestamp": 1663440925127,
     "user": {
      "displayName": "Jason Hattrick-Simpers",
      "userId": "05089878327807216172"
     },
     "user_tz": 240
    },
    "id": "rtCgpflTnZjJ",
    "outputId": "dac586ac-530b-441a-c85b-06e7314adda8"
   },
   "outputs": [
    {
     "name": "stdout",
     "output_type": "stream",
     "text": [
      "[[0.71852024 0.17010373 0.62556292 0.74335347]\n",
      " [0.16350417 0.92046097 0.33007963 0.05799293]\n",
      " [0.99189453 0.68607281 0.32268093 0.2591686 ]]\n",
      "[[1 2 3 4]\n",
      " [5 6 7 8]\n",
      " [4 3 2 1]]\n"
     ]
    }
   ],
   "source": [
    "a2 = a2.reshape(3,4)   #reshape function: array.reshape()\n",
    "print(a2)\n",
    "print(b)"
   ]
  },
  {
   "cell_type": "markdown",
   "metadata": {
    "id": "rBshzB9-4Mnl"
   },
   "source": [
    "##### Now let's try adding our 2D arrays:"
   ]
  },
  {
   "cell_type": "code",
   "execution_count": 49,
   "metadata": {
    "colab": {
     "base_uri": "https://localhost:8080/"
    },
    "executionInfo": {
     "elapsed": 143,
     "status": "ok",
     "timestamp": 1663440934230,
     "user": {
      "displayName": "Jason Hattrick-Simpers",
      "userId": "05089878327807216172"
     },
     "user_tz": 240
    },
    "id": "ItqaacOe4Mnl",
    "outputId": "fa01ea5b-c517-4a5c-b939-cb0380152f1e"
   },
   "outputs": [
    {
     "data": {
      "text/plain": [
       "array([[1.71852024, 2.17010373, 3.62556292, 4.74335347],\n",
       "       [5.16350417, 6.92046097, 7.33007963, 8.05799293],\n",
       "       [4.99189453, 3.68607281, 2.32268093, 1.2591686 ]])"
      ]
     },
     "execution_count": 49,
     "metadata": {},
     "output_type": "execute_result"
    }
   ],
   "source": [
    "c = a2+b\n",
    "c"
   ]
  },
  {
   "cell_type": "markdown",
   "metadata": {
    "id": "ExJ6Cpax4Mno"
   },
   "source": [
    "**We can also convert the 2D array into a 1D array using the ravel() function**"
   ]
  },
  {
   "cell_type": "code",
   "execution_count": 50,
   "metadata": {
    "executionInfo": {
     "elapsed": 271,
     "status": "ok",
     "timestamp": 1663440938111,
     "user": {
      "displayName": "Jason Hattrick-Simpers",
      "userId": "05089878327807216172"
     },
     "user_tz": 240
    },
    "id": "y8-2BBKB4Mnp"
   },
   "outputs": [],
   "source": [
    "a2 = a2.ravel()\n",
    "b = b.ravel()"
   ]
  },
  {
   "cell_type": "code",
   "execution_count": 51,
   "metadata": {
    "colab": {
     "base_uri": "https://localhost:8080/"
    },
    "executionInfo": {
     "elapsed": 151,
     "status": "ok",
     "timestamp": 1663440940060,
     "user": {
      "displayName": "Jason Hattrick-Simpers",
      "userId": "05089878327807216172"
     },
     "user_tz": 240
    },
    "id": "oval4vRE4Mns",
    "outputId": "a6c70d2b-a299-4079-c6fa-f08d579d4367"
   },
   "outputs": [
    {
     "name": "stdout",
     "output_type": "stream",
     "text": [
      "[0.71852024 0.17010373 0.62556292 0.74335347 0.16350417 0.92046097\n",
      " 0.33007963 0.05799293 0.99189453 0.68607281 0.32268093 0.2591686 ]\n",
      "[1 2 3 4 5 6 7 8 4 3 2 1]\n"
     ]
    }
   ],
   "source": [
    "print(a2)\n",
    "print(b)"
   ]
  },
  {
   "cell_type": "code",
   "execution_count": 52,
   "metadata": {
    "colab": {
     "base_uri": "https://localhost:8080/"
    },
    "executionInfo": {
     "elapsed": 143,
     "status": "ok",
     "timestamp": 1663440945323,
     "user": {
      "displayName": "Jason Hattrick-Simpers",
      "userId": "05089878327807216172"
     },
     "user_tz": 240
    },
    "id": "SB7xaAcW4Mnv",
    "outputId": "af83570e-0fe2-4a05-8cf2-1f2a0a1fd42c"
   },
   "outputs": [
    {
     "name": "stdout",
     "output_type": "stream",
     "text": [
      "[1.71852024 2.17010373 3.62556292 4.74335347 5.16350417 6.92046097\n",
      " 7.33007963 8.05799293 4.99189453 3.68607281 2.32268093 1.2591686 ]\n"
     ]
    }
   ],
   "source": [
    "c = a2 + b \n",
    "print(c)"
   ]
  },
  {
   "cell_type": "code",
   "execution_count": 53,
   "metadata": {
    "colab": {
     "base_uri": "https://localhost:8080/"
    },
    "executionInfo": {
     "elapsed": 175,
     "status": "ok",
     "timestamp": 1663440947901,
     "user": {
      "displayName": "Jason Hattrick-Simpers",
      "userId": "05089878327807216172"
     },
     "user_tz": 240
    },
    "id": "9uME6VA84Mnx",
    "outputId": "bde70514-6a28-4adb-bbd7-76160f98e83f"
   },
   "outputs": [
    {
     "name": "stdout",
     "output_type": "stream",
     "text": [
      "<class 'numpy.ndarray'>\n"
     ]
    }
   ],
   "source": [
    "print(type(c))"
   ]
  },
  {
   "cell_type": "code",
   "execution_count": 54,
   "metadata": {
    "colab": {
     "base_uri": "https://localhost:8080/"
    },
    "executionInfo": {
     "elapsed": 134,
     "status": "ok",
     "timestamp": 1663440951061,
     "user": {
      "displayName": "Jason Hattrick-Simpers",
      "userId": "05089878327807216172"
     },
     "user_tz": 240
    },
    "id": "KYgYAdIgnZjN",
    "outputId": "3eb515a7-f960-4629-8208-dd29f3b4828f"
   },
   "outputs": [
    {
     "name": "stdout",
     "output_type": "stream",
     "text": [
      "[[1.71852024 2.17010373 3.62556292 4.74335347]\n",
      " [5.16350417 6.92046097 7.33007963 8.05799293]\n",
      " [4.99189453 3.68607281 2.32268093 1.2591686 ]]\n"
     ]
    }
   ],
   "source": [
    "c = c.reshape(3,4)\n",
    "print(c)"
   ]
  },
  {
   "cell_type": "markdown",
   "metadata": {
    "id": "E0h-tVIN4Mn0"
   },
   "source": [
    "**Another common transformation you may want to do is transposition [Row <--> Column]:**"
   ]
  },
  {
   "cell_type": "markdown",
   "metadata": {
    "id": "eFC_qVdenZjO"
   },
   "source": [
    "<div>\n",
    "    <img src=\"img/transpose.gif\", width=\"200\">\n",
    "</div>\n",
    "\n",
    "Soruce: https://commons.wikimedia.org/wiki/File:Matrix_transpose.gif"
   ]
  },
  {
   "cell_type": "code",
   "execution_count": 57,
   "metadata": {
    "colab": {
     "base_uri": "https://localhost:8080/"
    },
    "executionInfo": {
     "elapsed": 121,
     "status": "ok",
     "timestamp": 1663440958365,
     "user": {
      "displayName": "Jason Hattrick-Simpers",
      "userId": "05089878327807216172"
     },
     "user_tz": 240
    },
    "id": "y77GkE4s4Mn0",
    "outputId": "3466413d-3d80-4b16-b550-fe520a3ffc0b"
   },
   "outputs": [
    {
     "name": "stdout",
     "output_type": "stream",
     "text": [
      "<class 'numpy.ndarray'>\n"
     ]
    }
   ],
   "source": [
    "b = b.reshape(3,4)\n",
    "print(type(b))\n"
   ]
  },
  {
   "cell_type": "code",
   "execution_count": 58,
   "metadata": {
    "colab": {
     "base_uri": "https://localhost:8080/"
    },
    "executionInfo": {
     "elapsed": 162,
     "status": "ok",
     "timestamp": 1663440961885,
     "user": {
      "displayName": "Jason Hattrick-Simpers",
      "userId": "05089878327807216172"
     },
     "user_tz": 240
    },
    "id": "1QN6Jc3E4Mn2",
    "outputId": "d82018c3-6be6-471c-e454-b21e848f1000"
   },
   "outputs": [
    {
     "name": "stdout",
     "output_type": "stream",
     "text": [
      "[[1 5 4]\n",
      " [2 6 3]\n",
      " [3 7 2]\n",
      " [4 8 1]]\n"
     ]
    }
   ],
   "source": [
    "# Let's transpose our array (b):\n",
    "\n",
    "b_t = b.transpose()\n",
    "print(b_t)"
   ]
  },
  {
   "cell_type": "code",
   "execution_count": 71,
   "metadata": {
    "colab": {
     "base_uri": "https://localhost:8080/"
    },
    "executionInfo": {
     "elapsed": 128,
     "status": "ok",
     "timestamp": 1663440966449,
     "user": {
      "displayName": "Jason Hattrick-Simpers",
      "userId": "05089878327807216172"
     },
     "user_tz": 240
    },
    "id": "qp0XVxbg4Mn4",
    "outputId": "fae7c863-5676-43a2-859f-fd610b152fa0"
   },
   "outputs": [
    {
     "name": "stdout",
     "output_type": "stream",
     "text": [
      "(3, 4) (4, 3)\n"
     ]
    }
   ],
   "source": [
    "print(b.shape, b_t.shape)"
   ]
  },
  {
   "cell_type": "markdown",
   "metadata": {
    "id": "wKzTZ_B54Mn6"
   },
   "source": [
    "### Other ways to create Arrays:"
   ]
  },
  {
   "cell_type": "markdown",
   "metadata": {
    "id": "eYvfLYpO4Mn7"
   },
   "source": [
    "You already saw the use of the **random()** function of the **numpy.random** module, \n",
    "it will generate an array of a given shape with random numbers: "
   ]
  },
  {
   "cell_type": "code",
   "execution_count": 72,
   "metadata": {
    "id": "htXTcxkv4Mn8"
   },
   "outputs": [
    {
     "name": "stdout",
     "output_type": "stream",
     "text": [
      "[0.98669805 0.51126114 0.66684471]\n",
      "<class 'numpy.ndarray'>\n"
     ]
    }
   ],
   "source": [
    "a = np.random.random(3)   # 1D array of size 3 \n",
    "print(a)\n",
    "print(type(a))"
   ]
  },
  {
   "cell_type": "markdown",
   "metadata": {
    "id": "_kgO-IUM4Mn_"
   },
   "source": [
    "We can also specify a shape:"
   ]
  },
  {
   "cell_type": "code",
   "execution_count": 75,
   "metadata": {
    "id": "qgSHvVzH4MoB",
    "tags": []
   },
   "outputs": [
    {
     "name": "stdout",
     "output_type": "stream",
     "text": [
      "[[0.12616638 0.18551453 0.31504743 0.27660476]\n",
      " [0.88736839 0.49262451 0.37070413 0.97170731]\n",
      " [0.75524699 0.16465069 0.23872915 0.23262825]\n",
      " [0.2234598  0.41471642 0.03445069 0.94992823]]\n"
     ]
    }
   ],
   "source": [
    "a = np.random.random((4,4))  # 2D array of size 16 (4X4)\n",
    "print(a)"
   ]
  },
  {
   "cell_type": "markdown",
   "metadata": {
    "id": "vhezeTRO4MoD"
   },
   "source": [
    "Another very useful function for making NumPy arrays using **arange()** . This function generates NumPy arrays with numerical sequences that respond to particular rules depending on the passed arguments.\n",
    "\n",
    "* For example, we can make an array with values ranging from 0 to 10:"
   ]
  },
  {
   "cell_type": "code",
   "execution_count": 76,
   "metadata": {
    "id": "yucq1cO04MoE"
   },
   "outputs": [
    {
     "name": "stdout",
     "output_type": "stream",
     "text": [
      "<class 'numpy.ndarray'>\n",
      "1\n",
      "[ 0  1  2  3  4  5  6  7  8  9 10]\n"
     ]
    }
   ],
   "source": [
    "a = np.arange(0,11)   # np.arange(starting value, ending vlaue excluded)\n",
    "print(type(a))\n",
    "print(a.ndim)\n",
    "print(a)"
   ]
  },
  {
   "cell_type": "code",
   "execution_count": 77,
   "metadata": {
    "id": "pzmJb0RI4MoG"
   },
   "outputs": [
    {
     "name": "stdout",
     "output_type": "stream",
     "text": [
      "[ 10  20  30  40  50  60  70  80  90 100]\n",
      "10\n"
     ]
    }
   ],
   "source": [
    "a = np.arange(10,101,10)  #The third value is the size of the intervals between values\n",
    "print(a)\n",
    "print(a.size)"
   ]
  },
  {
   "cell_type": "markdown",
   "metadata": {
    "id": "5eQpIgC94MoI"
   },
   "source": [
    "We can also make multidimensional arrays from combinging **arange()** with **reshape()**"
   ]
  },
  {
   "cell_type": "code",
   "execution_count": 78,
   "metadata": {
    "id": "MtpVAQBl4MoI"
   },
   "outputs": [
    {
     "name": "stdout",
     "output_type": "stream",
     "text": [
      "[[[0 1]\n",
      "  [2 3]]\n",
      "\n",
      " [[4 5]\n",
      "  [6 7]]]\n"
     ]
    }
   ],
   "source": [
    "a = np.arange(0,8).reshape(2,2,2)      #3D arrays made by using arange() + reshape()\n",
    "print(a)"
   ]
  },
  {
   "cell_type": "markdown",
   "metadata": {
    "id": "YpgYObX_4MoK"
   },
   "source": [
    "Sometimes you may want to make **zeros** and **ones** Arrays"
   ]
  },
  {
   "cell_type": "code",
   "execution_count": 81,
   "metadata": {
    "id": "LMCEQHJZ4MoK"
   },
   "outputs": [
    {
     "name": "stdout",
     "output_type": "stream",
     "text": [
      "[[0. 0. 0.]\n",
      " [0. 0. 0.]\n",
      " [0. 0. 0.]]\n"
     ]
    }
   ],
   "source": [
    "d = np.zeros((3, 3))   # Make a 3x3 array filled with zeros:\n",
    "print(d)"
   ]
  },
  {
   "cell_type": "code",
   "execution_count": 82,
   "metadata": {
    "id": "AqMu8mkQ4MoN",
    "scrolled": true
   },
   "outputs": [
    {
     "name": "stdout",
     "output_type": "stream",
     "text": [
      "[[[1. 1.]\n",
      "  [1. 1.]]\n",
      "\n",
      " [[1. 1.]\n",
      "  [1. 1.]]]\n"
     ]
    }
   ],
   "source": [
    "e = np.ones((2,2,2))  # Make a 2x2x2 array filled with 1s:\n",
    "print(e)"
   ]
  },
  {
   "cell_type": "markdown",
   "metadata": {
    "id": "NUDXZaiw4MoT"
   },
   "source": [
    "## Some Basic Operations\n",
    "\n",
    "### Element-wise operators"
   ]
  },
  {
   "cell_type": "markdown",
   "metadata": {
    "id": "UnZdIKxT4MoU"
   },
   "source": [
    "The most basic operators are element-wise operators i.e., applying operations on individual elements of arrays."
   ]
  },
  {
   "cell_type": "code",
   "execution_count": 87,
   "metadata": {
    "id": "QunImbog4MoU"
   },
   "outputs": [
    {
     "name": "stdout",
     "output_type": "stream",
     "text": [
      "[0 1 2 3 4 5 6 7 8]\n"
     ]
    }
   ],
   "source": [
    "a = np.arange(0,9)\n",
    "print(a)"
   ]
  },
  {
   "cell_type": "code",
   "execution_count": 84,
   "metadata": {
    "id": "Q3tix2lD4MoX",
    "scrolled": true
   },
   "outputs": [
    {
     "data": {
      "text/plain": [
       "array([10, 11, 12, 13, 14, 15, 16, 17, 18])"
      ]
     },
     "execution_count": 84,
     "metadata": {},
     "output_type": "execute_result"
    }
   ],
   "source": [
    "a+10"
   ]
  },
  {
   "cell_type": "code",
   "execution_count": 89,
   "metadata": {
    "id": "jGT9JpGj4Moa"
   },
   "outputs": [
    {
     "data": {
      "text/plain": [
       "array([ 0,  3,  6,  9, 12, 15, 18, 21, 24])"
      ]
     },
     "execution_count": 89,
     "metadata": {},
     "output_type": "execute_result"
    }
   ],
   "source": [
    "a*2 + a"
   ]
  },
  {
   "cell_type": "code",
   "execution_count": 90,
   "metadata": {
    "id": "7raywBww4Mod"
   },
   "outputs": [
    {
     "data": {
      "text/plain": [
       "array([0.41756909, 1.69927488, 2.52108236, 3.31213896, 4.66137343,\n",
       "       5.93063736, 6.07888158, 7.80764459, 8.32855082])"
      ]
     },
     "execution_count": 90,
     "metadata": {},
     "output_type": "execute_result"
    }
   ],
   "source": [
    "b = np.random.random(9)\n",
    "a+b"
   ]
  },
  {
   "cell_type": "markdown",
   "metadata": {
    "id": "kCanIO-G4Mog"
   },
   "source": [
    "**Useful element-wise functions:**\n",
    "* np.sqrt()\n",
    "* np.square()\n",
    "* np.sum():\n",
    "* np.log()\n",
    "* np.mean()\n",
    "* np.min()\n",
    "* np.max()\n",
    "* np.std()\n",
    "* np.argmin(): returns indices of the min element of the array in a particular axis"
   ]
  },
  {
   "cell_type": "code",
   "execution_count": 91,
   "metadata": {
    "id": "1y60nP9Y4Moh"
   },
   "outputs": [
    {
     "name": "stdout",
     "output_type": "stream",
     "text": [
      "[0.12812245 0.99791796 0.10177875 0.48678672]\n",
      "[0.35794196 0.99895844 0.31902782 0.69770102]\n"
     ]
    }
   ],
   "source": [
    "c= np.random.random(4)\n",
    "c_sqrt = np.sqrt(c)\n",
    "\n",
    "print(c)\n",
    "print(c_sqrt)"
   ]
  },
  {
   "cell_type": "code",
   "execution_count": 92,
   "metadata": {
    "id": "VT2WrHwMnZjY"
   },
   "outputs": [
    {
     "name": "stdout",
     "output_type": "stream",
     "text": [
      "[0.5787129  0.01476661 0.08491039 0.88972531]\n",
      "1\n"
     ]
    }
   ],
   "source": [
    "c= np.random.random(4)\n",
    "c_sqrt = np.argmin(c)\n",
    "\n",
    "print(c)\n",
    "print(c_sqrt)"
   ]
  },
  {
   "cell_type": "markdown",
   "metadata": {
    "id": "mDWS9m4hnZjZ"
   },
   "source": [
    "### Matrix operators"
   ]
  },
  {
   "cell_type": "code",
   "execution_count": 93,
   "metadata": {
    "id": "EBjdkDz5nZjZ"
   },
   "outputs": [
    {
     "name": "stdout",
     "output_type": "stream",
     "text": [
      "[[3 1]\n",
      " [1 3]]\n",
      "\n",
      "Determinant: 8.0\n"
     ]
    }
   ],
   "source": [
    "#Determinant\n",
    "\n",
    "import numpy as np\n",
    "a = np.array([[3, 1],\n",
    "               [1, 3]])\n",
    "print(a)\n",
    "det = np.linalg.det(a)\n",
    "print(\"\\nDeterminant:\", np.round(det))"
   ]
  },
  {
   "cell_type": "code",
   "execution_count": 94,
   "metadata": {
    "id": "Ycy-bu-gnZjZ"
   },
   "outputs": [
    {
     "name": "stdout",
     "output_type": "stream",
     "text": [
      "\n",
      "Eigenvalues:\n",
      "[4. 2.]\n",
      "\n",
      "Eigenvectors:\n",
      "[[ 0.70710678 -0.70710678]\n",
      " [ 0.70710678  0.70710678]]\n"
     ]
    },
    {
     "data": {
      "text/plain": [
       "(array([4., 2.]),\n",
       " array([[ 0.70710678, -0.70710678],\n",
       "        [ 0.70710678,  0.70710678]]))"
      ]
     },
     "execution_count": 94,
     "metadata": {},
     "output_type": "execute_result"
    }
   ],
   "source": [
    "#Eigenvalues and eigenvectors \n",
    "\n",
    "w, v = np.linalg.eig(a)\n",
    "print(\"\\nEigenvalues:\")\n",
    "print(w)\n",
    "print(\"\\nEigenvectors:\")\n",
    "print(v)\n",
    "\n",
    "e = np.linalg.eig(a)\n",
    "e"
   ]
  },
  {
   "cell_type": "markdown",
   "metadata": {
    "id": "EqfQv-z64Mok"
   },
   "source": [
    "## Indexing & Slicing"
   ]
  },
  {
   "cell_type": "markdown",
   "metadata": {
    "id": "5TaWHEKB4Mok"
   },
   "source": [
    "We can extract elements and sections of the arrays just like with lists\n",
    "\n",
    "### Indexing\n",
    "Array indexing refers to the use of square brackets (‘[ ]’) to grab elements individually for various uses such as extracting a value, selecting items, or even assigning a new value. Let's look at this in practice."
   ]
  },
  {
   "cell_type": "code",
   "execution_count": 99,
   "metadata": {
    "id": "xEKQQm2h4Mol"
   },
   "outputs": [
    {
     "data": {
      "text/plain": [
       "array([  0,   1,   2,   3,   4,   5,   6,   7,   8,   9,  10,  11,  12,\n",
       "        13,  14,  15,  16,  17,  18,  19,  20,  21,  22,  23,  24,  25,\n",
       "        26,  27,  28,  29,  30,  31,  32,  33,  34,  35,  36,  37,  38,\n",
       "        39,  40,  41,  42,  43,  44,  45,  46,  47,  48,  49,  50,  51,\n",
       "        52,  53,  54,  55,  56,  57,  58,  59,  60,  61,  62,  63,  64,\n",
       "        65,  66,  67,  68,  69,  70,  71,  72,  73,  74,  75,  76,  77,\n",
       "        78,  79,  80,  81,  82,  83,  84,  85,  86,  87,  88,  89,  90,\n",
       "        91,  92,  93,  94,  95,  96,  97,  98,  99, 100])"
      ]
     },
     "execution_count": 99,
     "metadata": {},
     "output_type": "execute_result"
    }
   ],
   "source": [
    "a = np.arange(0,101)\n",
    "a"
   ]
  },
  {
   "cell_type": "code",
   "execution_count": 98,
   "metadata": {
    "id": "KvIbj6Kg4Mon"
   },
   "outputs": [
    {
     "name": "stdout",
     "output_type": "stream",
     "text": [
      "0 100\n"
     ]
    }
   ],
   "source": [
    "# Extract first and last value\n",
    "print(a[0], a[-1])"
   ]
  },
  {
   "cell_type": "markdown",
   "metadata": {
    "id": "PxsgzqZn4Moq"
   },
   "source": [
    "To select multiple items at once, you can pass array of indecies within the square brackets"
   ]
  },
  {
   "cell_type": "code",
   "execution_count": 100,
   "metadata": {
    "id": "-yq0DG8S4Mor"
   },
   "outputs": [
    {
     "name": "stdout",
     "output_type": "stream",
     "text": [
      "[  1  22 100]\n"
     ]
    }
   ],
   "source": [
    "print(a[[1,22,-1]]) #only takes ONE argument in the index bracket. This case, it's a list"
   ]
  },
  {
   "cell_type": "markdown",
   "metadata": {
    "id": "jVUpSJFjnZji"
   },
   "source": [
    "**Can we select multiple items the same way in lists?**"
   ]
  },
  {
   "cell_type": "code",
   "execution_count": 110,
   "metadata": {
    "id": "lckZFAnInZji"
   },
   "outputs": [
    {
     "data": {
      "text/plain": [
       "list"
      ]
     },
     "execution_count": 110,
     "metadata": {},
     "output_type": "execute_result"
    }
   ],
   "source": [
    "a = np.arange(0,101)\n",
    "a = list(a)\n",
    "type(a)"
   ]
  },
  {
   "cell_type": "code",
   "execution_count": 111,
   "metadata": {
    "id": "UuoRCgw8nZjj"
   },
   "outputs": [
    {
     "ename": "TypeError",
     "evalue": "list indices must be integers or slices, not list",
     "output_type": "error",
     "traceback": [
      "\u001b[0;31m---------------------------------------------------------------------------\u001b[0m",
      "\u001b[0;31mTypeError\u001b[0m                                 Traceback (most recent call last)",
      "Input \u001b[0;32mIn [111]\u001b[0m, in \u001b[0;36m<cell line: 1>\u001b[0;34m()\u001b[0m\n\u001b[0;32m----> 1\u001b[0m \u001b[38;5;28mprint\u001b[39m(\u001b[43ma\u001b[49m\u001b[43m[\u001b[49m\u001b[43m[\u001b[49m\u001b[38;5;241;43m1\u001b[39;49m\u001b[43m,\u001b[49m\u001b[38;5;241;43m2\u001b[39;49m\u001b[43m,\u001b[49m\u001b[38;5;241;43m-\u001b[39;49m\u001b[38;5;241;43m1\u001b[39;49m\u001b[43m]\u001b[49m\u001b[43m]\u001b[49m)\n",
      "\u001b[0;31mTypeError\u001b[0m: list indices must be integers or slices, not list"
     ]
    }
   ],
   "source": [
    "print(a[[1,2,-1]])"
   ]
  },
  {
   "cell_type": "markdown",
   "metadata": {
    "id": "SUtk1nqM4Mot"
   },
   "source": [
    "**In the case of 2D arrays, rows and columns are treated like coordinates.**\n",
    "* The they are represented as rectangular matrices consisting of rows and columns.\n",
    "    * Defined by two axes, where axis 0 is represented by the rows and axis 1 is represented by the columns.\n",
    "    * Index with two values [row index, column index]."
   ]
  },
  {
   "cell_type": "code",
   "execution_count": 112,
   "metadata": {
    "id": "FIU7bznR4Mou"
   },
   "outputs": [
    {
     "name": "stdout",
     "output_type": "stream",
     "text": [
      "[[ 0  1  2  3]\n",
      " [ 4  5  6  7]\n",
      " [ 8  9 10 11]\n",
      " [12 13 14 15]]\n"
     ]
    }
   ],
   "source": [
    "A = np.arange(0,16).reshape(4,4)\n",
    "print(A)"
   ]
  },
  {
   "cell_type": "code",
   "execution_count": 114,
   "metadata": {
    "id": "QB43bIpF4Mox"
   },
   "outputs": [
    {
     "name": "stdout",
     "output_type": "stream",
     "text": [
      "3\n",
      "[ 2 12]\n"
     ]
    }
   ],
   "source": [
    "print(A[0,3])          # indexing single values\n",
    "print(A[[0,3],[2,0]])  # indexing multiple values [Row list] , [Column List]"
   ]
  },
  {
   "cell_type": "markdown",
   "metadata": {
    "id": "RkCqcU3y4Mo0"
   },
   "source": [
    "### Slicing\n",
    "\n",
    "Slicing is the operation which allows you to extract portions of an array to generate new ones\n",
    "\n",
    "**Array[Start:End]**"
   ]
  },
  {
   "cell_type": "code",
   "execution_count": 115,
   "metadata": {
    "id": "zNproFj54Mo1"
   },
   "outputs": [
    {
     "data": {
      "text/plain": [
       "array([0, 1, 2, 3, 4])"
      ]
     },
     "execution_count": 115,
     "metadata": {},
     "output_type": "execute_result"
    }
   ],
   "source": [
    "a = np.arange(0,11)   #Create an array \n",
    "a[0:5]                #Take a slice 0th element to the 5th "
   ]
  },
  {
   "cell_type": "code",
   "execution_count": 119,
   "metadata": {
    "id": "mz-fySQJ4Mo4",
    "scrolled": true
   },
   "outputs": [
    {
     "data": {
      "text/plain": [
       "array([0, 3, 6, 9])"
      ]
     },
     "execution_count": 119,
     "metadata": {},
     "output_type": "execute_result"
    }
   ],
   "source": [
    "# step size\n",
    "\n",
    "a[0:16:3]   # Take a slice of the array from 0 to 9 - every 3rd value starting with 0  "
   ]
  },
  {
   "cell_type": "markdown",
   "metadata": {
    "id": "9Ib4onip4Mo9"
   },
   "source": [
    "## Part Two: Pandas"
   ]
  },
  {
   "cell_type": "markdown",
   "metadata": {
    "id": "veJ9Tm9j4Mo-"
   },
   "source": [
    "* **Pandas [Panel Data System] is the work horse for data analysis & manipulation in Python.** \n",
    "    * Provides a tabular interface to interact with data - feels like excel. \n",
    "    * Open-source library \n",
    "    * Built on top of numpy providing high-performance, easy-to-use data structures and data analysis tools \n",
    "\n",
    "* **Has 2 main data objects/containers: Data Series & Data Frames.** \n",
    "    * Data Series - Deals with 1D data\n",
    "    * Data Frames - Multidimensional data\n",
    "    \n",
    "    \n",
    "* **Useful referenecs:**\n",
    "    * Documentation: https://pandas.pydata.org/docs/  \n"
   ]
  },
  {
   "cell_type": "code",
   "execution_count": 120,
   "metadata": {
    "id": "xuWCPQe14Mo-"
   },
   "outputs": [
    {
     "ename": "SyntaxError",
     "evalue": "invalid syntax (2731478906.py, line 3)",
     "output_type": "error",
     "traceback": [
      "\u001b[0;36m  Input \u001b[0;32mIn [120]\u001b[0;36m\u001b[0m\n\u001b[0;31m    pip install pandas\u001b[0m\n\u001b[0m        ^\u001b[0m\n\u001b[0;31mSyntaxError\u001b[0m\u001b[0;31m:\u001b[0m invalid syntax\n"
     ]
    }
   ],
   "source": [
    "#Installing Pandas. To install, uncomment either line below\n",
    "\n",
    "pip install pandas\n",
    "conda install pandas"
   ]
  },
  {
   "cell_type": "code",
   "execution_count": 121,
   "metadata": {
    "executionInfo": {
     "elapsed": 438,
     "status": "ok",
     "timestamp": 1663441017515,
     "user": {
      "displayName": "Jason Hattrick-Simpers",
      "userId": "05089878327807216172"
     },
     "user_tz": 240
    },
    "id": "eWefeKdQ4Mo_"
   },
   "outputs": [],
   "source": [
    "# Import our modules:\n",
    "\n",
    "import pandas as pd         \n",
    "import numpy as np"
   ]
  },
  {
   "cell_type": "code",
   "execution_count": 122,
   "metadata": {
    "colab": {
     "base_uri": "https://localhost:8080/",
     "height": 36
    },
    "executionInfo": {
     "elapsed": 141,
     "status": "ok",
     "timestamp": 1663441019740,
     "user": {
      "displayName": "Jason Hattrick-Simpers",
      "userId": "05089878327807216172"
     },
     "user_tz": 240
    },
    "id": "7HvwXHKRnZjo",
    "outputId": "9d9e1f64-26d3-4055-dfa0-e08c3392a77a"
   },
   "outputs": [
    {
     "data": {
      "text/plain": [
       "'1.4.2'"
      ]
     },
     "execution_count": 122,
     "metadata": {},
     "output_type": "execute_result"
    }
   ],
   "source": [
    "pd.__version__"
   ]
  },
  {
   "cell_type": "markdown",
   "metadata": {
    "id": "dhUNnpuK4MpB"
   },
   "source": [
    "## Data Series\n",
    "\n",
    "The Series is made up of 2 arrays (index & value) linked to each other. You have a **value column** which can hold data of any NumPy type and each of these values are associated with a label which is provided within the **index column**. "
   ]
  },
  {
   "cell_type": "markdown",
   "metadata": {
    "id": "ZzHocK094MpC"
   },
   "source": [
    "<div>\n",
    "<img src=\"img/series_spreadsheet.png\" width=\"200\">\n",
    "</div>\n",
    "    \n",
    "\n",
    "**Source:** https://codechalleng.es/bites/251/"
   ]
  },
  {
   "cell_type": "markdown",
   "metadata": {
    "id": "fJGGVCYH4MpC"
   },
   "source": [
    "## Data Frames"
   ]
  },
  {
   "cell_type": "markdown",
   "metadata": {
    "id": "O54gPiuh4MpC"
   },
   "source": [
    "A combination of multiple Data Series/Columns, each of which can contain different data types (numeric, string, Boolean, etc.). Given the multidimensional nature of DataFrames, the data values are now linked to 2 different indices: row number and column number"
   ]
  },
  {
   "cell_type": "markdown",
   "metadata": {
    "id": "WI8HWB264MpD"
   },
   "source": [
    "<div>\n",
    "    <img src=\"img/series-and-dataframe.png\" width=\"600\">\n",
    "</div>\n",
    "\n",
    "**Source:** https://www.learndatasci.com/tutorials/python-pandas-tutorial-complete-introduction-for-beginners/"
   ]
  },
  {
   "cell_type": "markdown",
   "metadata": {
    "id": "TTpJJVtq4MpD"
   },
   "source": [
    "### Creating Data Frames"
   ]
  },
  {
   "cell_type": "code",
   "execution_count": 123,
   "metadata": {
    "id": "R8KB6wKK4MpE"
   },
   "outputs": [
    {
     "data": {
      "text/plain": [
       "dict"
      ]
     },
     "execution_count": 123,
     "metadata": {},
     "output_type": "execute_result"
    }
   ],
   "source": [
    "# Easiest way is to convert a dictionary to DF\n",
    "\n",
    "data = {'Countries' : ['Mexico','Spain','England','Argentina','New Zealand'],'Avg Age' : [92.1,55.3,81.5,63,74.5]}\n",
    "type(data)"
   ]
  },
  {
   "cell_type": "code",
   "execution_count": 124,
   "metadata": {
    "id": "6rFXA3O_4MpG",
    "scrolled": true
   },
   "outputs": [
    {
     "data": {
      "text/html": [
       "<div>\n",
       "<style scoped>\n",
       "    .dataframe tbody tr th:only-of-type {\n",
       "        vertical-align: middle;\n",
       "    }\n",
       "\n",
       "    .dataframe tbody tr th {\n",
       "        vertical-align: top;\n",
       "    }\n",
       "\n",
       "    .dataframe thead th {\n",
       "        text-align: right;\n",
       "    }\n",
       "</style>\n",
       "<table border=\"1\" class=\"dataframe\">\n",
       "  <thead>\n",
       "    <tr style=\"text-align: right;\">\n",
       "      <th></th>\n",
       "      <th>Countries</th>\n",
       "      <th>Avg Age</th>\n",
       "    </tr>\n",
       "  </thead>\n",
       "  <tbody>\n",
       "    <tr>\n",
       "      <th>0</th>\n",
       "      <td>Mexico</td>\n",
       "      <td>92.1</td>\n",
       "    </tr>\n",
       "    <tr>\n",
       "      <th>1</th>\n",
       "      <td>Spain</td>\n",
       "      <td>55.3</td>\n",
       "    </tr>\n",
       "    <tr>\n",
       "      <th>2</th>\n",
       "      <td>England</td>\n",
       "      <td>81.5</td>\n",
       "    </tr>\n",
       "    <tr>\n",
       "      <th>3</th>\n",
       "      <td>Argentina</td>\n",
       "      <td>63.0</td>\n",
       "    </tr>\n",
       "    <tr>\n",
       "      <th>4</th>\n",
       "      <td>New Zealand</td>\n",
       "      <td>74.5</td>\n",
       "    </tr>\n",
       "  </tbody>\n",
       "</table>\n",
       "</div>"
      ],
      "text/plain": [
       "     Countries  Avg Age\n",
       "0       Mexico     92.1\n",
       "1        Spain     55.3\n",
       "2      England     81.5\n",
       "3    Argentina     63.0\n",
       "4  New Zealand     74.5"
      ]
     },
     "execution_count": 124,
     "metadata": {},
     "output_type": "execute_result"
    }
   ],
   "source": [
    "df = pd.DataFrame(data)\n",
    "df"
   ]
  },
  {
   "cell_type": "code",
   "execution_count": 126,
   "metadata": {
    "id": "Sqp4UH5H4MpJ",
    "scrolled": true
   },
   "outputs": [
    {
     "data": {
      "text/html": [
       "<div>\n",
       "<style scoped>\n",
       "    .dataframe tbody tr th:only-of-type {\n",
       "        vertical-align: middle;\n",
       "    }\n",
       "\n",
       "    .dataframe tbody tr th {\n",
       "        vertical-align: top;\n",
       "    }\n",
       "\n",
       "    .dataframe thead th {\n",
       "        text-align: right;\n",
       "    }\n",
       "</style>\n",
       "<table border=\"1\" class=\"dataframe\">\n",
       "  <thead>\n",
       "    <tr style=\"text-align: right;\">\n",
       "      <th></th>\n",
       "      <th>Avg Age</th>\n",
       "    </tr>\n",
       "  </thead>\n",
       "  <tbody>\n",
       "    <tr>\n",
       "      <th>0</th>\n",
       "      <td>92.1</td>\n",
       "    </tr>\n",
       "    <tr>\n",
       "      <th>1</th>\n",
       "      <td>55.3</td>\n",
       "    </tr>\n",
       "    <tr>\n",
       "      <th>2</th>\n",
       "      <td>81.5</td>\n",
       "    </tr>\n",
       "    <tr>\n",
       "      <th>3</th>\n",
       "      <td>63.0</td>\n",
       "    </tr>\n",
       "    <tr>\n",
       "      <th>4</th>\n",
       "      <td>74.5</td>\n",
       "    </tr>\n",
       "  </tbody>\n",
       "</table>\n",
       "</div>"
      ],
      "text/plain": [
       "   Avg Age\n",
       "0     92.1\n",
       "1     55.3\n",
       "2     81.5\n",
       "3     63.0\n",
       "4     74.5"
      ]
     },
     "execution_count": 126,
     "metadata": {},
     "output_type": "execute_result"
    }
   ],
   "source": [
    "# We can selecte one or more columns\n",
    "\n",
    "df = pd.DataFrame(data, columns=['Avg Age']) # can export just one col\n",
    "df"
   ]
  },
  {
   "cell_type": "code",
   "execution_count": 127,
   "metadata": {
    "id": "cuSiphMD4MpN"
   },
   "outputs": [
    {
     "data": {
      "text/html": [
       "<div>\n",
       "<style scoped>\n",
       "    .dataframe tbody tr th:only-of-type {\n",
       "        vertical-align: middle;\n",
       "    }\n",
       "\n",
       "    .dataframe tbody tr th {\n",
       "        vertical-align: top;\n",
       "    }\n",
       "\n",
       "    .dataframe thead th {\n",
       "        text-align: right;\n",
       "    }\n",
       "</style>\n",
       "<table border=\"1\" class=\"dataframe\">\n",
       "  <thead>\n",
       "    <tr style=\"text-align: right;\">\n",
       "      <th></th>\n",
       "      <th>Countries</th>\n",
       "      <th>Avg Age</th>\n",
       "    </tr>\n",
       "  </thead>\n",
       "  <tbody>\n",
       "    <tr>\n",
       "      <th>one</th>\n",
       "      <td>Mexico</td>\n",
       "      <td>92.1</td>\n",
       "    </tr>\n",
       "    <tr>\n",
       "      <th>two</th>\n",
       "      <td>Spain</td>\n",
       "      <td>55.3</td>\n",
       "    </tr>\n",
       "    <tr>\n",
       "      <th>three</th>\n",
       "      <td>England</td>\n",
       "      <td>81.5</td>\n",
       "    </tr>\n",
       "    <tr>\n",
       "      <th>four</th>\n",
       "      <td>Argentina</td>\n",
       "      <td>63.0</td>\n",
       "    </tr>\n",
       "    <tr>\n",
       "      <th>five</th>\n",
       "      <td>New Zealand</td>\n",
       "      <td>74.5</td>\n",
       "    </tr>\n",
       "  </tbody>\n",
       "</table>\n",
       "</div>"
      ],
      "text/plain": [
       "         Countries  Avg Age\n",
       "one         Mexico     92.1\n",
       "two          Spain     55.3\n",
       "three      England     81.5\n",
       "four     Argentina     63.0\n",
       "five   New Zealand     74.5"
      ]
     },
     "execution_count": 127,
     "metadata": {},
     "output_type": "execute_result"
    }
   ],
   "source": [
    "# We can explicitly provide labels for indices:\n",
    "\n",
    "df = pd.DataFrame(data, index = ['one', 'two', 'three', 'four', 'five'])\n",
    "df"
   ]
  },
  {
   "cell_type": "markdown",
   "metadata": {
    "id": "KorvyF274MpQ"
   },
   "source": [
    "## Data Extraction (Indexing/Slicing)"
   ]
  },
  {
   "cell_type": "code",
   "execution_count": 129,
   "metadata": {
    "colab": {
     "base_uri": "https://localhost:8080/",
     "height": 377
    },
    "executionInfo": {
     "elapsed": 158,
     "status": "error",
     "timestamp": 1663441050214,
     "user": {
      "displayName": "Jason Hattrick-Simpers",
      "userId": "05089878327807216172"
     },
     "user_tz": 240
    },
    "id": "y3CFSmIonZjs",
    "outputId": "1a8a4ef0-f575-4b2e-cf37-c711bc75d4f9"
   },
   "outputs": [
    {
     "data": {
      "text/html": [
       "<div>\n",
       "<style scoped>\n",
       "    .dataframe tbody tr th:only-of-type {\n",
       "        vertical-align: middle;\n",
       "    }\n",
       "\n",
       "    .dataframe tbody tr th {\n",
       "        vertical-align: top;\n",
       "    }\n",
       "\n",
       "    .dataframe thead th {\n",
       "        text-align: right;\n",
       "    }\n",
       "</style>\n",
       "<table border=\"1\" class=\"dataframe\">\n",
       "  <thead>\n",
       "    <tr style=\"text-align: right;\">\n",
       "      <th></th>\n",
       "      <th>Team</th>\n",
       "      <th>Wins</th>\n",
       "    </tr>\n",
       "  </thead>\n",
       "  <tbody>\n",
       "    <tr>\n",
       "      <th>0</th>\n",
       "      <td>Anaheim Ducks</td>\n",
       "      <td>1</td>\n",
       "    </tr>\n",
       "    <tr>\n",
       "      <th>1</th>\n",
       "      <td>Boston Bruins</td>\n",
       "      <td>6</td>\n",
       "    </tr>\n",
       "    <tr>\n",
       "      <th>2</th>\n",
       "      <td>Calgary Flames</td>\n",
       "      <td>1</td>\n",
       "    </tr>\n",
       "    <tr>\n",
       "      <th>3</th>\n",
       "      <td>Carolina Hurricanes</td>\n",
       "      <td>1</td>\n",
       "    </tr>\n",
       "    <tr>\n",
       "      <th>4</th>\n",
       "      <td>Chicago Blackhawks</td>\n",
       "      <td>6</td>\n",
       "    </tr>\n",
       "    <tr>\n",
       "      <th>5</th>\n",
       "      <td>Colorado Avalanche</td>\n",
       "      <td>2</td>\n",
       "    </tr>\n",
       "    <tr>\n",
       "      <th>6</th>\n",
       "      <td>Dallas Stars</td>\n",
       "      <td>1</td>\n",
       "    </tr>\n",
       "    <tr>\n",
       "      <th>7</th>\n",
       "      <td>Detroit Red Wings</td>\n",
       "      <td>11</td>\n",
       "    </tr>\n",
       "    <tr>\n",
       "      <th>8</th>\n",
       "      <td>Edmonton Oilers</td>\n",
       "      <td>5</td>\n",
       "    </tr>\n",
       "    <tr>\n",
       "      <th>9</th>\n",
       "      <td>Los Angeles Kings</td>\n",
       "      <td>2</td>\n",
       "    </tr>\n",
       "    <tr>\n",
       "      <th>10</th>\n",
       "      <td>Montréal Canadiens</td>\n",
       "      <td>23</td>\n",
       "    </tr>\n",
       "    <tr>\n",
       "      <th>11</th>\n",
       "      <td>Montreal Maroons</td>\n",
       "      <td>2</td>\n",
       "    </tr>\n",
       "    <tr>\n",
       "      <th>12</th>\n",
       "      <td>New Jersey Devils</td>\n",
       "      <td>3</td>\n",
       "    </tr>\n",
       "    <tr>\n",
       "      <th>13</th>\n",
       "      <td>New York Islanders</td>\n",
       "      <td>4</td>\n",
       "    </tr>\n",
       "    <tr>\n",
       "      <th>14</th>\n",
       "      <td>New York Rangers</td>\n",
       "      <td>4</td>\n",
       "    </tr>\n",
       "    <tr>\n",
       "      <th>15</th>\n",
       "      <td>Philadelphia Flyers</td>\n",
       "      <td>2</td>\n",
       "    </tr>\n",
       "    <tr>\n",
       "      <th>16</th>\n",
       "      <td>Pittsburgh Penguins</td>\n",
       "      <td>5</td>\n",
       "    </tr>\n",
       "    <tr>\n",
       "      <th>17</th>\n",
       "      <td>St. Louis Blues</td>\n",
       "      <td>1</td>\n",
       "    </tr>\n",
       "    <tr>\n",
       "      <th>18</th>\n",
       "      <td>St. Louis Eagles</td>\n",
       "      <td>4</td>\n",
       "    </tr>\n",
       "    <tr>\n",
       "      <th>19</th>\n",
       "      <td>Tampa Bay Lightning</td>\n",
       "      <td>3</td>\n",
       "    </tr>\n",
       "    <tr>\n",
       "      <th>20</th>\n",
       "      <td>Toronto Maple Leafs</td>\n",
       "      <td>13</td>\n",
       "    </tr>\n",
       "    <tr>\n",
       "      <th>21</th>\n",
       "      <td>Washington Capitals</td>\n",
       "      <td>1</td>\n",
       "    </tr>\n",
       "  </tbody>\n",
       "</table>\n",
       "</div>"
      ],
      "text/plain": [
       "                   Team  Wins\n",
       "0         Anaheim Ducks     1\n",
       "1         Boston Bruins     6\n",
       "2        Calgary Flames     1\n",
       "3   Carolina Hurricanes     1\n",
       "4    Chicago Blackhawks     6\n",
       "5    Colorado Avalanche     2\n",
       "6          Dallas Stars     1\n",
       "7     Detroit Red Wings    11\n",
       "8       Edmonton Oilers     5\n",
       "9     Los Angeles Kings     2\n",
       "10   Montréal Canadiens    23\n",
       "11     Montreal Maroons     2\n",
       "12    New Jersey Devils     3\n",
       "13   New York Islanders     4\n",
       "14     New York Rangers     4\n",
       "15  Philadelphia Flyers     2\n",
       "16  Pittsburgh Penguins     5\n",
       "17      St. Louis Blues     1\n",
       "18     St. Louis Eagles     4\n",
       "19  Tampa Bay Lightning     3\n",
       "20  Toronto Maple Leafs    13\n",
       "21  Washington Capitals     1"
      ]
     },
     "execution_count": 129,
     "metadata": {},
     "output_type": "execute_result"
    }
   ],
   "source": [
    "#importing data from excel file\n",
    "\n",
    "file = \"Stanely_cup_winners.xlsx\"\n",
    "df = pd.read_excel(file)\n",
    "df"
   ]
  },
  {
   "cell_type": "code",
   "execution_count": 130,
   "metadata": {
    "id": "j53UAv8s4MpT"
   },
   "outputs": [
    {
     "data": {
      "text/plain": [
       "Index(['Team', 'Wins'], dtype='object')"
      ]
     },
     "execution_count": 130,
     "metadata": {},
     "output_type": "execute_result"
    }
   ],
   "source": [
    "# Obtain the column labels using Df.columns \n",
    "\n",
    "df.columns"
   ]
  },
  {
   "cell_type": "code",
   "execution_count": 131,
   "metadata": {
    "id": "JqYN59Jb4MpW"
   },
   "outputs": [
    {
     "data": {
      "text/plain": [
       "RangeIndex(start=0, stop=22, step=1)"
      ]
     },
     "execution_count": 131,
     "metadata": {},
     "output_type": "execute_result"
    }
   ],
   "source": [
    "# Obtain the index labels using Df.index \n",
    "\n",
    "df.index"
   ]
  },
  {
   "cell_type": "code",
   "execution_count": 132,
   "metadata": {
    "id": "XdMkTNR04MpY"
   },
   "outputs": [
    {
     "data": {
      "text/plain": [
       "array([['Anaheim Ducks', 1],\n",
       "       ['Boston Bruins', 6],\n",
       "       ['Calgary Flames', 1],\n",
       "       ['Carolina Hurricanes', 1],\n",
       "       ['Chicago Blackhawks', 6],\n",
       "       ['Colorado Avalanche', 2],\n",
       "       ['Dallas Stars', 1],\n",
       "       ['Detroit Red Wings', 11],\n",
       "       ['Edmonton Oilers', 5],\n",
       "       ['Los Angeles Kings', 2],\n",
       "       ['Montréal Canadiens', 23],\n",
       "       ['Montreal Maroons', 2],\n",
       "       ['New Jersey Devils', 3],\n",
       "       ['New York Islanders', 4],\n",
       "       ['New York Rangers', 4],\n",
       "       ['Philadelphia Flyers', 2],\n",
       "       ['Pittsburgh Penguins', 5],\n",
       "       ['St. Louis Blues', 1],\n",
       "       ['St. Louis Eagles', 4],\n",
       "       ['Tampa Bay Lightning', 3],\n",
       "       ['Toronto Maple Leafs', 13],\n",
       "       ['Washington Capitals', 1]], dtype=object)"
      ]
     },
     "execution_count": 132,
     "metadata": {},
     "output_type": "execute_result"
    }
   ],
   "source": [
    "# Obtain the values using Df.values (row by row):\n",
    "\n",
    "df.values"
   ]
  },
  {
   "cell_type": "code",
   "execution_count": 133,
   "metadata": {
    "id": "T2XGHnlC4Mpa"
   },
   "outputs": [
    {
     "data": {
      "text/plain": [
       "0           Anaheim Ducks\n",
       "1           Boston Bruins\n",
       "2          Calgary Flames\n",
       "3     Carolina Hurricanes\n",
       "4      Chicago Blackhawks\n",
       "5      Colorado Avalanche\n",
       "6            Dallas Stars\n",
       "7       Detroit Red Wings\n",
       "8         Edmonton Oilers\n",
       "9       Los Angeles Kings\n",
       "10     Montréal Canadiens\n",
       "11       Montreal Maroons\n",
       "12      New Jersey Devils\n",
       "13     New York Islanders\n",
       "14       New York Rangers\n",
       "15    Philadelphia Flyers\n",
       "16    Pittsburgh Penguins\n",
       "17        St. Louis Blues\n",
       "18       St. Louis Eagles\n",
       "19    Tampa Bay Lightning\n",
       "20    Toronto Maple Leafs\n",
       "21    Washington Capitals\n",
       "Name: Team, dtype: object"
      ]
     },
     "execution_count": 133,
     "metadata": {},
     "output_type": "execute_result"
    }
   ],
   "source": [
    "# Obtain the values in a given column: df['column label']:\n",
    "\n",
    "df['Team']"
   ]
  },
  {
   "cell_type": "code",
   "execution_count": 134,
   "metadata": {
    "id": "JEYUhaCj4Mpd"
   },
   "outputs": [
    {
     "data": {
      "text/plain": [
       "pandas.core.series.Series"
      ]
     },
     "execution_count": 134,
     "metadata": {},
     "output_type": "execute_result"
    }
   ],
   "source": [
    "# The result of slicing a column is a Series:\n",
    "\n",
    "type(df['Team'])"
   ]
  },
  {
   "cell_type": "code",
   "execution_count": 135,
   "metadata": {
    "id": "RWX97TaL4Mpf"
   },
   "outputs": [
    {
     "data": {
      "text/plain": [
       "0           Anaheim Ducks\n",
       "1           Boston Bruins\n",
       "2          Calgary Flames\n",
       "3     Carolina Hurricanes\n",
       "4      Chicago Blackhawks\n",
       "5      Colorado Avalanche\n",
       "6            Dallas Stars\n",
       "7       Detroit Red Wings\n",
       "8         Edmonton Oilers\n",
       "9       Los Angeles Kings\n",
       "10     Montréal Canadiens\n",
       "11       Montreal Maroons\n",
       "12      New Jersey Devils\n",
       "13     New York Islanders\n",
       "14       New York Rangers\n",
       "15    Philadelphia Flyers\n",
       "16    Pittsburgh Penguins\n",
       "17        St. Louis Blues\n",
       "18       St. Louis Eagles\n",
       "19    Tampa Bay Lightning\n",
       "20    Toronto Maple Leafs\n",
       "21    Washington Capitals\n",
       "Name: Team, dtype: object"
      ]
     },
     "execution_count": 135,
     "metadata": {},
     "output_type": "execute_result"
    }
   ],
   "source": [
    "# We can also extract the values in a column by calling the column label as an attribute of the Dataframe:\n",
    "\n",
    "df.Team\n"
   ]
  },
  {
   "cell_type": "code",
   "execution_count": 137,
   "metadata": {
    "id": "-CvoCRJe4Mph"
   },
   "outputs": [
    {
     "data": {
      "text/plain": [
       "Team    Boston Bruins\n",
       "Wins                6\n",
       "Name: 1, dtype: object"
      ]
     },
     "execution_count": 137,
     "metadata": {},
     "output_type": "execute_result"
    }
   ],
   "source": [
    "# Extracting rows using the iloc\n",
    "\n",
    "df.iloc[1]"
   ]
  },
  {
   "cell_type": "code",
   "execution_count": 145,
   "metadata": {
    "id": "RUSfEOXv4Mpj",
    "scrolled": true
   },
   "outputs": [
    {
     "data": {
      "text/html": [
       "<div>\n",
       "<style scoped>\n",
       "    .dataframe tbody tr th:only-of-type {\n",
       "        vertical-align: middle;\n",
       "    }\n",
       "\n",
       "    .dataframe tbody tr th {\n",
       "        vertical-align: top;\n",
       "    }\n",
       "\n",
       "    .dataframe thead th {\n",
       "        text-align: right;\n",
       "    }\n",
       "</style>\n",
       "<table border=\"1\" class=\"dataframe\">\n",
       "  <thead>\n",
       "    <tr style=\"text-align: right;\">\n",
       "      <th></th>\n",
       "      <th>Team</th>\n",
       "      <th>Wins</th>\n",
       "    </tr>\n",
       "  </thead>\n",
       "  <tbody>\n",
       "    <tr>\n",
       "      <th>0</th>\n",
       "      <td>Anaheim Ducks</td>\n",
       "      <td>1</td>\n",
       "    </tr>\n",
       "    <tr>\n",
       "      <th>1</th>\n",
       "      <td>Boston Bruins</td>\n",
       "      <td>6</td>\n",
       "    </tr>\n",
       "    <tr>\n",
       "      <th>2</th>\n",
       "      <td>Calgary Flames</td>\n",
       "      <td>1</td>\n",
       "    </tr>\n",
       "  </tbody>\n",
       "</table>\n",
       "</div>"
      ],
      "text/plain": [
       "             Team  Wins\n",
       "0   Anaheim Ducks     1\n",
       "1   Boston Bruins     6\n",
       "2  Calgary Flames     1"
      ]
     },
     "execution_count": 145,
     "metadata": {},
     "output_type": "execute_result"
    }
   ],
   "source": [
    "# This can be used for multiple rows:\n",
    "\n",
    "#What are the top three teams that won Stanley Cup?\n",
    "\n",
    "df.iloc[[0,1,2]]\n",
    "df.loc[[0,1,2]]"
   ]
  },
  {
   "cell_type": "code",
   "execution_count": 146,
   "metadata": {
    "id": "mdnOx6pK4Mpl",
    "scrolled": true
   },
   "outputs": [
    {
     "data": {
      "text/html": [
       "<div>\n",
       "<style scoped>\n",
       "    .dataframe tbody tr th:only-of-type {\n",
       "        vertical-align: middle;\n",
       "    }\n",
       "\n",
       "    .dataframe tbody tr th {\n",
       "        vertical-align: top;\n",
       "    }\n",
       "\n",
       "    .dataframe thead th {\n",
       "        text-align: right;\n",
       "    }\n",
       "</style>\n",
       "<table border=\"1\" class=\"dataframe\">\n",
       "  <thead>\n",
       "    <tr style=\"text-align: right;\">\n",
       "      <th></th>\n",
       "      <th>Team</th>\n",
       "      <th>Wins</th>\n",
       "    </tr>\n",
       "  </thead>\n",
       "  <tbody>\n",
       "    <tr>\n",
       "      <th>20</th>\n",
       "      <td>Toronto Maple Leafs</td>\n",
       "      <td>13</td>\n",
       "    </tr>\n",
       "    <tr>\n",
       "      <th>21</th>\n",
       "      <td>Washington Capitals</td>\n",
       "      <td>1</td>\n",
       "    </tr>\n",
       "  </tbody>\n",
       "</table>\n",
       "</div>"
      ],
      "text/plain": [
       "                   Team  Wins\n",
       "20  Toronto Maple Leafs    13\n",
       "21  Washington Capitals     1"
      ]
     },
     "execution_count": 146,
     "metadata": {},
     "output_type": "execute_result"
    }
   ],
   "source": [
    "# We can also obtain a range using a slicing approach:\n",
    "\n",
    "df.loc[20:]"
   ]
  },
  {
   "cell_type": "code",
   "execution_count": 158,
   "metadata": {
    "id": "4vM7IzUR4Mpn"
   },
   "outputs": [
    {
     "data": {
      "text/plain": [
       "'Anaheim Ducks'"
      ]
     },
     "execution_count": 158,
     "metadata": {},
     "output_type": "execute_result"
    }
   ],
   "source": [
    "# Get a single value from cell index\n",
    "\n",
    "df['Team'][0]"
   ]
  },
  {
   "cell_type": "code",
   "execution_count": 141,
   "metadata": {
    "id": "FyZdezJMnZjy"
   },
   "outputs": [
    {
     "data": {
      "text/plain": [
       "'Anaheim Ducks'"
      ]
     },
     "execution_count": 141,
     "metadata": {},
     "output_type": "execute_result"
    }
   ],
   "source": [
    "#Another way of doing this\n",
    "\n",
    "df.loc[0][0] #[row][column]"
   ]
  },
  {
   "cell_type": "code",
   "execution_count": 156,
   "metadata": {
    "id": "1tWAYSFRnZjy"
   },
   "outputs": [
    {
     "data": {
      "text/plain": [
       "20"
      ]
     },
     "execution_count": 156,
     "metadata": {},
     "output_type": "execute_result"
    }
   ],
   "source": [
    "#Can we get the index of a certain value? similar to the find function in Excel\n",
    "\n",
    "df['Team'].where(df['Team'] == 'Toronto Maple Leafs').dropna().index[0]"
   ]
  },
  {
   "cell_type": "markdown",
   "metadata": {
    "id": "ZbzQfCKU4Mpp"
   },
   "source": [
    "## Assigning new Values"
   ]
  },
  {
   "cell_type": "markdown",
   "metadata": {
    "id": "YBN0Fr0J4Mp0"
   },
   "source": [
    "### Adding & Deleting Columns:"
   ]
  },
  {
   "cell_type": "code",
   "execution_count": 147,
   "metadata": {
    "id": "L5N_A7fI4Mp0"
   },
   "outputs": [
    {
     "data": {
      "text/html": [
       "<div>\n",
       "<style scoped>\n",
       "    .dataframe tbody tr th:only-of-type {\n",
       "        vertical-align: middle;\n",
       "    }\n",
       "\n",
       "    .dataframe tbody tr th {\n",
       "        vertical-align: top;\n",
       "    }\n",
       "\n",
       "    .dataframe thead th {\n",
       "        text-align: right;\n",
       "    }\n",
       "</style>\n",
       "<table border=\"1\" class=\"dataframe\">\n",
       "  <thead>\n",
       "    <tr style=\"text-align: right;\">\n",
       "      <th></th>\n",
       "      <th>Team</th>\n",
       "      <th>Wins</th>\n",
       "      <th>Country</th>\n",
       "    </tr>\n",
       "  </thead>\n",
       "  <tbody>\n",
       "    <tr>\n",
       "      <th>0</th>\n",
       "      <td>Anaheim Ducks</td>\n",
       "      <td>1</td>\n",
       "      <td>US</td>\n",
       "    </tr>\n",
       "    <tr>\n",
       "      <th>1</th>\n",
       "      <td>Boston Bruins</td>\n",
       "      <td>6</td>\n",
       "      <td>US</td>\n",
       "    </tr>\n",
       "    <tr>\n",
       "      <th>2</th>\n",
       "      <td>Calgary Flames</td>\n",
       "      <td>1</td>\n",
       "      <td>US</td>\n",
       "    </tr>\n",
       "    <tr>\n",
       "      <th>3</th>\n",
       "      <td>Carolina Hurricanes</td>\n",
       "      <td>1</td>\n",
       "      <td>US</td>\n",
       "    </tr>\n",
       "    <tr>\n",
       "      <th>4</th>\n",
       "      <td>Chicago Blackhawks</td>\n",
       "      <td>6</td>\n",
       "      <td>US</td>\n",
       "    </tr>\n",
       "    <tr>\n",
       "      <th>5</th>\n",
       "      <td>Colorado Avalanche</td>\n",
       "      <td>2</td>\n",
       "      <td>US</td>\n",
       "    </tr>\n",
       "    <tr>\n",
       "      <th>6</th>\n",
       "      <td>Dallas Stars</td>\n",
       "      <td>1</td>\n",
       "      <td>US</td>\n",
       "    </tr>\n",
       "    <tr>\n",
       "      <th>7</th>\n",
       "      <td>Detroit Red Wings</td>\n",
       "      <td>11</td>\n",
       "      <td>US</td>\n",
       "    </tr>\n",
       "    <tr>\n",
       "      <th>8</th>\n",
       "      <td>Edmonton Oilers</td>\n",
       "      <td>5</td>\n",
       "      <td>US</td>\n",
       "    </tr>\n",
       "    <tr>\n",
       "      <th>9</th>\n",
       "      <td>Los Angeles Kings</td>\n",
       "      <td>2</td>\n",
       "      <td>US</td>\n",
       "    </tr>\n",
       "    <tr>\n",
       "      <th>10</th>\n",
       "      <td>Montréal Canadiens</td>\n",
       "      <td>23</td>\n",
       "      <td>US</td>\n",
       "    </tr>\n",
       "    <tr>\n",
       "      <th>11</th>\n",
       "      <td>Montreal Maroons</td>\n",
       "      <td>2</td>\n",
       "      <td>US</td>\n",
       "    </tr>\n",
       "    <tr>\n",
       "      <th>12</th>\n",
       "      <td>New Jersey Devils</td>\n",
       "      <td>3</td>\n",
       "      <td>US</td>\n",
       "    </tr>\n",
       "    <tr>\n",
       "      <th>13</th>\n",
       "      <td>New York Islanders</td>\n",
       "      <td>4</td>\n",
       "      <td>US</td>\n",
       "    </tr>\n",
       "    <tr>\n",
       "      <th>14</th>\n",
       "      <td>New York Rangers</td>\n",
       "      <td>4</td>\n",
       "      <td>US</td>\n",
       "    </tr>\n",
       "    <tr>\n",
       "      <th>15</th>\n",
       "      <td>Philadelphia Flyers</td>\n",
       "      <td>2</td>\n",
       "      <td>US</td>\n",
       "    </tr>\n",
       "    <tr>\n",
       "      <th>16</th>\n",
       "      <td>Pittsburgh Penguins</td>\n",
       "      <td>5</td>\n",
       "      <td>US</td>\n",
       "    </tr>\n",
       "    <tr>\n",
       "      <th>17</th>\n",
       "      <td>St. Louis Blues</td>\n",
       "      <td>1</td>\n",
       "      <td>US</td>\n",
       "    </tr>\n",
       "    <tr>\n",
       "      <th>18</th>\n",
       "      <td>St. Louis Eagles</td>\n",
       "      <td>4</td>\n",
       "      <td>US</td>\n",
       "    </tr>\n",
       "    <tr>\n",
       "      <th>19</th>\n",
       "      <td>Tampa Bay Lightning</td>\n",
       "      <td>3</td>\n",
       "      <td>US</td>\n",
       "    </tr>\n",
       "    <tr>\n",
       "      <th>20</th>\n",
       "      <td>Toronto Maple Leafs</td>\n",
       "      <td>13</td>\n",
       "      <td>US</td>\n",
       "    </tr>\n",
       "    <tr>\n",
       "      <th>21</th>\n",
       "      <td>Washington Capitals</td>\n",
       "      <td>1</td>\n",
       "      <td>US</td>\n",
       "    </tr>\n",
       "  </tbody>\n",
       "</table>\n",
       "</div>"
      ],
      "text/plain": [
       "                   Team  Wins Country\n",
       "0         Anaheim Ducks     1      US\n",
       "1         Boston Bruins     6      US\n",
       "2        Calgary Flames     1      US\n",
       "3   Carolina Hurricanes     1      US\n",
       "4    Chicago Blackhawks     6      US\n",
       "5    Colorado Avalanche     2      US\n",
       "6          Dallas Stars     1      US\n",
       "7     Detroit Red Wings    11      US\n",
       "8       Edmonton Oilers     5      US\n",
       "9     Los Angeles Kings     2      US\n",
       "10   Montréal Canadiens    23      US\n",
       "11     Montreal Maroons     2      US\n",
       "12    New Jersey Devils     3      US\n",
       "13   New York Islanders     4      US\n",
       "14     New York Rangers     4      US\n",
       "15  Philadelphia Flyers     2      US\n",
       "16  Pittsburgh Penguins     5      US\n",
       "17      St. Louis Blues     1      US\n",
       "18     St. Louis Eagles     4      US\n",
       "19  Tampa Bay Lightning     3      US\n",
       "20  Toronto Maple Leafs    13      US\n",
       "21  Washington Capitals     1      US"
      ]
     },
     "execution_count": 147,
     "metadata": {},
     "output_type": "execute_result"
    }
   ],
   "source": [
    "# Adding a column is simple, provide the name followed by = value(s)\n",
    "\n",
    "df['Country'] = [\n",
    "                    'US',\n",
    "                    'US',\n",
    "                    'US',\n",
    "                    'US',\n",
    "                    'US',\n",
    "                    'US',\n",
    "                    'US',\n",
    "                    'US',\n",
    "                    'US',\n",
    "                    'US',\n",
    "                    'US',\n",
    "                    'US',\n",
    "                    'US',\n",
    "                    'US',\n",
    "                    'US',\n",
    "                    'US',\n",
    "                    'US',\n",
    "                    'US',\n",
    "                    'US',\n",
    "                    'US',\n",
    "                    'US',\n",
    "                    'US',\n",
    "                ]\n",
    "df"
   ]
  },
  {
   "cell_type": "code",
   "execution_count": 148,
   "metadata": {
    "id": "VO7vplsI4Mp2",
    "scrolled": true
   },
   "outputs": [
    {
     "data": {
      "text/html": [
       "<div>\n",
       "<style scoped>\n",
       "    .dataframe tbody tr th:only-of-type {\n",
       "        vertical-align: middle;\n",
       "    }\n",
       "\n",
       "    .dataframe tbody tr th {\n",
       "        vertical-align: top;\n",
       "    }\n",
       "\n",
       "    .dataframe thead th {\n",
       "        text-align: right;\n",
       "    }\n",
       "</style>\n",
       "<table border=\"1\" class=\"dataframe\">\n",
       "  <thead>\n",
       "    <tr style=\"text-align: right;\">\n",
       "      <th></th>\n",
       "      <th>Team</th>\n",
       "      <th>Wins</th>\n",
       "    </tr>\n",
       "  </thead>\n",
       "  <tbody>\n",
       "    <tr>\n",
       "      <th>0</th>\n",
       "      <td>Anaheim Ducks</td>\n",
       "      <td>1</td>\n",
       "    </tr>\n",
       "    <tr>\n",
       "      <th>1</th>\n",
       "      <td>Boston Bruins</td>\n",
       "      <td>6</td>\n",
       "    </tr>\n",
       "    <tr>\n",
       "      <th>2</th>\n",
       "      <td>Calgary Flames</td>\n",
       "      <td>1</td>\n",
       "    </tr>\n",
       "    <tr>\n",
       "      <th>3</th>\n",
       "      <td>Carolina Hurricanes</td>\n",
       "      <td>1</td>\n",
       "    </tr>\n",
       "    <tr>\n",
       "      <th>4</th>\n",
       "      <td>Chicago Blackhawks</td>\n",
       "      <td>6</td>\n",
       "    </tr>\n",
       "    <tr>\n",
       "      <th>5</th>\n",
       "      <td>Colorado Avalanche</td>\n",
       "      <td>2</td>\n",
       "    </tr>\n",
       "    <tr>\n",
       "      <th>6</th>\n",
       "      <td>Dallas Stars</td>\n",
       "      <td>1</td>\n",
       "    </tr>\n",
       "    <tr>\n",
       "      <th>7</th>\n",
       "      <td>Detroit Red Wings</td>\n",
       "      <td>11</td>\n",
       "    </tr>\n",
       "    <tr>\n",
       "      <th>8</th>\n",
       "      <td>Edmonton Oilers</td>\n",
       "      <td>5</td>\n",
       "    </tr>\n",
       "    <tr>\n",
       "      <th>9</th>\n",
       "      <td>Los Angeles Kings</td>\n",
       "      <td>2</td>\n",
       "    </tr>\n",
       "    <tr>\n",
       "      <th>10</th>\n",
       "      <td>Montréal Canadiens</td>\n",
       "      <td>23</td>\n",
       "    </tr>\n",
       "    <tr>\n",
       "      <th>11</th>\n",
       "      <td>Montreal Maroons</td>\n",
       "      <td>2</td>\n",
       "    </tr>\n",
       "    <tr>\n",
       "      <th>12</th>\n",
       "      <td>New Jersey Devils</td>\n",
       "      <td>3</td>\n",
       "    </tr>\n",
       "    <tr>\n",
       "      <th>13</th>\n",
       "      <td>New York Islanders</td>\n",
       "      <td>4</td>\n",
       "    </tr>\n",
       "    <tr>\n",
       "      <th>14</th>\n",
       "      <td>New York Rangers</td>\n",
       "      <td>4</td>\n",
       "    </tr>\n",
       "    <tr>\n",
       "      <th>15</th>\n",
       "      <td>Philadelphia Flyers</td>\n",
       "      <td>2</td>\n",
       "    </tr>\n",
       "    <tr>\n",
       "      <th>16</th>\n",
       "      <td>Pittsburgh Penguins</td>\n",
       "      <td>5</td>\n",
       "    </tr>\n",
       "    <tr>\n",
       "      <th>17</th>\n",
       "      <td>St. Louis Blues</td>\n",
       "      <td>1</td>\n",
       "    </tr>\n",
       "    <tr>\n",
       "      <th>18</th>\n",
       "      <td>St. Louis Eagles</td>\n",
       "      <td>4</td>\n",
       "    </tr>\n",
       "    <tr>\n",
       "      <th>19</th>\n",
       "      <td>Tampa Bay Lightning</td>\n",
       "      <td>3</td>\n",
       "    </tr>\n",
       "    <tr>\n",
       "      <th>20</th>\n",
       "      <td>Toronto Maple Leafs</td>\n",
       "      <td>13</td>\n",
       "    </tr>\n",
       "    <tr>\n",
       "      <th>21</th>\n",
       "      <td>Washington Capitals</td>\n",
       "      <td>1</td>\n",
       "    </tr>\n",
       "  </tbody>\n",
       "</table>\n",
       "</div>"
      ],
      "text/plain": [
       "                   Team  Wins\n",
       "0         Anaheim Ducks     1\n",
       "1         Boston Bruins     6\n",
       "2        Calgary Flames     1\n",
       "3   Carolina Hurricanes     1\n",
       "4    Chicago Blackhawks     6\n",
       "5    Colorado Avalanche     2\n",
       "6          Dallas Stars     1\n",
       "7     Detroit Red Wings    11\n",
       "8       Edmonton Oilers     5\n",
       "9     Los Angeles Kings     2\n",
       "10   Montréal Canadiens    23\n",
       "11     Montreal Maroons     2\n",
       "12    New Jersey Devils     3\n",
       "13   New York Islanders     4\n",
       "14     New York Rangers     4\n",
       "15  Philadelphia Flyers     2\n",
       "16  Pittsburgh Penguins     5\n",
       "17      St. Louis Blues     1\n",
       "18     St. Louis Eagles     4\n",
       "19  Tampa Bay Lightning     3\n",
       "20  Toronto Maple Leafs    13\n",
       "21  Washington Capitals     1"
      ]
     },
     "execution_count": 148,
     "metadata": {},
     "output_type": "execute_result"
    }
   ],
   "source": [
    "# Deleting is also easy: del df['column name']. Note: it is not recommended to modify the original dataframe.\n",
    "\n",
    "del df['Country']\n",
    "df"
   ]
  },
  {
   "cell_type": "code",
   "execution_count": 149,
   "metadata": {
    "id": "cHev0g-WykDM"
   },
   "outputs": [],
   "source": [
    "df['Country'] = [\n",
    "                    'US',\n",
    "                    'US',\n",
    "                    'US',\n",
    "                    'US',\n",
    "                    'US',\n",
    "                    'US',\n",
    "                    'US',\n",
    "                    'US',\n",
    "                    'US',\n",
    "                    'US',\n",
    "                    'US',\n",
    "                    'US',\n",
    "                    'US',\n",
    "                    'US',\n",
    "                    'US',\n",
    "                    'US',\n",
    "                    'US',\n",
    "                    'US',\n",
    "                    'US',\n",
    "                    'US',\n",
    "                    'US',\n",
    "                    'US',\n",
    "                ]"
   ]
  },
  {
   "cell_type": "code",
   "execution_count": 150,
   "metadata": {
    "id": "twLwlDRt4Mp5",
    "scrolled": true
   },
   "outputs": [
    {
     "data": {
      "text/html": [
       "<div>\n",
       "<style scoped>\n",
       "    .dataframe tbody tr th:only-of-type {\n",
       "        vertical-align: middle;\n",
       "    }\n",
       "\n",
       "    .dataframe tbody tr th {\n",
       "        vertical-align: top;\n",
       "    }\n",
       "\n",
       "    .dataframe thead th {\n",
       "        text-align: right;\n",
       "    }\n",
       "</style>\n",
       "<table border=\"1\" class=\"dataframe\">\n",
       "  <thead>\n",
       "    <tr style=\"text-align: right;\">\n",
       "      <th></th>\n",
       "      <th>Team</th>\n",
       "      <th>Wins</th>\n",
       "    </tr>\n",
       "  </thead>\n",
       "  <tbody>\n",
       "    <tr>\n",
       "      <th>0</th>\n",
       "      <td>Anaheim Ducks</td>\n",
       "      <td>1</td>\n",
       "    </tr>\n",
       "    <tr>\n",
       "      <th>1</th>\n",
       "      <td>Boston Bruins</td>\n",
       "      <td>6</td>\n",
       "    </tr>\n",
       "    <tr>\n",
       "      <th>2</th>\n",
       "      <td>Calgary Flames</td>\n",
       "      <td>1</td>\n",
       "    </tr>\n",
       "    <tr>\n",
       "      <th>3</th>\n",
       "      <td>Carolina Hurricanes</td>\n",
       "      <td>1</td>\n",
       "    </tr>\n",
       "    <tr>\n",
       "      <th>4</th>\n",
       "      <td>Chicago Blackhawks</td>\n",
       "      <td>6</td>\n",
       "    </tr>\n",
       "    <tr>\n",
       "      <th>5</th>\n",
       "      <td>Colorado Avalanche</td>\n",
       "      <td>2</td>\n",
       "    </tr>\n",
       "    <tr>\n",
       "      <th>6</th>\n",
       "      <td>Dallas Stars</td>\n",
       "      <td>1</td>\n",
       "    </tr>\n",
       "    <tr>\n",
       "      <th>7</th>\n",
       "      <td>Detroit Red Wings</td>\n",
       "      <td>11</td>\n",
       "    </tr>\n",
       "    <tr>\n",
       "      <th>8</th>\n",
       "      <td>Edmonton Oilers</td>\n",
       "      <td>5</td>\n",
       "    </tr>\n",
       "    <tr>\n",
       "      <th>9</th>\n",
       "      <td>Los Angeles Kings</td>\n",
       "      <td>2</td>\n",
       "    </tr>\n",
       "    <tr>\n",
       "      <th>10</th>\n",
       "      <td>Montréal Canadiens</td>\n",
       "      <td>23</td>\n",
       "    </tr>\n",
       "    <tr>\n",
       "      <th>11</th>\n",
       "      <td>Montreal Maroons</td>\n",
       "      <td>2</td>\n",
       "    </tr>\n",
       "    <tr>\n",
       "      <th>12</th>\n",
       "      <td>New Jersey Devils</td>\n",
       "      <td>3</td>\n",
       "    </tr>\n",
       "    <tr>\n",
       "      <th>13</th>\n",
       "      <td>New York Islanders</td>\n",
       "      <td>4</td>\n",
       "    </tr>\n",
       "    <tr>\n",
       "      <th>14</th>\n",
       "      <td>New York Rangers</td>\n",
       "      <td>4</td>\n",
       "    </tr>\n",
       "    <tr>\n",
       "      <th>15</th>\n",
       "      <td>Philadelphia Flyers</td>\n",
       "      <td>2</td>\n",
       "    </tr>\n",
       "    <tr>\n",
       "      <th>16</th>\n",
       "      <td>Pittsburgh Penguins</td>\n",
       "      <td>5</td>\n",
       "    </tr>\n",
       "    <tr>\n",
       "      <th>17</th>\n",
       "      <td>St. Louis Blues</td>\n",
       "      <td>1</td>\n",
       "    </tr>\n",
       "    <tr>\n",
       "      <th>18</th>\n",
       "      <td>St. Louis Eagles</td>\n",
       "      <td>4</td>\n",
       "    </tr>\n",
       "    <tr>\n",
       "      <th>19</th>\n",
       "      <td>Tampa Bay Lightning</td>\n",
       "      <td>3</td>\n",
       "    </tr>\n",
       "    <tr>\n",
       "      <th>20</th>\n",
       "      <td>Toronto Maple Leafs</td>\n",
       "      <td>13</td>\n",
       "    </tr>\n",
       "    <tr>\n",
       "      <th>21</th>\n",
       "      <td>Washington Capitals</td>\n",
       "      <td>1</td>\n",
       "    </tr>\n",
       "  </tbody>\n",
       "</table>\n",
       "</div>"
      ],
      "text/plain": [
       "                   Team  Wins\n",
       "0         Anaheim Ducks     1\n",
       "1         Boston Bruins     6\n",
       "2        Calgary Flames     1\n",
       "3   Carolina Hurricanes     1\n",
       "4    Chicago Blackhawks     6\n",
       "5    Colorado Avalanche     2\n",
       "6          Dallas Stars     1\n",
       "7     Detroit Red Wings    11\n",
       "8       Edmonton Oilers     5\n",
       "9     Los Angeles Kings     2\n",
       "10   Montréal Canadiens    23\n",
       "11     Montreal Maroons     2\n",
       "12    New Jersey Devils     3\n",
       "13   New York Islanders     4\n",
       "14     New York Rangers     4\n",
       "15  Philadelphia Flyers     2\n",
       "16  Pittsburgh Penguins     5\n",
       "17      St. Louis Blues     1\n",
       "18     St. Louis Eagles     4\n",
       "19  Tampa Bay Lightning     3\n",
       "20  Toronto Maple Leafs    13\n",
       "21  Washington Capitals     1"
      ]
     },
     "execution_count": 150,
     "metadata": {},
     "output_type": "execute_result"
    }
   ],
   "source": [
    "# We can also delete the columns using the df.drop() function:\n",
    "\n",
    "df2 = df.drop(['Country'], axis=1)       # Axis 1 = columns, 0 = Rows\n",
    "df2"
   ]
  },
  {
   "cell_type": "code",
   "execution_count": 151,
   "metadata": {},
   "outputs": [
    {
     "data": {
      "text/plain": [
       "0     US\n",
       "1     US\n",
       "2     US\n",
       "3     US\n",
       "4     US\n",
       "5     US\n",
       "6     US\n",
       "7     US\n",
       "8     US\n",
       "9     US\n",
       "10    US\n",
       "11    US\n",
       "12    US\n",
       "13    US\n",
       "14    US\n",
       "15    US\n",
       "16    US\n",
       "17    US\n",
       "18    US\n",
       "19    US\n",
       "20    US\n",
       "21    US\n",
       "Name: Country, dtype: object"
      ]
     },
     "execution_count": 151,
     "metadata": {},
     "output_type": "execute_result"
    }
   ],
   "source": [
    "df['Country']"
   ]
  },
  {
   "cell_type": "code",
   "execution_count": 152,
   "metadata": {
    "id": "llJrlSE_4Mpq",
    "scrolled": true
   },
   "outputs": [],
   "source": [
    "pd.options.mode.chained_assignment = None # This line is to disable uncessary warnings. You can ignore this \n",
    "df['Country'][2]='Canada'\n",
    "df['Country'][8]='Canada'\n",
    "df['Country'][20]='Canada'\n",
    "df['Country'][10]='Canada'\n",
    "df['Country'][11]='Canada'"
   ]
  },
  {
   "cell_type": "code",
   "execution_count": 153,
   "metadata": {
    "id": "KQ5j3JYZnZj1"
   },
   "outputs": [
    {
     "data": {
      "text/html": [
       "<div>\n",
       "<style scoped>\n",
       "    .dataframe tbody tr th:only-of-type {\n",
       "        vertical-align: middle;\n",
       "    }\n",
       "\n",
       "    .dataframe tbody tr th {\n",
       "        vertical-align: top;\n",
       "    }\n",
       "\n",
       "    .dataframe thead th {\n",
       "        text-align: right;\n",
       "    }\n",
       "</style>\n",
       "<table border=\"1\" class=\"dataframe\">\n",
       "  <thead>\n",
       "    <tr style=\"text-align: right;\">\n",
       "      <th></th>\n",
       "      <th>Team</th>\n",
       "      <th>Wins</th>\n",
       "      <th>Country</th>\n",
       "    </tr>\n",
       "  </thead>\n",
       "  <tbody>\n",
       "    <tr>\n",
       "      <th>0</th>\n",
       "      <td>Anaheim Ducks</td>\n",
       "      <td>1</td>\n",
       "      <td>US</td>\n",
       "    </tr>\n",
       "    <tr>\n",
       "      <th>1</th>\n",
       "      <td>Boston Bruins</td>\n",
       "      <td>6</td>\n",
       "      <td>US</td>\n",
       "    </tr>\n",
       "    <tr>\n",
       "      <th>2</th>\n",
       "      <td>Calgary Flames</td>\n",
       "      <td>1</td>\n",
       "      <td>Canada</td>\n",
       "    </tr>\n",
       "    <tr>\n",
       "      <th>3</th>\n",
       "      <td>Carolina Hurricanes</td>\n",
       "      <td>1</td>\n",
       "      <td>US</td>\n",
       "    </tr>\n",
       "    <tr>\n",
       "      <th>4</th>\n",
       "      <td>Chicago Blackhawks</td>\n",
       "      <td>6</td>\n",
       "      <td>US</td>\n",
       "    </tr>\n",
       "    <tr>\n",
       "      <th>5</th>\n",
       "      <td>Colorado Avalanche</td>\n",
       "      <td>2</td>\n",
       "      <td>US</td>\n",
       "    </tr>\n",
       "    <tr>\n",
       "      <th>6</th>\n",
       "      <td>Dallas Stars</td>\n",
       "      <td>1</td>\n",
       "      <td>US</td>\n",
       "    </tr>\n",
       "    <tr>\n",
       "      <th>7</th>\n",
       "      <td>Detroit Red Wings</td>\n",
       "      <td>11</td>\n",
       "      <td>US</td>\n",
       "    </tr>\n",
       "    <tr>\n",
       "      <th>8</th>\n",
       "      <td>Edmonton Oilers</td>\n",
       "      <td>5</td>\n",
       "      <td>Canada</td>\n",
       "    </tr>\n",
       "    <tr>\n",
       "      <th>9</th>\n",
       "      <td>Los Angeles Kings</td>\n",
       "      <td>2</td>\n",
       "      <td>US</td>\n",
       "    </tr>\n",
       "    <tr>\n",
       "      <th>10</th>\n",
       "      <td>Montréal Canadiens</td>\n",
       "      <td>23</td>\n",
       "      <td>Canada</td>\n",
       "    </tr>\n",
       "    <tr>\n",
       "      <th>11</th>\n",
       "      <td>Montreal Maroons</td>\n",
       "      <td>2</td>\n",
       "      <td>Canada</td>\n",
       "    </tr>\n",
       "    <tr>\n",
       "      <th>12</th>\n",
       "      <td>New Jersey Devils</td>\n",
       "      <td>3</td>\n",
       "      <td>US</td>\n",
       "    </tr>\n",
       "    <tr>\n",
       "      <th>13</th>\n",
       "      <td>New York Islanders</td>\n",
       "      <td>4</td>\n",
       "      <td>US</td>\n",
       "    </tr>\n",
       "    <tr>\n",
       "      <th>14</th>\n",
       "      <td>New York Rangers</td>\n",
       "      <td>4</td>\n",
       "      <td>US</td>\n",
       "    </tr>\n",
       "    <tr>\n",
       "      <th>15</th>\n",
       "      <td>Philadelphia Flyers</td>\n",
       "      <td>2</td>\n",
       "      <td>US</td>\n",
       "    </tr>\n",
       "    <tr>\n",
       "      <th>16</th>\n",
       "      <td>Pittsburgh Penguins</td>\n",
       "      <td>5</td>\n",
       "      <td>US</td>\n",
       "    </tr>\n",
       "    <tr>\n",
       "      <th>17</th>\n",
       "      <td>St. Louis Blues</td>\n",
       "      <td>1</td>\n",
       "      <td>US</td>\n",
       "    </tr>\n",
       "    <tr>\n",
       "      <th>18</th>\n",
       "      <td>St. Louis Eagles</td>\n",
       "      <td>4</td>\n",
       "      <td>US</td>\n",
       "    </tr>\n",
       "    <tr>\n",
       "      <th>19</th>\n",
       "      <td>Tampa Bay Lightning</td>\n",
       "      <td>3</td>\n",
       "      <td>US</td>\n",
       "    </tr>\n",
       "    <tr>\n",
       "      <th>20</th>\n",
       "      <td>Toronto Maple Leafs</td>\n",
       "      <td>13</td>\n",
       "      <td>Canada</td>\n",
       "    </tr>\n",
       "    <tr>\n",
       "      <th>21</th>\n",
       "      <td>Washington Capitals</td>\n",
       "      <td>1</td>\n",
       "      <td>US</td>\n",
       "    </tr>\n",
       "  </tbody>\n",
       "</table>\n",
       "</div>"
      ],
      "text/plain": [
       "                   Team  Wins Country\n",
       "0         Anaheim Ducks     1      US\n",
       "1         Boston Bruins     6      US\n",
       "2        Calgary Flames     1  Canada\n",
       "3   Carolina Hurricanes     1      US\n",
       "4    Chicago Blackhawks     6      US\n",
       "5    Colorado Avalanche     2      US\n",
       "6          Dallas Stars     1      US\n",
       "7     Detroit Red Wings    11      US\n",
       "8       Edmonton Oilers     5  Canada\n",
       "9     Los Angeles Kings     2      US\n",
       "10   Montréal Canadiens    23  Canada\n",
       "11     Montreal Maroons     2  Canada\n",
       "12    New Jersey Devils     3      US\n",
       "13   New York Islanders     4      US\n",
       "14     New York Rangers     4      US\n",
       "15  Philadelphia Flyers     2      US\n",
       "16  Pittsburgh Penguins     5      US\n",
       "17      St. Louis Blues     1      US\n",
       "18     St. Louis Eagles     4      US\n",
       "19  Tampa Bay Lightning     3      US\n",
       "20  Toronto Maple Leafs    13  Canada\n",
       "21  Washington Capitals     1      US"
      ]
     },
     "execution_count": 153,
     "metadata": {},
     "output_type": "execute_result"
    }
   ],
   "source": [
    "df"
   ]
  },
  {
   "cell_type": "code",
   "execution_count": 154,
   "metadata": {
    "id": "mgQp6XuS4Mpt"
   },
   "outputs": [
    {
     "data": {
      "text/html": [
       "<div>\n",
       "<style scoped>\n",
       "    .dataframe tbody tr th:only-of-type {\n",
       "        vertical-align: middle;\n",
       "    }\n",
       "\n",
       "    .dataframe tbody tr th {\n",
       "        vertical-align: top;\n",
       "    }\n",
       "\n",
       "    .dataframe thead th {\n",
       "        text-align: right;\n",
       "    }\n",
       "</style>\n",
       "<table border=\"1\" class=\"dataframe\">\n",
       "  <thead>\n",
       "    <tr style=\"text-align: right;\">\n",
       "      <th></th>\n",
       "      <th>Team</th>\n",
       "      <th>Wins</th>\n",
       "      <th>Country</th>\n",
       "      <th>Last year won</th>\n",
       "    </tr>\n",
       "  </thead>\n",
       "  <tbody>\n",
       "    <tr>\n",
       "      <th>0</th>\n",
       "      <td>Anaheim Ducks</td>\n",
       "      <td>1</td>\n",
       "      <td>US</td>\n",
       "      <td>0</td>\n",
       "    </tr>\n",
       "    <tr>\n",
       "      <th>1</th>\n",
       "      <td>Boston Bruins</td>\n",
       "      <td>6</td>\n",
       "      <td>US</td>\n",
       "      <td>0</td>\n",
       "    </tr>\n",
       "    <tr>\n",
       "      <th>2</th>\n",
       "      <td>Calgary Flames</td>\n",
       "      <td>1</td>\n",
       "      <td>Canada</td>\n",
       "      <td>0</td>\n",
       "    </tr>\n",
       "    <tr>\n",
       "      <th>3</th>\n",
       "      <td>Carolina Hurricanes</td>\n",
       "      <td>1</td>\n",
       "      <td>US</td>\n",
       "      <td>0</td>\n",
       "    </tr>\n",
       "    <tr>\n",
       "      <th>4</th>\n",
       "      <td>Chicago Blackhawks</td>\n",
       "      <td>6</td>\n",
       "      <td>US</td>\n",
       "      <td>0</td>\n",
       "    </tr>\n",
       "    <tr>\n",
       "      <th>5</th>\n",
       "      <td>Colorado Avalanche</td>\n",
       "      <td>2</td>\n",
       "      <td>US</td>\n",
       "      <td>0</td>\n",
       "    </tr>\n",
       "    <tr>\n",
       "      <th>6</th>\n",
       "      <td>Dallas Stars</td>\n",
       "      <td>1</td>\n",
       "      <td>US</td>\n",
       "      <td>0</td>\n",
       "    </tr>\n",
       "    <tr>\n",
       "      <th>7</th>\n",
       "      <td>Detroit Red Wings</td>\n",
       "      <td>11</td>\n",
       "      <td>US</td>\n",
       "      <td>0</td>\n",
       "    </tr>\n",
       "    <tr>\n",
       "      <th>8</th>\n",
       "      <td>Edmonton Oilers</td>\n",
       "      <td>5</td>\n",
       "      <td>Canada</td>\n",
       "      <td>0</td>\n",
       "    </tr>\n",
       "    <tr>\n",
       "      <th>9</th>\n",
       "      <td>Los Angeles Kings</td>\n",
       "      <td>2</td>\n",
       "      <td>US</td>\n",
       "      <td>0</td>\n",
       "    </tr>\n",
       "    <tr>\n",
       "      <th>10</th>\n",
       "      <td>Montréal Canadiens</td>\n",
       "      <td>23</td>\n",
       "      <td>Canada</td>\n",
       "      <td>0</td>\n",
       "    </tr>\n",
       "    <tr>\n",
       "      <th>11</th>\n",
       "      <td>Montreal Maroons</td>\n",
       "      <td>2</td>\n",
       "      <td>Canada</td>\n",
       "      <td>0</td>\n",
       "    </tr>\n",
       "    <tr>\n",
       "      <th>12</th>\n",
       "      <td>New Jersey Devils</td>\n",
       "      <td>3</td>\n",
       "      <td>US</td>\n",
       "      <td>0</td>\n",
       "    </tr>\n",
       "    <tr>\n",
       "      <th>13</th>\n",
       "      <td>New York Islanders</td>\n",
       "      <td>4</td>\n",
       "      <td>US</td>\n",
       "      <td>0</td>\n",
       "    </tr>\n",
       "    <tr>\n",
       "      <th>14</th>\n",
       "      <td>New York Rangers</td>\n",
       "      <td>4</td>\n",
       "      <td>US</td>\n",
       "      <td>0</td>\n",
       "    </tr>\n",
       "    <tr>\n",
       "      <th>15</th>\n",
       "      <td>Philadelphia Flyers</td>\n",
       "      <td>2</td>\n",
       "      <td>US</td>\n",
       "      <td>0</td>\n",
       "    </tr>\n",
       "    <tr>\n",
       "      <th>16</th>\n",
       "      <td>Pittsburgh Penguins</td>\n",
       "      <td>5</td>\n",
       "      <td>US</td>\n",
       "      <td>0</td>\n",
       "    </tr>\n",
       "    <tr>\n",
       "      <th>17</th>\n",
       "      <td>St. Louis Blues</td>\n",
       "      <td>1</td>\n",
       "      <td>US</td>\n",
       "      <td>0</td>\n",
       "    </tr>\n",
       "    <tr>\n",
       "      <th>18</th>\n",
       "      <td>St. Louis Eagles</td>\n",
       "      <td>4</td>\n",
       "      <td>US</td>\n",
       "      <td>0</td>\n",
       "    </tr>\n",
       "    <tr>\n",
       "      <th>19</th>\n",
       "      <td>Tampa Bay Lightning</td>\n",
       "      <td>3</td>\n",
       "      <td>US</td>\n",
       "      <td>0</td>\n",
       "    </tr>\n",
       "    <tr>\n",
       "      <th>20</th>\n",
       "      <td>Toronto Maple Leafs</td>\n",
       "      <td>13</td>\n",
       "      <td>Canada</td>\n",
       "      <td>0</td>\n",
       "    </tr>\n",
       "    <tr>\n",
       "      <th>21</th>\n",
       "      <td>Washington Capitals</td>\n",
       "      <td>1</td>\n",
       "      <td>US</td>\n",
       "      <td>0</td>\n",
       "    </tr>\n",
       "  </tbody>\n",
       "</table>\n",
       "</div>"
      ],
      "text/plain": [
       "                   Team  Wins Country  Last year won\n",
       "0         Anaheim Ducks     1      US              0\n",
       "1         Boston Bruins     6      US              0\n",
       "2        Calgary Flames     1  Canada              0\n",
       "3   Carolina Hurricanes     1      US              0\n",
       "4    Chicago Blackhawks     6      US              0\n",
       "5    Colorado Avalanche     2      US              0\n",
       "6          Dallas Stars     1      US              0\n",
       "7     Detroit Red Wings    11      US              0\n",
       "8       Edmonton Oilers     5  Canada              0\n",
       "9     Los Angeles Kings     2      US              0\n",
       "10   Montréal Canadiens    23  Canada              0\n",
       "11     Montreal Maroons     2  Canada              0\n",
       "12    New Jersey Devils     3      US              0\n",
       "13   New York Islanders     4      US              0\n",
       "14     New York Rangers     4      US              0\n",
       "15  Philadelphia Flyers     2      US              0\n",
       "16  Pittsburgh Penguins     5      US              0\n",
       "17      St. Louis Blues     1      US              0\n",
       "18     St. Louis Eagles     4      US              0\n",
       "19  Tampa Bay Lightning     3      US              0\n",
       "20  Toronto Maple Leafs    13  Canada              0\n",
       "21  Washington Capitals     1      US              0"
      ]
     },
     "execution_count": 154,
     "metadata": {},
     "output_type": "execute_result"
    }
   ],
   "source": [
    "# Fill column with a single constant value:\n",
    "\n",
    "df['Last year won'] = 0\n",
    "df"
   ]
  },
  {
   "cell_type": "markdown",
   "metadata": {
    "id": "ntSYd1vG4Mpw"
   },
   "source": [
    "### Looking for Values within the DataFrames: ***the isin() function***"
   ]
  },
  {
   "cell_type": "code",
   "execution_count": 159,
   "metadata": {
    "id": "E_mGbzhr4Mpy"
   },
   "outputs": [
    {
     "data": {
      "text/html": [
       "<div>\n",
       "<style scoped>\n",
       "    .dataframe tbody tr th:only-of-type {\n",
       "        vertical-align: middle;\n",
       "    }\n",
       "\n",
       "    .dataframe tbody tr th {\n",
       "        vertical-align: top;\n",
       "    }\n",
       "\n",
       "    .dataframe thead th {\n",
       "        text-align: right;\n",
       "    }\n",
       "</style>\n",
       "<table border=\"1\" class=\"dataframe\">\n",
       "  <thead>\n",
       "    <tr style=\"text-align: right;\">\n",
       "      <th></th>\n",
       "      <th>Team</th>\n",
       "      <th>Wins</th>\n",
       "      <th>Country</th>\n",
       "      <th>Last year won</th>\n",
       "    </tr>\n",
       "  </thead>\n",
       "  <tbody>\n",
       "    <tr>\n",
       "      <th>0</th>\n",
       "      <td>False</td>\n",
       "      <td>True</td>\n",
       "      <td>True</td>\n",
       "      <td>False</td>\n",
       "    </tr>\n",
       "    <tr>\n",
       "      <th>1</th>\n",
       "      <td>False</td>\n",
       "      <td>False</td>\n",
       "      <td>True</td>\n",
       "      <td>False</td>\n",
       "    </tr>\n",
       "    <tr>\n",
       "      <th>2</th>\n",
       "      <td>False</td>\n",
       "      <td>True</td>\n",
       "      <td>True</td>\n",
       "      <td>False</td>\n",
       "    </tr>\n",
       "    <tr>\n",
       "      <th>3</th>\n",
       "      <td>False</td>\n",
       "      <td>True</td>\n",
       "      <td>True</td>\n",
       "      <td>False</td>\n",
       "    </tr>\n",
       "    <tr>\n",
       "      <th>4</th>\n",
       "      <td>False</td>\n",
       "      <td>False</td>\n",
       "      <td>True</td>\n",
       "      <td>False</td>\n",
       "    </tr>\n",
       "    <tr>\n",
       "      <th>5</th>\n",
       "      <td>False</td>\n",
       "      <td>False</td>\n",
       "      <td>True</td>\n",
       "      <td>False</td>\n",
       "    </tr>\n",
       "    <tr>\n",
       "      <th>6</th>\n",
       "      <td>False</td>\n",
       "      <td>True</td>\n",
       "      <td>True</td>\n",
       "      <td>False</td>\n",
       "    </tr>\n",
       "    <tr>\n",
       "      <th>7</th>\n",
       "      <td>False</td>\n",
       "      <td>False</td>\n",
       "      <td>True</td>\n",
       "      <td>False</td>\n",
       "    </tr>\n",
       "    <tr>\n",
       "      <th>8</th>\n",
       "      <td>False</td>\n",
       "      <td>False</td>\n",
       "      <td>True</td>\n",
       "      <td>False</td>\n",
       "    </tr>\n",
       "    <tr>\n",
       "      <th>9</th>\n",
       "      <td>False</td>\n",
       "      <td>False</td>\n",
       "      <td>True</td>\n",
       "      <td>False</td>\n",
       "    </tr>\n",
       "    <tr>\n",
       "      <th>10</th>\n",
       "      <td>False</td>\n",
       "      <td>False</td>\n",
       "      <td>True</td>\n",
       "      <td>False</td>\n",
       "    </tr>\n",
       "    <tr>\n",
       "      <th>11</th>\n",
       "      <td>False</td>\n",
       "      <td>False</td>\n",
       "      <td>True</td>\n",
       "      <td>False</td>\n",
       "    </tr>\n",
       "    <tr>\n",
       "      <th>12</th>\n",
       "      <td>False</td>\n",
       "      <td>False</td>\n",
       "      <td>True</td>\n",
       "      <td>False</td>\n",
       "    </tr>\n",
       "    <tr>\n",
       "      <th>13</th>\n",
       "      <td>False</td>\n",
       "      <td>False</td>\n",
       "      <td>True</td>\n",
       "      <td>False</td>\n",
       "    </tr>\n",
       "    <tr>\n",
       "      <th>14</th>\n",
       "      <td>False</td>\n",
       "      <td>False</td>\n",
       "      <td>True</td>\n",
       "      <td>False</td>\n",
       "    </tr>\n",
       "    <tr>\n",
       "      <th>15</th>\n",
       "      <td>False</td>\n",
       "      <td>False</td>\n",
       "      <td>True</td>\n",
       "      <td>False</td>\n",
       "    </tr>\n",
       "    <tr>\n",
       "      <th>16</th>\n",
       "      <td>False</td>\n",
       "      <td>False</td>\n",
       "      <td>True</td>\n",
       "      <td>False</td>\n",
       "    </tr>\n",
       "    <tr>\n",
       "      <th>17</th>\n",
       "      <td>False</td>\n",
       "      <td>True</td>\n",
       "      <td>True</td>\n",
       "      <td>False</td>\n",
       "    </tr>\n",
       "    <tr>\n",
       "      <th>18</th>\n",
       "      <td>False</td>\n",
       "      <td>False</td>\n",
       "      <td>True</td>\n",
       "      <td>False</td>\n",
       "    </tr>\n",
       "    <tr>\n",
       "      <th>19</th>\n",
       "      <td>False</td>\n",
       "      <td>False</td>\n",
       "      <td>True</td>\n",
       "      <td>False</td>\n",
       "    </tr>\n",
       "    <tr>\n",
       "      <th>20</th>\n",
       "      <td>False</td>\n",
       "      <td>False</td>\n",
       "      <td>True</td>\n",
       "      <td>False</td>\n",
       "    </tr>\n",
       "    <tr>\n",
       "      <th>21</th>\n",
       "      <td>False</td>\n",
       "      <td>True</td>\n",
       "      <td>True</td>\n",
       "      <td>False</td>\n",
       "    </tr>\n",
       "  </tbody>\n",
       "</table>\n",
       "</div>"
      ],
      "text/plain": [
       "     Team   Wins  Country  Last year won\n",
       "0   False   True     True          False\n",
       "1   False  False     True          False\n",
       "2   False   True     True          False\n",
       "3   False   True     True          False\n",
       "4   False  False     True          False\n",
       "5   False  False     True          False\n",
       "6   False   True     True          False\n",
       "7   False  False     True          False\n",
       "8   False  False     True          False\n",
       "9   False  False     True          False\n",
       "10  False  False     True          False\n",
       "11  False  False     True          False\n",
       "12  False  False     True          False\n",
       "13  False  False     True          False\n",
       "14  False  False     True          False\n",
       "15  False  False     True          False\n",
       "16  False  False     True          False\n",
       "17  False   True     True          False\n",
       "18  False  False     True          False\n",
       "19  False  False     True          False\n",
       "20  False  False     True          False\n",
       "21  False   True     True          False"
      ]
     },
     "execution_count": 159,
     "metadata": {},
     "output_type": "execute_result"
    }
   ],
   "source": [
    "df.isin(['US', \n",
    "        'Canada',1])#.any()"
   ]
  },
  {
   "cell_type": "markdown",
   "metadata": {
    "id": "lh9O9_9-4Mp7"
   },
   "source": [
    "### Sorting, Filtering, Transposition"
   ]
  },
  {
   "cell_type": "code",
   "execution_count": 160,
   "metadata": {
    "id": "VLgvfWt8nZj3"
   },
   "outputs": [
    {
     "data": {
      "text/html": [
       "<div>\n",
       "<style scoped>\n",
       "    .dataframe tbody tr th:only-of-type {\n",
       "        vertical-align: middle;\n",
       "    }\n",
       "\n",
       "    .dataframe tbody tr th {\n",
       "        vertical-align: top;\n",
       "    }\n",
       "\n",
       "    .dataframe thead th {\n",
       "        text-align: right;\n",
       "    }\n",
       "</style>\n",
       "<table border=\"1\" class=\"dataframe\">\n",
       "  <thead>\n",
       "    <tr style=\"text-align: right;\">\n",
       "      <th></th>\n",
       "      <th>Team</th>\n",
       "      <th>Wins</th>\n",
       "      <th>Country</th>\n",
       "      <th>Last year won</th>\n",
       "    </tr>\n",
       "  </thead>\n",
       "  <tbody>\n",
       "    <tr>\n",
       "      <th>10</th>\n",
       "      <td>Montréal Canadiens</td>\n",
       "      <td>23</td>\n",
       "      <td>Canada</td>\n",
       "      <td>0</td>\n",
       "    </tr>\n",
       "    <tr>\n",
       "      <th>20</th>\n",
       "      <td>Toronto Maple Leafs</td>\n",
       "      <td>13</td>\n",
       "      <td>Canada</td>\n",
       "      <td>0</td>\n",
       "    </tr>\n",
       "    <tr>\n",
       "      <th>7</th>\n",
       "      <td>Detroit Red Wings</td>\n",
       "      <td>11</td>\n",
       "      <td>US</td>\n",
       "      <td>0</td>\n",
       "    </tr>\n",
       "    <tr>\n",
       "      <th>1</th>\n",
       "      <td>Boston Bruins</td>\n",
       "      <td>6</td>\n",
       "      <td>US</td>\n",
       "      <td>0</td>\n",
       "    </tr>\n",
       "    <tr>\n",
       "      <th>4</th>\n",
       "      <td>Chicago Blackhawks</td>\n",
       "      <td>6</td>\n",
       "      <td>US</td>\n",
       "      <td>0</td>\n",
       "    </tr>\n",
       "    <tr>\n",
       "      <th>8</th>\n",
       "      <td>Edmonton Oilers</td>\n",
       "      <td>5</td>\n",
       "      <td>Canada</td>\n",
       "      <td>0</td>\n",
       "    </tr>\n",
       "    <tr>\n",
       "      <th>16</th>\n",
       "      <td>Pittsburgh Penguins</td>\n",
       "      <td>5</td>\n",
       "      <td>US</td>\n",
       "      <td>0</td>\n",
       "    </tr>\n",
       "    <tr>\n",
       "      <th>18</th>\n",
       "      <td>St. Louis Eagles</td>\n",
       "      <td>4</td>\n",
       "      <td>US</td>\n",
       "      <td>0</td>\n",
       "    </tr>\n",
       "    <tr>\n",
       "      <th>13</th>\n",
       "      <td>New York Islanders</td>\n",
       "      <td>4</td>\n",
       "      <td>US</td>\n",
       "      <td>0</td>\n",
       "    </tr>\n",
       "    <tr>\n",
       "      <th>14</th>\n",
       "      <td>New York Rangers</td>\n",
       "      <td>4</td>\n",
       "      <td>US</td>\n",
       "      <td>0</td>\n",
       "    </tr>\n",
       "    <tr>\n",
       "      <th>19</th>\n",
       "      <td>Tampa Bay Lightning</td>\n",
       "      <td>3</td>\n",
       "      <td>US</td>\n",
       "      <td>0</td>\n",
       "    </tr>\n",
       "    <tr>\n",
       "      <th>12</th>\n",
       "      <td>New Jersey Devils</td>\n",
       "      <td>3</td>\n",
       "      <td>US</td>\n",
       "      <td>0</td>\n",
       "    </tr>\n",
       "    <tr>\n",
       "      <th>9</th>\n",
       "      <td>Los Angeles Kings</td>\n",
       "      <td>2</td>\n",
       "      <td>US</td>\n",
       "      <td>0</td>\n",
       "    </tr>\n",
       "    <tr>\n",
       "      <th>5</th>\n",
       "      <td>Colorado Avalanche</td>\n",
       "      <td>2</td>\n",
       "      <td>US</td>\n",
       "      <td>0</td>\n",
       "    </tr>\n",
       "    <tr>\n",
       "      <th>15</th>\n",
       "      <td>Philadelphia Flyers</td>\n",
       "      <td>2</td>\n",
       "      <td>US</td>\n",
       "      <td>0</td>\n",
       "    </tr>\n",
       "    <tr>\n",
       "      <th>11</th>\n",
       "      <td>Montreal Maroons</td>\n",
       "      <td>2</td>\n",
       "      <td>Canada</td>\n",
       "      <td>0</td>\n",
       "    </tr>\n",
       "    <tr>\n",
       "      <th>17</th>\n",
       "      <td>St. Louis Blues</td>\n",
       "      <td>1</td>\n",
       "      <td>US</td>\n",
       "      <td>0</td>\n",
       "    </tr>\n",
       "    <tr>\n",
       "      <th>0</th>\n",
       "      <td>Anaheim Ducks</td>\n",
       "      <td>1</td>\n",
       "      <td>US</td>\n",
       "      <td>0</td>\n",
       "    </tr>\n",
       "    <tr>\n",
       "      <th>6</th>\n",
       "      <td>Dallas Stars</td>\n",
       "      <td>1</td>\n",
       "      <td>US</td>\n",
       "      <td>0</td>\n",
       "    </tr>\n",
       "    <tr>\n",
       "      <th>3</th>\n",
       "      <td>Carolina Hurricanes</td>\n",
       "      <td>1</td>\n",
       "      <td>US</td>\n",
       "      <td>0</td>\n",
       "    </tr>\n",
       "    <tr>\n",
       "      <th>2</th>\n",
       "      <td>Calgary Flames</td>\n",
       "      <td>1</td>\n",
       "      <td>Canada</td>\n",
       "      <td>0</td>\n",
       "    </tr>\n",
       "    <tr>\n",
       "      <th>21</th>\n",
       "      <td>Washington Capitals</td>\n",
       "      <td>1</td>\n",
       "      <td>US</td>\n",
       "      <td>0</td>\n",
       "    </tr>\n",
       "  </tbody>\n",
       "</table>\n",
       "</div>"
      ],
      "text/plain": [
       "                   Team  Wins Country  Last year won\n",
       "10   Montréal Canadiens    23  Canada              0\n",
       "20  Toronto Maple Leafs    13  Canada              0\n",
       "7     Detroit Red Wings    11      US              0\n",
       "1         Boston Bruins     6      US              0\n",
       "4    Chicago Blackhawks     6      US              0\n",
       "8       Edmonton Oilers     5  Canada              0\n",
       "16  Pittsburgh Penguins     5      US              0\n",
       "18     St. Louis Eagles     4      US              0\n",
       "13   New York Islanders     4      US              0\n",
       "14     New York Rangers     4      US              0\n",
       "19  Tampa Bay Lightning     3      US              0\n",
       "12    New Jersey Devils     3      US              0\n",
       "9     Los Angeles Kings     2      US              0\n",
       "5    Colorado Avalanche     2      US              0\n",
       "15  Philadelphia Flyers     2      US              0\n",
       "11     Montreal Maroons     2  Canada              0\n",
       "17      St. Louis Blues     1      US              0\n",
       "0         Anaheim Ducks     1      US              0\n",
       "6          Dallas Stars     1      US              0\n",
       "3   Carolina Hurricanes     1      US              0\n",
       "2        Calgary Flames     1  Canada              0\n",
       "21  Washington Capitals     1      US              0"
      ]
     },
     "execution_count": 160,
     "metadata": {},
     "output_type": "execute_result"
    }
   ],
   "source": [
    "df3 = df.sort_values(by=['Wins'], ascending=False)\n",
    "df3"
   ]
  },
  {
   "cell_type": "code",
   "execution_count": 161,
   "metadata": {
    "id": "_ipUFOl4nZj4"
   },
   "outputs": [
    {
     "data": {
      "text/html": [
       "<div>\n",
       "<style scoped>\n",
       "    .dataframe tbody tr th:only-of-type {\n",
       "        vertical-align: middle;\n",
       "    }\n",
       "\n",
       "    .dataframe tbody tr th {\n",
       "        vertical-align: top;\n",
       "    }\n",
       "\n",
       "    .dataframe thead th {\n",
       "        text-align: right;\n",
       "    }\n",
       "</style>\n",
       "<table border=\"1\" class=\"dataframe\">\n",
       "  <thead>\n",
       "    <tr style=\"text-align: right;\">\n",
       "      <th></th>\n",
       "      <th>Team</th>\n",
       "      <th>Wins</th>\n",
       "      <th>Country</th>\n",
       "      <th>Last year won</th>\n",
       "    </tr>\n",
       "  </thead>\n",
       "  <tbody>\n",
       "    <tr>\n",
       "      <th>0</th>\n",
       "      <td>Montréal Canadiens</td>\n",
       "      <td>23</td>\n",
       "      <td>Canada</td>\n",
       "      <td>0</td>\n",
       "    </tr>\n",
       "    <tr>\n",
       "      <th>1</th>\n",
       "      <td>Toronto Maple Leafs</td>\n",
       "      <td>13</td>\n",
       "      <td>Canada</td>\n",
       "      <td>0</td>\n",
       "    </tr>\n",
       "    <tr>\n",
       "      <th>2</th>\n",
       "      <td>Detroit Red Wings</td>\n",
       "      <td>11</td>\n",
       "      <td>US</td>\n",
       "      <td>0</td>\n",
       "    </tr>\n",
       "    <tr>\n",
       "      <th>3</th>\n",
       "      <td>Boston Bruins</td>\n",
       "      <td>6</td>\n",
       "      <td>US</td>\n",
       "      <td>0</td>\n",
       "    </tr>\n",
       "    <tr>\n",
       "      <th>4</th>\n",
       "      <td>Chicago Blackhawks</td>\n",
       "      <td>6</td>\n",
       "      <td>US</td>\n",
       "      <td>0</td>\n",
       "    </tr>\n",
       "    <tr>\n",
       "      <th>5</th>\n",
       "      <td>Edmonton Oilers</td>\n",
       "      <td>5</td>\n",
       "      <td>Canada</td>\n",
       "      <td>0</td>\n",
       "    </tr>\n",
       "    <tr>\n",
       "      <th>6</th>\n",
       "      <td>Pittsburgh Penguins</td>\n",
       "      <td>5</td>\n",
       "      <td>US</td>\n",
       "      <td>0</td>\n",
       "    </tr>\n",
       "    <tr>\n",
       "      <th>7</th>\n",
       "      <td>St. Louis Eagles</td>\n",
       "      <td>4</td>\n",
       "      <td>US</td>\n",
       "      <td>0</td>\n",
       "    </tr>\n",
       "    <tr>\n",
       "      <th>8</th>\n",
       "      <td>New York Islanders</td>\n",
       "      <td>4</td>\n",
       "      <td>US</td>\n",
       "      <td>0</td>\n",
       "    </tr>\n",
       "    <tr>\n",
       "      <th>9</th>\n",
       "      <td>New York Rangers</td>\n",
       "      <td>4</td>\n",
       "      <td>US</td>\n",
       "      <td>0</td>\n",
       "    </tr>\n",
       "    <tr>\n",
       "      <th>10</th>\n",
       "      <td>Tampa Bay Lightning</td>\n",
       "      <td>3</td>\n",
       "      <td>US</td>\n",
       "      <td>0</td>\n",
       "    </tr>\n",
       "    <tr>\n",
       "      <th>11</th>\n",
       "      <td>New Jersey Devils</td>\n",
       "      <td>3</td>\n",
       "      <td>US</td>\n",
       "      <td>0</td>\n",
       "    </tr>\n",
       "    <tr>\n",
       "      <th>12</th>\n",
       "      <td>Los Angeles Kings</td>\n",
       "      <td>2</td>\n",
       "      <td>US</td>\n",
       "      <td>0</td>\n",
       "    </tr>\n",
       "    <tr>\n",
       "      <th>13</th>\n",
       "      <td>Colorado Avalanche</td>\n",
       "      <td>2</td>\n",
       "      <td>US</td>\n",
       "      <td>0</td>\n",
       "    </tr>\n",
       "    <tr>\n",
       "      <th>14</th>\n",
       "      <td>Philadelphia Flyers</td>\n",
       "      <td>2</td>\n",
       "      <td>US</td>\n",
       "      <td>0</td>\n",
       "    </tr>\n",
       "    <tr>\n",
       "      <th>15</th>\n",
       "      <td>Montreal Maroons</td>\n",
       "      <td>2</td>\n",
       "      <td>Canada</td>\n",
       "      <td>0</td>\n",
       "    </tr>\n",
       "    <tr>\n",
       "      <th>16</th>\n",
       "      <td>St. Louis Blues</td>\n",
       "      <td>1</td>\n",
       "      <td>US</td>\n",
       "      <td>0</td>\n",
       "    </tr>\n",
       "    <tr>\n",
       "      <th>17</th>\n",
       "      <td>Anaheim Ducks</td>\n",
       "      <td>1</td>\n",
       "      <td>US</td>\n",
       "      <td>0</td>\n",
       "    </tr>\n",
       "    <tr>\n",
       "      <th>18</th>\n",
       "      <td>Dallas Stars</td>\n",
       "      <td>1</td>\n",
       "      <td>US</td>\n",
       "      <td>0</td>\n",
       "    </tr>\n",
       "    <tr>\n",
       "      <th>19</th>\n",
       "      <td>Carolina Hurricanes</td>\n",
       "      <td>1</td>\n",
       "      <td>US</td>\n",
       "      <td>0</td>\n",
       "    </tr>\n",
       "    <tr>\n",
       "      <th>20</th>\n",
       "      <td>Calgary Flames</td>\n",
       "      <td>1</td>\n",
       "      <td>Canada</td>\n",
       "      <td>0</td>\n",
       "    </tr>\n",
       "    <tr>\n",
       "      <th>21</th>\n",
       "      <td>Washington Capitals</td>\n",
       "      <td>1</td>\n",
       "      <td>US</td>\n",
       "      <td>0</td>\n",
       "    </tr>\n",
       "  </tbody>\n",
       "</table>\n",
       "</div>"
      ],
      "text/plain": [
       "                   Team  Wins Country  Last year won\n",
       "0    Montréal Canadiens    23  Canada              0\n",
       "1   Toronto Maple Leafs    13  Canada              0\n",
       "2     Detroit Red Wings    11      US              0\n",
       "3         Boston Bruins     6      US              0\n",
       "4    Chicago Blackhawks     6      US              0\n",
       "5       Edmonton Oilers     5  Canada              0\n",
       "6   Pittsburgh Penguins     5      US              0\n",
       "7      St. Louis Eagles     4      US              0\n",
       "8    New York Islanders     4      US              0\n",
       "9      New York Rangers     4      US              0\n",
       "10  Tampa Bay Lightning     3      US              0\n",
       "11    New Jersey Devils     3      US              0\n",
       "12    Los Angeles Kings     2      US              0\n",
       "13   Colorado Avalanche     2      US              0\n",
       "14  Philadelphia Flyers     2      US              0\n",
       "15     Montreal Maroons     2  Canada              0\n",
       "16      St. Louis Blues     1      US              0\n",
       "17        Anaheim Ducks     1      US              0\n",
       "18         Dallas Stars     1      US              0\n",
       "19  Carolina Hurricanes     1      US              0\n",
       "20       Calgary Flames     1  Canada              0\n",
       "21  Washington Capitals     1      US              0"
      ]
     },
     "execution_count": 161,
     "metadata": {},
     "output_type": "execute_result"
    }
   ],
   "source": [
    "#Setting a new index column\n",
    "\n",
    "df3=df3.set_index(np.arange(0,22))\n",
    "df3"
   ]
  },
  {
   "cell_type": "code",
   "execution_count": 162,
   "metadata": {
    "id": "C6V5WmTd4Mp7"
   },
   "outputs": [
    {
     "data": {
      "text/html": [
       "<div>\n",
       "<style scoped>\n",
       "    .dataframe tbody tr th:only-of-type {\n",
       "        vertical-align: middle;\n",
       "    }\n",
       "\n",
       "    .dataframe tbody tr th {\n",
       "        vertical-align: top;\n",
       "    }\n",
       "\n",
       "    .dataframe thead th {\n",
       "        text-align: right;\n",
       "    }\n",
       "</style>\n",
       "<table border=\"1\" class=\"dataframe\">\n",
       "  <thead>\n",
       "    <tr style=\"text-align: right;\">\n",
       "      <th></th>\n",
       "      <th>Team</th>\n",
       "      <th>Wins</th>\n",
       "      <th>Country</th>\n",
       "      <th>Last year won</th>\n",
       "    </tr>\n",
       "  </thead>\n",
       "  <tbody>\n",
       "    <tr>\n",
       "      <th>0</th>\n",
       "      <td>Montréal Canadiens</td>\n",
       "      <td>23</td>\n",
       "      <td>Canada</td>\n",
       "      <td>0</td>\n",
       "    </tr>\n",
       "    <tr>\n",
       "      <th>1</th>\n",
       "      <td>Toronto Maple Leafs</td>\n",
       "      <td>13</td>\n",
       "      <td>Canada</td>\n",
       "      <td>0</td>\n",
       "    </tr>\n",
       "    <tr>\n",
       "      <th>2</th>\n",
       "      <td>Detroit Red Wings</td>\n",
       "      <td>11</td>\n",
       "      <td>US</td>\n",
       "      <td>0</td>\n",
       "    </tr>\n",
       "    <tr>\n",
       "      <th>3</th>\n",
       "      <td>Boston Bruins</td>\n",
       "      <td>6</td>\n",
       "      <td>US</td>\n",
       "      <td>0</td>\n",
       "    </tr>\n",
       "    <tr>\n",
       "      <th>4</th>\n",
       "      <td>Chicago Blackhawks</td>\n",
       "      <td>6</td>\n",
       "      <td>US</td>\n",
       "      <td>0</td>\n",
       "    </tr>\n",
       "    <tr>\n",
       "      <th>5</th>\n",
       "      <td>Edmonton Oilers</td>\n",
       "      <td>5</td>\n",
       "      <td>Canada</td>\n",
       "      <td>0</td>\n",
       "    </tr>\n",
       "    <tr>\n",
       "      <th>6</th>\n",
       "      <td>Pittsburgh Penguins</td>\n",
       "      <td>5</td>\n",
       "      <td>US</td>\n",
       "      <td>0</td>\n",
       "    </tr>\n",
       "    <tr>\n",
       "      <th>7</th>\n",
       "      <td>St. Louis Eagles</td>\n",
       "      <td>4</td>\n",
       "      <td>US</td>\n",
       "      <td>0</td>\n",
       "    </tr>\n",
       "    <tr>\n",
       "      <th>8</th>\n",
       "      <td>New York Islanders</td>\n",
       "      <td>4</td>\n",
       "      <td>US</td>\n",
       "      <td>0</td>\n",
       "    </tr>\n",
       "    <tr>\n",
       "      <th>9</th>\n",
       "      <td>New York Rangers</td>\n",
       "      <td>4</td>\n",
       "      <td>US</td>\n",
       "      <td>0</td>\n",
       "    </tr>\n",
       "    <tr>\n",
       "      <th>10</th>\n",
       "      <td>Tampa Bay Lightning</td>\n",
       "      <td>3</td>\n",
       "      <td>US</td>\n",
       "      <td>0</td>\n",
       "    </tr>\n",
       "    <tr>\n",
       "      <th>11</th>\n",
       "      <td>New Jersey Devils</td>\n",
       "      <td>3</td>\n",
       "      <td>US</td>\n",
       "      <td>0</td>\n",
       "    </tr>\n",
       "    <tr>\n",
       "      <th>12</th>\n",
       "      <td>Los Angeles Kings</td>\n",
       "      <td>2</td>\n",
       "      <td>US</td>\n",
       "      <td>0</td>\n",
       "    </tr>\n",
       "    <tr>\n",
       "      <th>13</th>\n",
       "      <td>Colorado Avalanche</td>\n",
       "      <td>2</td>\n",
       "      <td>US</td>\n",
       "      <td>0</td>\n",
       "    </tr>\n",
       "    <tr>\n",
       "      <th>14</th>\n",
       "      <td>Philadelphia Flyers</td>\n",
       "      <td>2</td>\n",
       "      <td>US</td>\n",
       "      <td>0</td>\n",
       "    </tr>\n",
       "    <tr>\n",
       "      <th>15</th>\n",
       "      <td>Montreal Maroons</td>\n",
       "      <td>2</td>\n",
       "      <td>Canada</td>\n",
       "      <td>0</td>\n",
       "    </tr>\n",
       "  </tbody>\n",
       "</table>\n",
       "</div>"
      ],
      "text/plain": [
       "                   Team  Wins Country  Last year won\n",
       "0    Montréal Canadiens    23  Canada              0\n",
       "1   Toronto Maple Leafs    13  Canada              0\n",
       "2     Detroit Red Wings    11      US              0\n",
       "3         Boston Bruins     6      US              0\n",
       "4    Chicago Blackhawks     6      US              0\n",
       "5       Edmonton Oilers     5  Canada              0\n",
       "6   Pittsburgh Penguins     5      US              0\n",
       "7      St. Louis Eagles     4      US              0\n",
       "8    New York Islanders     4      US              0\n",
       "9      New York Rangers     4      US              0\n",
       "10  Tampa Bay Lightning     3      US              0\n",
       "11    New Jersey Devils     3      US              0\n",
       "12    Los Angeles Kings     2      US              0\n",
       "13   Colorado Avalanche     2      US              0\n",
       "14  Philadelphia Flyers     2      US              0\n",
       "15     Montreal Maroons     2  Canada              0"
      ]
     },
     "execution_count": 162,
     "metadata": {},
     "output_type": "execute_result"
    }
   ],
   "source": [
    "# Filtering is done just like in the case of series:\n",
    "\n",
    "df3[df3['Wins'] > 1]     "
   ]
  },
  {
   "cell_type": "code",
   "execution_count": 163,
   "metadata": {
    "id": "NHBpNNae4Mp8"
   },
   "outputs": [
    {
     "data": {
      "text/html": [
       "<div>\n",
       "<style scoped>\n",
       "    .dataframe tbody tr th:only-of-type {\n",
       "        vertical-align: middle;\n",
       "    }\n",
       "\n",
       "    .dataframe tbody tr th {\n",
       "        vertical-align: top;\n",
       "    }\n",
       "\n",
       "    .dataframe thead th {\n",
       "        text-align: right;\n",
       "    }\n",
       "</style>\n",
       "<table border=\"1\" class=\"dataframe\">\n",
       "  <thead>\n",
       "    <tr style=\"text-align: right;\">\n",
       "      <th></th>\n",
       "      <th>0</th>\n",
       "      <th>1</th>\n",
       "      <th>2</th>\n",
       "      <th>3</th>\n",
       "      <th>4</th>\n",
       "      <th>5</th>\n",
       "      <th>6</th>\n",
       "      <th>7</th>\n",
       "      <th>8</th>\n",
       "      <th>9</th>\n",
       "      <th>...</th>\n",
       "      <th>12</th>\n",
       "      <th>13</th>\n",
       "      <th>14</th>\n",
       "      <th>15</th>\n",
       "      <th>16</th>\n",
       "      <th>17</th>\n",
       "      <th>18</th>\n",
       "      <th>19</th>\n",
       "      <th>20</th>\n",
       "      <th>21</th>\n",
       "    </tr>\n",
       "  </thead>\n",
       "  <tbody>\n",
       "    <tr>\n",
       "      <th>Team</th>\n",
       "      <td>Anaheim Ducks</td>\n",
       "      <td>Boston Bruins</td>\n",
       "      <td>Calgary Flames</td>\n",
       "      <td>Carolina Hurricanes</td>\n",
       "      <td>Chicago Blackhawks</td>\n",
       "      <td>Colorado Avalanche</td>\n",
       "      <td>Dallas Stars</td>\n",
       "      <td>Detroit Red Wings</td>\n",
       "      <td>Edmonton Oilers</td>\n",
       "      <td>Los Angeles Kings</td>\n",
       "      <td>...</td>\n",
       "      <td>New Jersey Devils</td>\n",
       "      <td>New York Islanders</td>\n",
       "      <td>New York Rangers</td>\n",
       "      <td>Philadelphia Flyers</td>\n",
       "      <td>Pittsburgh Penguins</td>\n",
       "      <td>St. Louis Blues</td>\n",
       "      <td>St. Louis Eagles</td>\n",
       "      <td>Tampa Bay Lightning</td>\n",
       "      <td>Toronto Maple Leafs</td>\n",
       "      <td>Washington Capitals</td>\n",
       "    </tr>\n",
       "    <tr>\n",
       "      <th>Wins</th>\n",
       "      <td>1</td>\n",
       "      <td>6</td>\n",
       "      <td>1</td>\n",
       "      <td>1</td>\n",
       "      <td>6</td>\n",
       "      <td>2</td>\n",
       "      <td>1</td>\n",
       "      <td>11</td>\n",
       "      <td>5</td>\n",
       "      <td>2</td>\n",
       "      <td>...</td>\n",
       "      <td>3</td>\n",
       "      <td>4</td>\n",
       "      <td>4</td>\n",
       "      <td>2</td>\n",
       "      <td>5</td>\n",
       "      <td>1</td>\n",
       "      <td>4</td>\n",
       "      <td>3</td>\n",
       "      <td>13</td>\n",
       "      <td>1</td>\n",
       "    </tr>\n",
       "    <tr>\n",
       "      <th>Country</th>\n",
       "      <td>US</td>\n",
       "      <td>US</td>\n",
       "      <td>Canada</td>\n",
       "      <td>US</td>\n",
       "      <td>US</td>\n",
       "      <td>US</td>\n",
       "      <td>US</td>\n",
       "      <td>US</td>\n",
       "      <td>Canada</td>\n",
       "      <td>US</td>\n",
       "      <td>...</td>\n",
       "      <td>US</td>\n",
       "      <td>US</td>\n",
       "      <td>US</td>\n",
       "      <td>US</td>\n",
       "      <td>US</td>\n",
       "      <td>US</td>\n",
       "      <td>US</td>\n",
       "      <td>US</td>\n",
       "      <td>Canada</td>\n",
       "      <td>US</td>\n",
       "    </tr>\n",
       "    <tr>\n",
       "      <th>Last year won</th>\n",
       "      <td>0</td>\n",
       "      <td>0</td>\n",
       "      <td>0</td>\n",
       "      <td>0</td>\n",
       "      <td>0</td>\n",
       "      <td>0</td>\n",
       "      <td>0</td>\n",
       "      <td>0</td>\n",
       "      <td>0</td>\n",
       "      <td>0</td>\n",
       "      <td>...</td>\n",
       "      <td>0</td>\n",
       "      <td>0</td>\n",
       "      <td>0</td>\n",
       "      <td>0</td>\n",
       "      <td>0</td>\n",
       "      <td>0</td>\n",
       "      <td>0</td>\n",
       "      <td>0</td>\n",
       "      <td>0</td>\n",
       "      <td>0</td>\n",
       "    </tr>\n",
       "  </tbody>\n",
       "</table>\n",
       "<p>4 rows × 22 columns</p>\n",
       "</div>"
      ],
      "text/plain": [
       "                          0              1               2   \\\n",
       "Team           Anaheim Ducks  Boston Bruins  Calgary Flames   \n",
       "Wins                       1              6               1   \n",
       "Country                   US             US          Canada   \n",
       "Last year won              0              0               0   \n",
       "\n",
       "                                3                   4                   5   \\\n",
       "Team           Carolina Hurricanes  Chicago Blackhawks  Colorado Avalanche   \n",
       "Wins                             1                   6                   2   \n",
       "Country                         US                  US                  US   \n",
       "Last year won                    0                   0                   0   \n",
       "\n",
       "                         6                  7                8   \\\n",
       "Team           Dallas Stars  Detroit Red Wings  Edmonton Oilers   \n",
       "Wins                      1                 11                5   \n",
       "Country                  US                 US           Canada   \n",
       "Last year won             0                  0                0   \n",
       "\n",
       "                              9   ...                 12                  13  \\\n",
       "Team           Los Angeles Kings  ...  New Jersey Devils  New York Islanders   \n",
       "Wins                           2  ...                  3                   4   \n",
       "Country                       US  ...                 US                  US   \n",
       "Last year won                  0  ...                  0                   0   \n",
       "\n",
       "                             14                   15                   16  \\\n",
       "Team           New York Rangers  Philadelphia Flyers  Pittsburgh Penguins   \n",
       "Wins                          4                    2                    5   \n",
       "Country                      US                   US                   US   \n",
       "Last year won                 0                    0                    0   \n",
       "\n",
       "                            17                18                   19  \\\n",
       "Team           St. Louis Blues  St. Louis Eagles  Tampa Bay Lightning   \n",
       "Wins                         1                 4                    3   \n",
       "Country                     US                US                   US   \n",
       "Last year won                0                 0                    0   \n",
       "\n",
       "                                20                   21  \n",
       "Team           Toronto Maple Leafs  Washington Capitals  \n",
       "Wins                            13                    1  \n",
       "Country                     Canada                   US  \n",
       "Last year won                    0                    0  \n",
       "\n",
       "[4 rows x 22 columns]"
      ]
     },
     "execution_count": 163,
     "metadata": {},
     "output_type": "execute_result"
    }
   ],
   "source": [
    "# Transposition can be obtained by simple using the df.T option:\n",
    "\n",
    "df.T"
   ]
  },
  {
   "cell_type": "markdown",
   "metadata": {
    "id": "avi9l33E4Mp-"
   },
   "source": [
    "## Statistical Analysis"
   ]
  },
  {
   "cell_type": "code",
   "execution_count": 164,
   "metadata": {
    "id": "36-QhsSA4Mp-"
   },
   "outputs": [
    {
     "data": {
      "text/html": [
       "<div>\n",
       "<style scoped>\n",
       "    .dataframe tbody tr th:only-of-type {\n",
       "        vertical-align: middle;\n",
       "    }\n",
       "\n",
       "    .dataframe tbody tr th {\n",
       "        vertical-align: top;\n",
       "    }\n",
       "\n",
       "    .dataframe thead th {\n",
       "        text-align: right;\n",
       "    }\n",
       "</style>\n",
       "<table border=\"1\" class=\"dataframe\">\n",
       "  <thead>\n",
       "    <tr style=\"text-align: right;\">\n",
       "      <th></th>\n",
       "      <th>Wins</th>\n",
       "      <th>Last year won</th>\n",
       "    </tr>\n",
       "  </thead>\n",
       "  <tbody>\n",
       "    <tr>\n",
       "      <th>count</th>\n",
       "      <td>22.000000</td>\n",
       "      <td>22.0</td>\n",
       "    </tr>\n",
       "    <tr>\n",
       "      <th>mean</th>\n",
       "      <td>4.590909</td>\n",
       "      <td>0.0</td>\n",
       "    </tr>\n",
       "    <tr>\n",
       "      <th>std</th>\n",
       "      <td>5.188440</td>\n",
       "      <td>0.0</td>\n",
       "    </tr>\n",
       "    <tr>\n",
       "      <th>min</th>\n",
       "      <td>1.000000</td>\n",
       "      <td>0.0</td>\n",
       "    </tr>\n",
       "    <tr>\n",
       "      <th>25%</th>\n",
       "      <td>1.250000</td>\n",
       "      <td>0.0</td>\n",
       "    </tr>\n",
       "    <tr>\n",
       "      <th>50%</th>\n",
       "      <td>3.000000</td>\n",
       "      <td>0.0</td>\n",
       "    </tr>\n",
       "    <tr>\n",
       "      <th>75%</th>\n",
       "      <td>5.000000</td>\n",
       "      <td>0.0</td>\n",
       "    </tr>\n",
       "    <tr>\n",
       "      <th>max</th>\n",
       "      <td>23.000000</td>\n",
       "      <td>0.0</td>\n",
       "    </tr>\n",
       "  </tbody>\n",
       "</table>\n",
       "</div>"
      ],
      "text/plain": [
       "            Wins  Last year won\n",
       "count  22.000000           22.0\n",
       "mean    4.590909            0.0\n",
       "std     5.188440            0.0\n",
       "min     1.000000            0.0\n",
       "25%     1.250000            0.0\n",
       "50%     3.000000            0.0\n",
       "75%     5.000000            0.0\n",
       "max    23.000000            0.0"
      ]
     },
     "execution_count": 164,
     "metadata": {},
     "output_type": "execute_result"
    }
   ],
   "source": [
    "# Statistical summary can be obtained using the df.describe() function:\n",
    "\n",
    "df3.describe()"
   ]
  },
  {
   "cell_type": "code",
   "execution_count": 165,
   "metadata": {
    "id": "j_KLVN-g4Mp_",
    "scrolled": true
   },
   "outputs": [
    {
     "name": "stdout",
     "output_type": "stream",
     "text": [
      "Team             Anaheim DucksBoston BruinsCalgary FlamesCaroli...\n",
      "Wins                                                           101\n",
      "Country          USUSCanadaUSUSUSUSUSCanadaUSCanadaCanadaUSUSUS...\n",
      "Last year won                                                    0\n",
      "dtype: object\n"
     ]
    }
   ],
   "source": [
    "# You can still obtain the sum and mean like we did in Numpy:\n",
    "\n",
    "print(df.sum())\n",
    "#print(df.mean())"
   ]
  },
  {
   "cell_type": "code",
   "execution_count": 169,
   "metadata": {
    "id": "6uAVdTw6nZj7"
   },
   "outputs": [
    {
     "data": {
      "text/html": [
       "<div>\n",
       "<style scoped>\n",
       "    .dataframe tbody tr th:only-of-type {\n",
       "        vertical-align: middle;\n",
       "    }\n",
       "\n",
       "    .dataframe tbody tr th {\n",
       "        vertical-align: top;\n",
       "    }\n",
       "\n",
       "    .dataframe thead th {\n",
       "        text-align: right;\n",
       "    }\n",
       "</style>\n",
       "<table border=\"1\" class=\"dataframe\">\n",
       "  <thead>\n",
       "    <tr style=\"text-align: right;\">\n",
       "      <th></th>\n",
       "      <th>Wins</th>\n",
       "      <th>Last year won</th>\n",
       "    </tr>\n",
       "    <tr>\n",
       "      <th>Country</th>\n",
       "      <th></th>\n",
       "      <th></th>\n",
       "    </tr>\n",
       "  </thead>\n",
       "  <tbody>\n",
       "    <tr>\n",
       "      <th>Canada</th>\n",
       "      <td>44</td>\n",
       "      <td>0</td>\n",
       "    </tr>\n",
       "    <tr>\n",
       "      <th>US</th>\n",
       "      <td>57</td>\n",
       "      <td>0</td>\n",
       "    </tr>\n",
       "  </tbody>\n",
       "</table>\n",
       "</div>"
      ],
      "text/plain": [
       "         Wins  Last year won\n",
       "Country                     \n",
       "Canada     44              0\n",
       "US         57              0"
      ]
     },
     "execution_count": 169,
     "metadata": {},
     "output_type": "execute_result"
    }
   ],
   "source": [
    "#Which country won the most Stanely cups to date?\n",
    "\n",
    "df4 = df3.groupby(by=['Country']).sum()\n",
    "df4"
   ]
  },
  {
   "cell_type": "markdown",
   "metadata": {
    "id": "Oz3prPb3nZj8"
   },
   "source": [
    "# Let us have some fun with the Data\n",
    "\n",
    "#### Update the column with the last year the team won a Stanely cup using the data from other excel sheet"
   ]
  },
  {
   "cell_type": "code",
   "execution_count": 170,
   "metadata": {
    "id": "BSkOLBObnZj9"
   },
   "outputs": [
    {
     "data": {
      "text/html": [
       "<div>\n",
       "<style scoped>\n",
       "    .dataframe tbody tr th:only-of-type {\n",
       "        vertical-align: middle;\n",
       "    }\n",
       "\n",
       "    .dataframe tbody tr th {\n",
       "        vertical-align: top;\n",
       "    }\n",
       "\n",
       "    .dataframe thead th {\n",
       "        text-align: right;\n",
       "    }\n",
       "</style>\n",
       "<table border=\"1\" class=\"dataframe\">\n",
       "  <thead>\n",
       "    <tr style=\"text-align: right;\">\n",
       "      <th></th>\n",
       "      <th>Year</th>\n",
       "      <th>Team</th>\n",
       "      <th>Runner up</th>\n",
       "    </tr>\n",
       "  </thead>\n",
       "  <tbody>\n",
       "    <tr>\n",
       "      <th>0</th>\n",
       "      <td>2020</td>\n",
       "      <td>Tampa Bay Lightning</td>\n",
       "      <td>Dallas Stars</td>\n",
       "    </tr>\n",
       "    <tr>\n",
       "      <th>1</th>\n",
       "      <td>2019</td>\n",
       "      <td>St. Louis Blues</td>\n",
       "      <td>Boston Bruins</td>\n",
       "    </tr>\n",
       "    <tr>\n",
       "      <th>2</th>\n",
       "      <td>2018</td>\n",
       "      <td>Washington Capitals</td>\n",
       "      <td>Vegas Golden Knights</td>\n",
       "    </tr>\n",
       "    <tr>\n",
       "      <th>3</th>\n",
       "      <td>2017</td>\n",
       "      <td>Pittsburgh Penguins</td>\n",
       "      <td>Nashville Predators</td>\n",
       "    </tr>\n",
       "    <tr>\n",
       "      <th>4</th>\n",
       "      <td>2016</td>\n",
       "      <td>Pittsburgh Penguins</td>\n",
       "      <td>San Jose Sharks</td>\n",
       "    </tr>\n",
       "    <tr>\n",
       "      <th>...</th>\n",
       "      <td>...</td>\n",
       "      <td>...</td>\n",
       "      <td>...</td>\n",
       "    </tr>\n",
       "    <tr>\n",
       "      <th>103</th>\n",
       "      <td>1915</td>\n",
       "      <td>Vancouver Millionaires</td>\n",
       "      <td>Ottawa Senators</td>\n",
       "    </tr>\n",
       "    <tr>\n",
       "      <th>104</th>\n",
       "      <td>1914</td>\n",
       "      <td>Toronto Blueshirts</td>\n",
       "      <td>Victoria Cougars</td>\n",
       "    </tr>\n",
       "    <tr>\n",
       "      <th>105</th>\n",
       "      <td>1913</td>\n",
       "      <td>Quebec Bulldogs</td>\n",
       "      <td>Sydney Miners</td>\n",
       "    </tr>\n",
       "    <tr>\n",
       "      <th>106</th>\n",
       "      <td>1912</td>\n",
       "      <td>Quebec Bulldogs</td>\n",
       "      <td>Moncton Victories</td>\n",
       "    </tr>\n",
       "    <tr>\n",
       "      <th>107</th>\n",
       "      <td>1911</td>\n",
       "      <td>Ottawa Senators</td>\n",
       "      <td>Port Arthur Bearcats</td>\n",
       "    </tr>\n",
       "  </tbody>\n",
       "</table>\n",
       "<p>108 rows × 3 columns</p>\n",
       "</div>"
      ],
      "text/plain": [
       "     Year                    Team             Runner up\n",
       "0    2020     Tampa Bay Lightning          Dallas Stars\n",
       "1    2019         St. Louis Blues         Boston Bruins\n",
       "2    2018     Washington Capitals  Vegas Golden Knights\n",
       "3    2017     Pittsburgh Penguins   Nashville Predators\n",
       "4    2016     Pittsburgh Penguins       San Jose Sharks\n",
       "..    ...                     ...                   ...\n",
       "103  1915  Vancouver Millionaires       Ottawa Senators\n",
       "104  1914      Toronto Blueshirts      Victoria Cougars\n",
       "105  1913         Quebec Bulldogs         Sydney Miners\n",
       "106  1912         Quebec Bulldogs     Moncton Victories\n",
       "107  1911         Ottawa Senators  Port Arthur Bearcats\n",
       "\n",
       "[108 rows x 3 columns]"
      ]
     },
     "execution_count": 170,
     "metadata": {},
     "output_type": "execute_result"
    }
   ],
   "source": [
    "#1 import the new excel sheet with the data from every year\n",
    "\n",
    "file = \"Stanely_cup_winners_by_year.xlsx\"\n",
    "df_yr = pd.read_excel(file)\n",
    "df_yr"
   ]
  },
  {
   "cell_type": "code",
   "execution_count": 173,
   "metadata": {
    "id": "7MotWpFenZj9"
   },
   "outputs": [],
   "source": [
    "#2 run through the data to extract the last year a team has won the Stanely cup\n",
    "\n",
    "i=0\n",
    "while i<len(df_yr):\n",
    "    team = df_yr['Team'][i]\n",
    "    year = df_yr['Year'][i]\n",
    "    \n",
    "    if team in list(df3['Team']): # make the entire column a list, then check\n",
    "        indx = df3['Team'].where(df3['Team'] == team).dropna().index[0] # check in the column series \n",
    "        if year>df3['Last year won'][indx]:\n",
    "            df3['Last year won'][indx]=year\n",
    "     \n",
    "    i+=1\n"
   ]
  },
  {
   "cell_type": "code",
   "execution_count": 174,
   "metadata": {
    "id": "UVDvYXyTnZj-"
   },
   "outputs": [
    {
     "data": {
      "text/html": [
       "<div>\n",
       "<style scoped>\n",
       "    .dataframe tbody tr th:only-of-type {\n",
       "        vertical-align: middle;\n",
       "    }\n",
       "\n",
       "    .dataframe tbody tr th {\n",
       "        vertical-align: top;\n",
       "    }\n",
       "\n",
       "    .dataframe thead th {\n",
       "        text-align: right;\n",
       "    }\n",
       "</style>\n",
       "<table border=\"1\" class=\"dataframe\">\n",
       "  <thead>\n",
       "    <tr style=\"text-align: right;\">\n",
       "      <th></th>\n",
       "      <th>Team</th>\n",
       "      <th>Wins</th>\n",
       "      <th>Country</th>\n",
       "      <th>Last year won</th>\n",
       "    </tr>\n",
       "  </thead>\n",
       "  <tbody>\n",
       "    <tr>\n",
       "      <th>0</th>\n",
       "      <td>Montréal Canadiens</td>\n",
       "      <td>23</td>\n",
       "      <td>Canada</td>\n",
       "      <td>0</td>\n",
       "    </tr>\n",
       "    <tr>\n",
       "      <th>1</th>\n",
       "      <td>Toronto Maple Leafs</td>\n",
       "      <td>13</td>\n",
       "      <td>Canada</td>\n",
       "      <td>1967</td>\n",
       "    </tr>\n",
       "    <tr>\n",
       "      <th>2</th>\n",
       "      <td>Detroit Red Wings</td>\n",
       "      <td>11</td>\n",
       "      <td>US</td>\n",
       "      <td>2008</td>\n",
       "    </tr>\n",
       "    <tr>\n",
       "      <th>3</th>\n",
       "      <td>Boston Bruins</td>\n",
       "      <td>6</td>\n",
       "      <td>US</td>\n",
       "      <td>2011</td>\n",
       "    </tr>\n",
       "    <tr>\n",
       "      <th>4</th>\n",
       "      <td>Chicago Blackhawks</td>\n",
       "      <td>6</td>\n",
       "      <td>US</td>\n",
       "      <td>2015</td>\n",
       "    </tr>\n",
       "    <tr>\n",
       "      <th>5</th>\n",
       "      <td>Edmonton Oilers</td>\n",
       "      <td>5</td>\n",
       "      <td>Canada</td>\n",
       "      <td>1990</td>\n",
       "    </tr>\n",
       "    <tr>\n",
       "      <th>6</th>\n",
       "      <td>Pittsburgh Penguins</td>\n",
       "      <td>5</td>\n",
       "      <td>US</td>\n",
       "      <td>2017</td>\n",
       "    </tr>\n",
       "    <tr>\n",
       "      <th>7</th>\n",
       "      <td>St. Louis Eagles</td>\n",
       "      <td>4</td>\n",
       "      <td>US</td>\n",
       "      <td>0</td>\n",
       "    </tr>\n",
       "    <tr>\n",
       "      <th>8</th>\n",
       "      <td>New York Islanders</td>\n",
       "      <td>4</td>\n",
       "      <td>US</td>\n",
       "      <td>1983</td>\n",
       "    </tr>\n",
       "    <tr>\n",
       "      <th>9</th>\n",
       "      <td>New York Rangers</td>\n",
       "      <td>4</td>\n",
       "      <td>US</td>\n",
       "      <td>1994</td>\n",
       "    </tr>\n",
       "    <tr>\n",
       "      <th>10</th>\n",
       "      <td>Tampa Bay Lightning</td>\n",
       "      <td>3</td>\n",
       "      <td>US</td>\n",
       "      <td>2020</td>\n",
       "    </tr>\n",
       "    <tr>\n",
       "      <th>11</th>\n",
       "      <td>New Jersey Devils</td>\n",
       "      <td>3</td>\n",
       "      <td>US</td>\n",
       "      <td>2003</td>\n",
       "    </tr>\n",
       "    <tr>\n",
       "      <th>12</th>\n",
       "      <td>Los Angeles Kings</td>\n",
       "      <td>2</td>\n",
       "      <td>US</td>\n",
       "      <td>2014</td>\n",
       "    </tr>\n",
       "    <tr>\n",
       "      <th>13</th>\n",
       "      <td>Colorado Avalanche</td>\n",
       "      <td>2</td>\n",
       "      <td>US</td>\n",
       "      <td>2001</td>\n",
       "    </tr>\n",
       "    <tr>\n",
       "      <th>14</th>\n",
       "      <td>Philadelphia Flyers</td>\n",
       "      <td>2</td>\n",
       "      <td>US</td>\n",
       "      <td>1975</td>\n",
       "    </tr>\n",
       "    <tr>\n",
       "      <th>15</th>\n",
       "      <td>Montreal Maroons</td>\n",
       "      <td>2</td>\n",
       "      <td>Canada</td>\n",
       "      <td>1935</td>\n",
       "    </tr>\n",
       "    <tr>\n",
       "      <th>16</th>\n",
       "      <td>St. Louis Blues</td>\n",
       "      <td>1</td>\n",
       "      <td>US</td>\n",
       "      <td>2019</td>\n",
       "    </tr>\n",
       "    <tr>\n",
       "      <th>17</th>\n",
       "      <td>Anaheim Ducks</td>\n",
       "      <td>1</td>\n",
       "      <td>US</td>\n",
       "      <td>2007</td>\n",
       "    </tr>\n",
       "    <tr>\n",
       "      <th>18</th>\n",
       "      <td>Dallas Stars</td>\n",
       "      <td>1</td>\n",
       "      <td>US</td>\n",
       "      <td>1999</td>\n",
       "    </tr>\n",
       "    <tr>\n",
       "      <th>19</th>\n",
       "      <td>Carolina Hurricanes</td>\n",
       "      <td>1</td>\n",
       "      <td>US</td>\n",
       "      <td>2006</td>\n",
       "    </tr>\n",
       "    <tr>\n",
       "      <th>20</th>\n",
       "      <td>Calgary Flames</td>\n",
       "      <td>1</td>\n",
       "      <td>Canada</td>\n",
       "      <td>1989</td>\n",
       "    </tr>\n",
       "    <tr>\n",
       "      <th>21</th>\n",
       "      <td>Washington Capitals</td>\n",
       "      <td>1</td>\n",
       "      <td>US</td>\n",
       "      <td>2018</td>\n",
       "    </tr>\n",
       "  </tbody>\n",
       "</table>\n",
       "</div>"
      ],
      "text/plain": [
       "                   Team  Wins Country  Last year won\n",
       "0    Montréal Canadiens    23  Canada              0\n",
       "1   Toronto Maple Leafs    13  Canada           1967\n",
       "2     Detroit Red Wings    11      US           2008\n",
       "3         Boston Bruins     6      US           2011\n",
       "4    Chicago Blackhawks     6      US           2015\n",
       "5       Edmonton Oilers     5  Canada           1990\n",
       "6   Pittsburgh Penguins     5      US           2017\n",
       "7      St. Louis Eagles     4      US              0\n",
       "8    New York Islanders     4      US           1983\n",
       "9      New York Rangers     4      US           1994\n",
       "10  Tampa Bay Lightning     3      US           2020\n",
       "11    New Jersey Devils     3      US           2003\n",
       "12    Los Angeles Kings     2      US           2014\n",
       "13   Colorado Avalanche     2      US           2001\n",
       "14  Philadelphia Flyers     2      US           1975\n",
       "15     Montreal Maroons     2  Canada           1935\n",
       "16      St. Louis Blues     1      US           2019\n",
       "17        Anaheim Ducks     1      US           2007\n",
       "18         Dallas Stars     1      US           1999\n",
       "19  Carolina Hurricanes     1      US           2006\n",
       "20       Calgary Flames     1  Canada           1989\n",
       "21  Washington Capitals     1      US           2018"
      ]
     },
     "execution_count": 174,
     "metadata": {},
     "output_type": "execute_result"
    }
   ],
   "source": [
    "df3"
   ]
  },
  {
   "cell_type": "code",
   "execution_count": 175,
   "metadata": {
    "id": "QONmvEjj4MqB"
   },
   "outputs": [
    {
     "data": {
      "text/plain": [
       "-0.5582200870235183"
      ]
     },
     "execution_count": 175,
     "metadata": {},
     "output_type": "execute_result"
    }
   ],
   "source": [
    "# Calculate the correlation between wins and if won last year. (Pearson Correlation Coefficient):\n",
    "\n",
    "df3['Wins'].corr(df3['Last year won'])"
   ]
  },
  {
   "cell_type": "markdown",
   "metadata": {
    "id": "7izPsM-84MqK"
   },
   "source": [
    "## Dealing with Missing Values (NaN Values)"
   ]
  },
  {
   "cell_type": "markdown",
   "metadata": {
    "id": "bBWjkOaB4MqK"
   },
   "source": [
    "As mentioned in the series section, experimental datasets often have missing values. We can deal with such data in many different ways. For example, if you have a large dataset you may simple chose to remove such data points or if the concerned data is numerical, you may replace the NaN value with the average of the column. Let's take a look at how do these operations:"
   ]
  },
  {
   "cell_type": "markdown",
   "metadata": {
    "id": "wHXdXs724MqL"
   },
   "source": [
    "### Dropping NaN values: "
   ]
  },
  {
   "cell_type": "code",
   "execution_count": 178,
   "metadata": {
    "id": "ug6PdPaTnZkA"
   },
   "outputs": [
    {
     "data": {
      "text/html": [
       "<div>\n",
       "<style scoped>\n",
       "    .dataframe tbody tr th:only-of-type {\n",
       "        vertical-align: middle;\n",
       "    }\n",
       "\n",
       "    .dataframe tbody tr th {\n",
       "        vertical-align: top;\n",
       "    }\n",
       "\n",
       "    .dataframe thead th {\n",
       "        text-align: right;\n",
       "    }\n",
       "</style>\n",
       "<table border=\"1\" class=\"dataframe\">\n",
       "  <thead>\n",
       "    <tr style=\"text-align: right;\">\n",
       "      <th></th>\n",
       "      <th>Team</th>\n",
       "      <th>Wins</th>\n",
       "      <th>Country</th>\n",
       "      <th>Last year won</th>\n",
       "    </tr>\n",
       "  </thead>\n",
       "  <tbody>\n",
       "    <tr>\n",
       "      <th>0</th>\n",
       "      <td>Montréal Canadiens</td>\n",
       "      <td>23</td>\n",
       "      <td>Canada</td>\n",
       "      <td>NaN</td>\n",
       "    </tr>\n",
       "    <tr>\n",
       "      <th>1</th>\n",
       "      <td>Toronto Maple Leafs</td>\n",
       "      <td>13</td>\n",
       "      <td>Canada</td>\n",
       "      <td>1967.0</td>\n",
       "    </tr>\n",
       "    <tr>\n",
       "      <th>2</th>\n",
       "      <td>Detroit Red Wings</td>\n",
       "      <td>11</td>\n",
       "      <td>US</td>\n",
       "      <td>2008.0</td>\n",
       "    </tr>\n",
       "    <tr>\n",
       "      <th>3</th>\n",
       "      <td>Boston Bruins</td>\n",
       "      <td>6</td>\n",
       "      <td>US</td>\n",
       "      <td>2011.0</td>\n",
       "    </tr>\n",
       "    <tr>\n",
       "      <th>4</th>\n",
       "      <td>Chicago Blackhawks</td>\n",
       "      <td>6</td>\n",
       "      <td>US</td>\n",
       "      <td>2015.0</td>\n",
       "    </tr>\n",
       "    <tr>\n",
       "      <th>5</th>\n",
       "      <td>Edmonton Oilers</td>\n",
       "      <td>5</td>\n",
       "      <td>Canada</td>\n",
       "      <td>1990.0</td>\n",
       "    </tr>\n",
       "    <tr>\n",
       "      <th>6</th>\n",
       "      <td>Pittsburgh Penguins</td>\n",
       "      <td>5</td>\n",
       "      <td>US</td>\n",
       "      <td>2017.0</td>\n",
       "    </tr>\n",
       "    <tr>\n",
       "      <th>7</th>\n",
       "      <td>St. Louis Eagles</td>\n",
       "      <td>4</td>\n",
       "      <td>US</td>\n",
       "      <td>NaN</td>\n",
       "    </tr>\n",
       "    <tr>\n",
       "      <th>8</th>\n",
       "      <td>New York Islanders</td>\n",
       "      <td>4</td>\n",
       "      <td>US</td>\n",
       "      <td>1983.0</td>\n",
       "    </tr>\n",
       "    <tr>\n",
       "      <th>9</th>\n",
       "      <td>New York Rangers</td>\n",
       "      <td>4</td>\n",
       "      <td>US</td>\n",
       "      <td>1994.0</td>\n",
       "    </tr>\n",
       "    <tr>\n",
       "      <th>10</th>\n",
       "      <td>Tampa Bay Lightning</td>\n",
       "      <td>3</td>\n",
       "      <td>US</td>\n",
       "      <td>2020.0</td>\n",
       "    </tr>\n",
       "    <tr>\n",
       "      <th>11</th>\n",
       "      <td>New Jersey Devils</td>\n",
       "      <td>3</td>\n",
       "      <td>US</td>\n",
       "      <td>2003.0</td>\n",
       "    </tr>\n",
       "    <tr>\n",
       "      <th>12</th>\n",
       "      <td>Los Angeles Kings</td>\n",
       "      <td>2</td>\n",
       "      <td>US</td>\n",
       "      <td>2014.0</td>\n",
       "    </tr>\n",
       "    <tr>\n",
       "      <th>13</th>\n",
       "      <td>Colorado Avalanche</td>\n",
       "      <td>2</td>\n",
       "      <td>US</td>\n",
       "      <td>2001.0</td>\n",
       "    </tr>\n",
       "    <tr>\n",
       "      <th>14</th>\n",
       "      <td>Philadelphia Flyers</td>\n",
       "      <td>2</td>\n",
       "      <td>US</td>\n",
       "      <td>1975.0</td>\n",
       "    </tr>\n",
       "    <tr>\n",
       "      <th>15</th>\n",
       "      <td>Montreal Maroons</td>\n",
       "      <td>2</td>\n",
       "      <td>Canada</td>\n",
       "      <td>1935.0</td>\n",
       "    </tr>\n",
       "    <tr>\n",
       "      <th>16</th>\n",
       "      <td>St. Louis Blues</td>\n",
       "      <td>1</td>\n",
       "      <td>US</td>\n",
       "      <td>2019.0</td>\n",
       "    </tr>\n",
       "    <tr>\n",
       "      <th>17</th>\n",
       "      <td>Anaheim Ducks</td>\n",
       "      <td>1</td>\n",
       "      <td>US</td>\n",
       "      <td>2007.0</td>\n",
       "    </tr>\n",
       "    <tr>\n",
       "      <th>18</th>\n",
       "      <td>Dallas Stars</td>\n",
       "      <td>1</td>\n",
       "      <td>US</td>\n",
       "      <td>1999.0</td>\n",
       "    </tr>\n",
       "    <tr>\n",
       "      <th>19</th>\n",
       "      <td>Carolina Hurricanes</td>\n",
       "      <td>1</td>\n",
       "      <td>US</td>\n",
       "      <td>2006.0</td>\n",
       "    </tr>\n",
       "    <tr>\n",
       "      <th>20</th>\n",
       "      <td>Calgary Flames</td>\n",
       "      <td>1</td>\n",
       "      <td>Canada</td>\n",
       "      <td>1989.0</td>\n",
       "    </tr>\n",
       "    <tr>\n",
       "      <th>21</th>\n",
       "      <td>Washington Capitals</td>\n",
       "      <td>1</td>\n",
       "      <td>US</td>\n",
       "      <td>2018.0</td>\n",
       "    </tr>\n",
       "  </tbody>\n",
       "</table>\n",
       "</div>"
      ],
      "text/plain": [
       "                   Team  Wins Country  Last year won\n",
       "0    Montréal Canadiens    23  Canada            NaN\n",
       "1   Toronto Maple Leafs    13  Canada         1967.0\n",
       "2     Detroit Red Wings    11      US         2008.0\n",
       "3         Boston Bruins     6      US         2011.0\n",
       "4    Chicago Blackhawks     6      US         2015.0\n",
       "5       Edmonton Oilers     5  Canada         1990.0\n",
       "6   Pittsburgh Penguins     5      US         2017.0\n",
       "7      St. Louis Eagles     4      US            NaN\n",
       "8    New York Islanders     4      US         1983.0\n",
       "9      New York Rangers     4      US         1994.0\n",
       "10  Tampa Bay Lightning     3      US         2020.0\n",
       "11    New Jersey Devils     3      US         2003.0\n",
       "12    Los Angeles Kings     2      US         2014.0\n",
       "13   Colorado Avalanche     2      US         2001.0\n",
       "14  Philadelphia Flyers     2      US         1975.0\n",
       "15     Montreal Maroons     2  Canada         1935.0\n",
       "16      St. Louis Blues     1      US         2019.0\n",
       "17        Anaheim Ducks     1      US         2007.0\n",
       "18         Dallas Stars     1      US         1999.0\n",
       "19  Carolina Hurricanes     1      US         2006.0\n",
       "20       Calgary Flames     1  Canada         1989.0\n",
       "21  Washington Capitals     1      US         2018.0"
      ]
     },
     "execution_count": 178,
     "metadata": {},
     "output_type": "execute_result"
    }
   ],
   "source": [
    "#Creating a dataframe with NaN values: Converting 0 in the year column to NaN\n",
    "\n",
    "df3['Last year won'] = df3['Last year won'].replace({0:np.nan})\n",
    "df3"
   ]
  },
  {
   "cell_type": "code",
   "execution_count": 177,
   "metadata": {
    "id": "AzDOKaqe4MqN"
   },
   "outputs": [
    {
     "data": {
      "text/html": [
       "<div>\n",
       "<style scoped>\n",
       "    .dataframe tbody tr th:only-of-type {\n",
       "        vertical-align: middle;\n",
       "    }\n",
       "\n",
       "    .dataframe tbody tr th {\n",
       "        vertical-align: top;\n",
       "    }\n",
       "\n",
       "    .dataframe thead th {\n",
       "        text-align: right;\n",
       "    }\n",
       "</style>\n",
       "<table border=\"1\" class=\"dataframe\">\n",
       "  <thead>\n",
       "    <tr style=\"text-align: right;\">\n",
       "      <th></th>\n",
       "      <th>Team</th>\n",
       "      <th>Wins</th>\n",
       "      <th>Country</th>\n",
       "      <th>Last year won</th>\n",
       "    </tr>\n",
       "  </thead>\n",
       "  <tbody>\n",
       "    <tr>\n",
       "      <th>1</th>\n",
       "      <td>Toronto Maple Leafs</td>\n",
       "      <td>13</td>\n",
       "      <td>Canada</td>\n",
       "      <td>1967.0</td>\n",
       "    </tr>\n",
       "    <tr>\n",
       "      <th>2</th>\n",
       "      <td>Detroit Red Wings</td>\n",
       "      <td>11</td>\n",
       "      <td>US</td>\n",
       "      <td>2008.0</td>\n",
       "    </tr>\n",
       "    <tr>\n",
       "      <th>3</th>\n",
       "      <td>Boston Bruins</td>\n",
       "      <td>6</td>\n",
       "      <td>US</td>\n",
       "      <td>2011.0</td>\n",
       "    </tr>\n",
       "    <tr>\n",
       "      <th>4</th>\n",
       "      <td>Chicago Blackhawks</td>\n",
       "      <td>6</td>\n",
       "      <td>US</td>\n",
       "      <td>2015.0</td>\n",
       "    </tr>\n",
       "    <tr>\n",
       "      <th>5</th>\n",
       "      <td>Edmonton Oilers</td>\n",
       "      <td>5</td>\n",
       "      <td>Canada</td>\n",
       "      <td>1990.0</td>\n",
       "    </tr>\n",
       "    <tr>\n",
       "      <th>6</th>\n",
       "      <td>Pittsburgh Penguins</td>\n",
       "      <td>5</td>\n",
       "      <td>US</td>\n",
       "      <td>2017.0</td>\n",
       "    </tr>\n",
       "    <tr>\n",
       "      <th>8</th>\n",
       "      <td>New York Islanders</td>\n",
       "      <td>4</td>\n",
       "      <td>US</td>\n",
       "      <td>1983.0</td>\n",
       "    </tr>\n",
       "    <tr>\n",
       "      <th>9</th>\n",
       "      <td>New York Rangers</td>\n",
       "      <td>4</td>\n",
       "      <td>US</td>\n",
       "      <td>1994.0</td>\n",
       "    </tr>\n",
       "    <tr>\n",
       "      <th>10</th>\n",
       "      <td>Tampa Bay Lightning</td>\n",
       "      <td>3</td>\n",
       "      <td>US</td>\n",
       "      <td>2020.0</td>\n",
       "    </tr>\n",
       "    <tr>\n",
       "      <th>11</th>\n",
       "      <td>New Jersey Devils</td>\n",
       "      <td>3</td>\n",
       "      <td>US</td>\n",
       "      <td>2003.0</td>\n",
       "    </tr>\n",
       "    <tr>\n",
       "      <th>12</th>\n",
       "      <td>Los Angeles Kings</td>\n",
       "      <td>2</td>\n",
       "      <td>US</td>\n",
       "      <td>2014.0</td>\n",
       "    </tr>\n",
       "    <tr>\n",
       "      <th>13</th>\n",
       "      <td>Colorado Avalanche</td>\n",
       "      <td>2</td>\n",
       "      <td>US</td>\n",
       "      <td>2001.0</td>\n",
       "    </tr>\n",
       "    <tr>\n",
       "      <th>14</th>\n",
       "      <td>Philadelphia Flyers</td>\n",
       "      <td>2</td>\n",
       "      <td>US</td>\n",
       "      <td>1975.0</td>\n",
       "    </tr>\n",
       "    <tr>\n",
       "      <th>15</th>\n",
       "      <td>Montreal Maroons</td>\n",
       "      <td>2</td>\n",
       "      <td>Canada</td>\n",
       "      <td>1935.0</td>\n",
       "    </tr>\n",
       "    <tr>\n",
       "      <th>16</th>\n",
       "      <td>St. Louis Blues</td>\n",
       "      <td>1</td>\n",
       "      <td>US</td>\n",
       "      <td>2019.0</td>\n",
       "    </tr>\n",
       "    <tr>\n",
       "      <th>17</th>\n",
       "      <td>Anaheim Ducks</td>\n",
       "      <td>1</td>\n",
       "      <td>US</td>\n",
       "      <td>2007.0</td>\n",
       "    </tr>\n",
       "    <tr>\n",
       "      <th>18</th>\n",
       "      <td>Dallas Stars</td>\n",
       "      <td>1</td>\n",
       "      <td>US</td>\n",
       "      <td>1999.0</td>\n",
       "    </tr>\n",
       "    <tr>\n",
       "      <th>19</th>\n",
       "      <td>Carolina Hurricanes</td>\n",
       "      <td>1</td>\n",
       "      <td>US</td>\n",
       "      <td>2006.0</td>\n",
       "    </tr>\n",
       "    <tr>\n",
       "      <th>20</th>\n",
       "      <td>Calgary Flames</td>\n",
       "      <td>1</td>\n",
       "      <td>Canada</td>\n",
       "      <td>1989.0</td>\n",
       "    </tr>\n",
       "    <tr>\n",
       "      <th>21</th>\n",
       "      <td>Washington Capitals</td>\n",
       "      <td>1</td>\n",
       "      <td>US</td>\n",
       "      <td>2018.0</td>\n",
       "    </tr>\n",
       "  </tbody>\n",
       "</table>\n",
       "</div>"
      ],
      "text/plain": [
       "                   Team  Wins Country  Last year won\n",
       "1   Toronto Maple Leafs    13  Canada         1967.0\n",
       "2     Detroit Red Wings    11      US         2008.0\n",
       "3         Boston Bruins     6      US         2011.0\n",
       "4    Chicago Blackhawks     6      US         2015.0\n",
       "5       Edmonton Oilers     5  Canada         1990.0\n",
       "6   Pittsburgh Penguins     5      US         2017.0\n",
       "8    New York Islanders     4      US         1983.0\n",
       "9      New York Rangers     4      US         1994.0\n",
       "10  Tampa Bay Lightning     3      US         2020.0\n",
       "11    New Jersey Devils     3      US         2003.0\n",
       "12    Los Angeles Kings     2      US         2014.0\n",
       "13   Colorado Avalanche     2      US         2001.0\n",
       "14  Philadelphia Flyers     2      US         1975.0\n",
       "15     Montreal Maroons     2  Canada         1935.0\n",
       "16      St. Louis Blues     1      US         2019.0\n",
       "17        Anaheim Ducks     1      US         2007.0\n",
       "18         Dallas Stars     1      US         1999.0\n",
       "19  Carolina Hurricanes     1      US         2006.0\n",
       "20       Calgary Flames     1  Canada         1989.0\n",
       "21  Washington Capitals     1      US         2018.0"
      ]
     },
     "execution_count": 177,
     "metadata": {},
     "output_type": "execute_result"
    }
   ],
   "source": [
    "# We could just drop all NaN data points:\n",
    "\n",
    "df_fix = df3.dropna()\n",
    "df_fix\n",
    "\n",
    "# Deleted the row with NaN value(s)"
   ]
  },
  {
   "cell_type": "code",
   "execution_count": 179,
   "metadata": {
    "id": "_-uD_kZ34MqO"
   },
   "outputs": [
    {
     "data": {
      "text/html": [
       "<div>\n",
       "<style scoped>\n",
       "    .dataframe tbody tr th:only-of-type {\n",
       "        vertical-align: middle;\n",
       "    }\n",
       "\n",
       "    .dataframe tbody tr th {\n",
       "        vertical-align: top;\n",
       "    }\n",
       "\n",
       "    .dataframe thead th {\n",
       "        text-align: right;\n",
       "    }\n",
       "</style>\n",
       "<table border=\"1\" class=\"dataframe\">\n",
       "  <thead>\n",
       "    <tr style=\"text-align: right;\">\n",
       "      <th></th>\n",
       "      <th>Team</th>\n",
       "      <th>Wins</th>\n",
       "      <th>Country</th>\n",
       "    </tr>\n",
       "  </thead>\n",
       "  <tbody>\n",
       "    <tr>\n",
       "      <th>0</th>\n",
       "      <td>Montréal Canadiens</td>\n",
       "      <td>23</td>\n",
       "      <td>Canada</td>\n",
       "    </tr>\n",
       "    <tr>\n",
       "      <th>1</th>\n",
       "      <td>Toronto Maple Leafs</td>\n",
       "      <td>13</td>\n",
       "      <td>Canada</td>\n",
       "    </tr>\n",
       "    <tr>\n",
       "      <th>2</th>\n",
       "      <td>Detroit Red Wings</td>\n",
       "      <td>11</td>\n",
       "      <td>US</td>\n",
       "    </tr>\n",
       "    <tr>\n",
       "      <th>3</th>\n",
       "      <td>Boston Bruins</td>\n",
       "      <td>6</td>\n",
       "      <td>US</td>\n",
       "    </tr>\n",
       "    <tr>\n",
       "      <th>4</th>\n",
       "      <td>Chicago Blackhawks</td>\n",
       "      <td>6</td>\n",
       "      <td>US</td>\n",
       "    </tr>\n",
       "    <tr>\n",
       "      <th>5</th>\n",
       "      <td>Edmonton Oilers</td>\n",
       "      <td>5</td>\n",
       "      <td>Canada</td>\n",
       "    </tr>\n",
       "    <tr>\n",
       "      <th>6</th>\n",
       "      <td>Pittsburgh Penguins</td>\n",
       "      <td>5</td>\n",
       "      <td>US</td>\n",
       "    </tr>\n",
       "    <tr>\n",
       "      <th>7</th>\n",
       "      <td>St. Louis Eagles</td>\n",
       "      <td>4</td>\n",
       "      <td>US</td>\n",
       "    </tr>\n",
       "    <tr>\n",
       "      <th>8</th>\n",
       "      <td>New York Islanders</td>\n",
       "      <td>4</td>\n",
       "      <td>US</td>\n",
       "    </tr>\n",
       "    <tr>\n",
       "      <th>9</th>\n",
       "      <td>New York Rangers</td>\n",
       "      <td>4</td>\n",
       "      <td>US</td>\n",
       "    </tr>\n",
       "    <tr>\n",
       "      <th>10</th>\n",
       "      <td>Tampa Bay Lightning</td>\n",
       "      <td>3</td>\n",
       "      <td>US</td>\n",
       "    </tr>\n",
       "    <tr>\n",
       "      <th>11</th>\n",
       "      <td>New Jersey Devils</td>\n",
       "      <td>3</td>\n",
       "      <td>US</td>\n",
       "    </tr>\n",
       "    <tr>\n",
       "      <th>12</th>\n",
       "      <td>Los Angeles Kings</td>\n",
       "      <td>2</td>\n",
       "      <td>US</td>\n",
       "    </tr>\n",
       "    <tr>\n",
       "      <th>13</th>\n",
       "      <td>Colorado Avalanche</td>\n",
       "      <td>2</td>\n",
       "      <td>US</td>\n",
       "    </tr>\n",
       "    <tr>\n",
       "      <th>14</th>\n",
       "      <td>Philadelphia Flyers</td>\n",
       "      <td>2</td>\n",
       "      <td>US</td>\n",
       "    </tr>\n",
       "    <tr>\n",
       "      <th>15</th>\n",
       "      <td>Montreal Maroons</td>\n",
       "      <td>2</td>\n",
       "      <td>Canada</td>\n",
       "    </tr>\n",
       "    <tr>\n",
       "      <th>16</th>\n",
       "      <td>St. Louis Blues</td>\n",
       "      <td>1</td>\n",
       "      <td>US</td>\n",
       "    </tr>\n",
       "    <tr>\n",
       "      <th>17</th>\n",
       "      <td>Anaheim Ducks</td>\n",
       "      <td>1</td>\n",
       "      <td>US</td>\n",
       "    </tr>\n",
       "    <tr>\n",
       "      <th>18</th>\n",
       "      <td>Dallas Stars</td>\n",
       "      <td>1</td>\n",
       "      <td>US</td>\n",
       "    </tr>\n",
       "    <tr>\n",
       "      <th>19</th>\n",
       "      <td>Carolina Hurricanes</td>\n",
       "      <td>1</td>\n",
       "      <td>US</td>\n",
       "    </tr>\n",
       "    <tr>\n",
       "      <th>20</th>\n",
       "      <td>Calgary Flames</td>\n",
       "      <td>1</td>\n",
       "      <td>Canada</td>\n",
       "    </tr>\n",
       "    <tr>\n",
       "      <th>21</th>\n",
       "      <td>Washington Capitals</td>\n",
       "      <td>1</td>\n",
       "      <td>US</td>\n",
       "    </tr>\n",
       "  </tbody>\n",
       "</table>\n",
       "</div>"
      ],
      "text/plain": [
       "                   Team  Wins Country\n",
       "0    Montréal Canadiens    23  Canada\n",
       "1   Toronto Maple Leafs    13  Canada\n",
       "2     Detroit Red Wings    11      US\n",
       "3         Boston Bruins     6      US\n",
       "4    Chicago Blackhawks     6      US\n",
       "5       Edmonton Oilers     5  Canada\n",
       "6   Pittsburgh Penguins     5      US\n",
       "7      St. Louis Eagles     4      US\n",
       "8    New York Islanders     4      US\n",
       "9      New York Rangers     4      US\n",
       "10  Tampa Bay Lightning     3      US\n",
       "11    New Jersey Devils     3      US\n",
       "12    Los Angeles Kings     2      US\n",
       "13   Colorado Avalanche     2      US\n",
       "14  Philadelphia Flyers     2      US\n",
       "15     Montreal Maroons     2  Canada\n",
       "16      St. Louis Blues     1      US\n",
       "17        Anaheim Ducks     1      US\n",
       "18         Dallas Stars     1      US\n",
       "19  Carolina Hurricanes     1      US\n",
       "20       Calgary Flames     1  Canada\n",
       "21  Washington Capitals     1      US"
      ]
     },
     "execution_count": 179,
     "metadata": {},
     "output_type": "execute_result"
    }
   ],
   "source": [
    "# We could just drop all NaN data points - dropping by column using the axis tag:\n",
    "\n",
    "df_fix = df3.dropna(axis=1)\n",
    "df_fix"
   ]
  },
  {
   "cell_type": "markdown",
   "metadata": {
    "id": "LmtXGF0O4MqQ"
   },
   "source": [
    "Note: df.dropna() essentially drops all the values in the row or column with the missing data. To avoid this, we can use the how argument. This argument takes two possible inputs:\n",
    "\n",
    "* ‘any’ : If any NA values are present, drop that row or column. [This is the Default]\n",
    "\n",
    "* ‘all’ : If all values are NA, drop that row or column."
   ]
  },
  {
   "cell_type": "code",
   "execution_count": 180,
   "metadata": {
    "id": "5iEwpt1W4MqQ"
   },
   "outputs": [
    {
     "data": {
      "text/html": [
       "<div>\n",
       "<style scoped>\n",
       "    .dataframe tbody tr th:only-of-type {\n",
       "        vertical-align: middle;\n",
       "    }\n",
       "\n",
       "    .dataframe tbody tr th {\n",
       "        vertical-align: top;\n",
       "    }\n",
       "\n",
       "    .dataframe thead th {\n",
       "        text-align: right;\n",
       "    }\n",
       "</style>\n",
       "<table border=\"1\" class=\"dataframe\">\n",
       "  <thead>\n",
       "    <tr style=\"text-align: right;\">\n",
       "      <th></th>\n",
       "      <th>Team</th>\n",
       "      <th>Wins</th>\n",
       "      <th>Country</th>\n",
       "      <th>Last year won</th>\n",
       "    </tr>\n",
       "  </thead>\n",
       "  <tbody>\n",
       "    <tr>\n",
       "      <th>0</th>\n",
       "      <td>Montréal Canadiens</td>\n",
       "      <td>23</td>\n",
       "      <td>Canada</td>\n",
       "      <td>NaN</td>\n",
       "    </tr>\n",
       "    <tr>\n",
       "      <th>1</th>\n",
       "      <td>Toronto Maple Leafs</td>\n",
       "      <td>13</td>\n",
       "      <td>Canada</td>\n",
       "      <td>1967.0</td>\n",
       "    </tr>\n",
       "    <tr>\n",
       "      <th>2</th>\n",
       "      <td>Detroit Red Wings</td>\n",
       "      <td>11</td>\n",
       "      <td>US</td>\n",
       "      <td>2008.0</td>\n",
       "    </tr>\n",
       "    <tr>\n",
       "      <th>3</th>\n",
       "      <td>Boston Bruins</td>\n",
       "      <td>6</td>\n",
       "      <td>US</td>\n",
       "      <td>2011.0</td>\n",
       "    </tr>\n",
       "    <tr>\n",
       "      <th>4</th>\n",
       "      <td>Chicago Blackhawks</td>\n",
       "      <td>6</td>\n",
       "      <td>US</td>\n",
       "      <td>2015.0</td>\n",
       "    </tr>\n",
       "    <tr>\n",
       "      <th>5</th>\n",
       "      <td>Edmonton Oilers</td>\n",
       "      <td>5</td>\n",
       "      <td>Canada</td>\n",
       "      <td>1990.0</td>\n",
       "    </tr>\n",
       "    <tr>\n",
       "      <th>6</th>\n",
       "      <td>Pittsburgh Penguins</td>\n",
       "      <td>5</td>\n",
       "      <td>US</td>\n",
       "      <td>2017.0</td>\n",
       "    </tr>\n",
       "    <tr>\n",
       "      <th>7</th>\n",
       "      <td>St. Louis Eagles</td>\n",
       "      <td>4</td>\n",
       "      <td>US</td>\n",
       "      <td>NaN</td>\n",
       "    </tr>\n",
       "    <tr>\n",
       "      <th>8</th>\n",
       "      <td>New York Islanders</td>\n",
       "      <td>4</td>\n",
       "      <td>US</td>\n",
       "      <td>1983.0</td>\n",
       "    </tr>\n",
       "    <tr>\n",
       "      <th>9</th>\n",
       "      <td>New York Rangers</td>\n",
       "      <td>4</td>\n",
       "      <td>US</td>\n",
       "      <td>1994.0</td>\n",
       "    </tr>\n",
       "    <tr>\n",
       "      <th>10</th>\n",
       "      <td>Tampa Bay Lightning</td>\n",
       "      <td>3</td>\n",
       "      <td>US</td>\n",
       "      <td>2020.0</td>\n",
       "    </tr>\n",
       "    <tr>\n",
       "      <th>11</th>\n",
       "      <td>New Jersey Devils</td>\n",
       "      <td>3</td>\n",
       "      <td>US</td>\n",
       "      <td>2003.0</td>\n",
       "    </tr>\n",
       "    <tr>\n",
       "      <th>12</th>\n",
       "      <td>Los Angeles Kings</td>\n",
       "      <td>2</td>\n",
       "      <td>US</td>\n",
       "      <td>2014.0</td>\n",
       "    </tr>\n",
       "    <tr>\n",
       "      <th>13</th>\n",
       "      <td>Colorado Avalanche</td>\n",
       "      <td>2</td>\n",
       "      <td>US</td>\n",
       "      <td>2001.0</td>\n",
       "    </tr>\n",
       "    <tr>\n",
       "      <th>14</th>\n",
       "      <td>Philadelphia Flyers</td>\n",
       "      <td>2</td>\n",
       "      <td>US</td>\n",
       "      <td>1975.0</td>\n",
       "    </tr>\n",
       "    <tr>\n",
       "      <th>15</th>\n",
       "      <td>Montreal Maroons</td>\n",
       "      <td>2</td>\n",
       "      <td>Canada</td>\n",
       "      <td>1935.0</td>\n",
       "    </tr>\n",
       "    <tr>\n",
       "      <th>16</th>\n",
       "      <td>St. Louis Blues</td>\n",
       "      <td>1</td>\n",
       "      <td>US</td>\n",
       "      <td>2019.0</td>\n",
       "    </tr>\n",
       "    <tr>\n",
       "      <th>17</th>\n",
       "      <td>Anaheim Ducks</td>\n",
       "      <td>1</td>\n",
       "      <td>US</td>\n",
       "      <td>2007.0</td>\n",
       "    </tr>\n",
       "    <tr>\n",
       "      <th>18</th>\n",
       "      <td>Dallas Stars</td>\n",
       "      <td>1</td>\n",
       "      <td>US</td>\n",
       "      <td>1999.0</td>\n",
       "    </tr>\n",
       "    <tr>\n",
       "      <th>19</th>\n",
       "      <td>Carolina Hurricanes</td>\n",
       "      <td>1</td>\n",
       "      <td>US</td>\n",
       "      <td>2006.0</td>\n",
       "    </tr>\n",
       "    <tr>\n",
       "      <th>20</th>\n",
       "      <td>Calgary Flames</td>\n",
       "      <td>1</td>\n",
       "      <td>Canada</td>\n",
       "      <td>1989.0</td>\n",
       "    </tr>\n",
       "    <tr>\n",
       "      <th>21</th>\n",
       "      <td>Washington Capitals</td>\n",
       "      <td>1</td>\n",
       "      <td>US</td>\n",
       "      <td>2018.0</td>\n",
       "    </tr>\n",
       "  </tbody>\n",
       "</table>\n",
       "</div>"
      ],
      "text/plain": [
       "                   Team  Wins Country  Last year won\n",
       "0    Montréal Canadiens    23  Canada            NaN\n",
       "1   Toronto Maple Leafs    13  Canada         1967.0\n",
       "2     Detroit Red Wings    11      US         2008.0\n",
       "3         Boston Bruins     6      US         2011.0\n",
       "4    Chicago Blackhawks     6      US         2015.0\n",
       "5       Edmonton Oilers     5  Canada         1990.0\n",
       "6   Pittsburgh Penguins     5      US         2017.0\n",
       "7      St. Louis Eagles     4      US            NaN\n",
       "8    New York Islanders     4      US         1983.0\n",
       "9      New York Rangers     4      US         1994.0\n",
       "10  Tampa Bay Lightning     3      US         2020.0\n",
       "11    New Jersey Devils     3      US         2003.0\n",
       "12    Los Angeles Kings     2      US         2014.0\n",
       "13   Colorado Avalanche     2      US         2001.0\n",
       "14  Philadelphia Flyers     2      US         1975.0\n",
       "15     Montreal Maroons     2  Canada         1935.0\n",
       "16      St. Louis Blues     1      US         2019.0\n",
       "17        Anaheim Ducks     1      US         2007.0\n",
       "18         Dallas Stars     1      US         1999.0\n",
       "19  Carolina Hurricanes     1      US         2006.0\n",
       "20       Calgary Flames     1  Canada         1989.0\n",
       "21  Washington Capitals     1      US         2018.0"
      ]
     },
     "execution_count": 180,
     "metadata": {},
     "output_type": "execute_result"
    }
   ],
   "source": [
    "df_fix = df3.dropna(how='all')\n",
    "df_fix \n",
    "\n",
    "# So we don't drop the the row because all values were not NaN"
   ]
  },
  {
   "cell_type": "markdown",
   "metadata": {
    "id": "WsDDxWhm4MqS"
   },
   "source": [
    "In this case, we may want to simply replace the missing values. We can achieve this using the fillna() function:"
   ]
  },
  {
   "cell_type": "code",
   "execution_count": 181,
   "metadata": {
    "id": "390yIss14MqS"
   },
   "outputs": [
    {
     "data": {
      "text/html": [
       "<div>\n",
       "<style scoped>\n",
       "    .dataframe tbody tr th:only-of-type {\n",
       "        vertical-align: middle;\n",
       "    }\n",
       "\n",
       "    .dataframe tbody tr th {\n",
       "        vertical-align: top;\n",
       "    }\n",
       "\n",
       "    .dataframe thead th {\n",
       "        text-align: right;\n",
       "    }\n",
       "</style>\n",
       "<table border=\"1\" class=\"dataframe\">\n",
       "  <thead>\n",
       "    <tr style=\"text-align: right;\">\n",
       "      <th></th>\n",
       "      <th>Team</th>\n",
       "      <th>Wins</th>\n",
       "      <th>Country</th>\n",
       "      <th>Last year won</th>\n",
       "    </tr>\n",
       "  </thead>\n",
       "  <tbody>\n",
       "    <tr>\n",
       "      <th>0</th>\n",
       "      <td>Montréal Canadiens</td>\n",
       "      <td>23</td>\n",
       "      <td>Canada</td>\n",
       "      <td>0.0</td>\n",
       "    </tr>\n",
       "    <tr>\n",
       "      <th>1</th>\n",
       "      <td>Toronto Maple Leafs</td>\n",
       "      <td>13</td>\n",
       "      <td>Canada</td>\n",
       "      <td>1967.0</td>\n",
       "    </tr>\n",
       "    <tr>\n",
       "      <th>2</th>\n",
       "      <td>Detroit Red Wings</td>\n",
       "      <td>11</td>\n",
       "      <td>US</td>\n",
       "      <td>2008.0</td>\n",
       "    </tr>\n",
       "    <tr>\n",
       "      <th>3</th>\n",
       "      <td>Boston Bruins</td>\n",
       "      <td>6</td>\n",
       "      <td>US</td>\n",
       "      <td>2011.0</td>\n",
       "    </tr>\n",
       "    <tr>\n",
       "      <th>4</th>\n",
       "      <td>Chicago Blackhawks</td>\n",
       "      <td>6</td>\n",
       "      <td>US</td>\n",
       "      <td>2015.0</td>\n",
       "    </tr>\n",
       "    <tr>\n",
       "      <th>5</th>\n",
       "      <td>Edmonton Oilers</td>\n",
       "      <td>5</td>\n",
       "      <td>Canada</td>\n",
       "      <td>1990.0</td>\n",
       "    </tr>\n",
       "    <tr>\n",
       "      <th>6</th>\n",
       "      <td>Pittsburgh Penguins</td>\n",
       "      <td>5</td>\n",
       "      <td>US</td>\n",
       "      <td>2017.0</td>\n",
       "    </tr>\n",
       "    <tr>\n",
       "      <th>7</th>\n",
       "      <td>St. Louis Eagles</td>\n",
       "      <td>4</td>\n",
       "      <td>US</td>\n",
       "      <td>0.0</td>\n",
       "    </tr>\n",
       "    <tr>\n",
       "      <th>8</th>\n",
       "      <td>New York Islanders</td>\n",
       "      <td>4</td>\n",
       "      <td>US</td>\n",
       "      <td>1983.0</td>\n",
       "    </tr>\n",
       "    <tr>\n",
       "      <th>9</th>\n",
       "      <td>New York Rangers</td>\n",
       "      <td>4</td>\n",
       "      <td>US</td>\n",
       "      <td>1994.0</td>\n",
       "    </tr>\n",
       "    <tr>\n",
       "      <th>10</th>\n",
       "      <td>Tampa Bay Lightning</td>\n",
       "      <td>3</td>\n",
       "      <td>US</td>\n",
       "      <td>2020.0</td>\n",
       "    </tr>\n",
       "    <tr>\n",
       "      <th>11</th>\n",
       "      <td>New Jersey Devils</td>\n",
       "      <td>3</td>\n",
       "      <td>US</td>\n",
       "      <td>2003.0</td>\n",
       "    </tr>\n",
       "    <tr>\n",
       "      <th>12</th>\n",
       "      <td>Los Angeles Kings</td>\n",
       "      <td>2</td>\n",
       "      <td>US</td>\n",
       "      <td>2014.0</td>\n",
       "    </tr>\n",
       "    <tr>\n",
       "      <th>13</th>\n",
       "      <td>Colorado Avalanche</td>\n",
       "      <td>2</td>\n",
       "      <td>US</td>\n",
       "      <td>2001.0</td>\n",
       "    </tr>\n",
       "    <tr>\n",
       "      <th>14</th>\n",
       "      <td>Philadelphia Flyers</td>\n",
       "      <td>2</td>\n",
       "      <td>US</td>\n",
       "      <td>1975.0</td>\n",
       "    </tr>\n",
       "    <tr>\n",
       "      <th>15</th>\n",
       "      <td>Montreal Maroons</td>\n",
       "      <td>2</td>\n",
       "      <td>Canada</td>\n",
       "      <td>1935.0</td>\n",
       "    </tr>\n",
       "    <tr>\n",
       "      <th>16</th>\n",
       "      <td>St. Louis Blues</td>\n",
       "      <td>1</td>\n",
       "      <td>US</td>\n",
       "      <td>2019.0</td>\n",
       "    </tr>\n",
       "    <tr>\n",
       "      <th>17</th>\n",
       "      <td>Anaheim Ducks</td>\n",
       "      <td>1</td>\n",
       "      <td>US</td>\n",
       "      <td>2007.0</td>\n",
       "    </tr>\n",
       "    <tr>\n",
       "      <th>18</th>\n",
       "      <td>Dallas Stars</td>\n",
       "      <td>1</td>\n",
       "      <td>US</td>\n",
       "      <td>1999.0</td>\n",
       "    </tr>\n",
       "    <tr>\n",
       "      <th>19</th>\n",
       "      <td>Carolina Hurricanes</td>\n",
       "      <td>1</td>\n",
       "      <td>US</td>\n",
       "      <td>2006.0</td>\n",
       "    </tr>\n",
       "    <tr>\n",
       "      <th>20</th>\n",
       "      <td>Calgary Flames</td>\n",
       "      <td>1</td>\n",
       "      <td>Canada</td>\n",
       "      <td>1989.0</td>\n",
       "    </tr>\n",
       "    <tr>\n",
       "      <th>21</th>\n",
       "      <td>Washington Capitals</td>\n",
       "      <td>1</td>\n",
       "      <td>US</td>\n",
       "      <td>2018.0</td>\n",
       "    </tr>\n",
       "  </tbody>\n",
       "</table>\n",
       "</div>"
      ],
      "text/plain": [
       "                   Team  Wins Country  Last year won\n",
       "0    Montréal Canadiens    23  Canada            0.0\n",
       "1   Toronto Maple Leafs    13  Canada         1967.0\n",
       "2     Detroit Red Wings    11      US         2008.0\n",
       "3         Boston Bruins     6      US         2011.0\n",
       "4    Chicago Blackhawks     6      US         2015.0\n",
       "5       Edmonton Oilers     5  Canada         1990.0\n",
       "6   Pittsburgh Penguins     5      US         2017.0\n",
       "7      St. Louis Eagles     4      US            0.0\n",
       "8    New York Islanders     4      US         1983.0\n",
       "9      New York Rangers     4      US         1994.0\n",
       "10  Tampa Bay Lightning     3      US         2020.0\n",
       "11    New Jersey Devils     3      US         2003.0\n",
       "12    Los Angeles Kings     2      US         2014.0\n",
       "13   Colorado Avalanche     2      US         2001.0\n",
       "14  Philadelphia Flyers     2      US         1975.0\n",
       "15     Montreal Maroons     2  Canada         1935.0\n",
       "16      St. Louis Blues     1      US         2019.0\n",
       "17        Anaheim Ducks     1      US         2007.0\n",
       "18         Dallas Stars     1      US         1999.0\n",
       "19  Carolina Hurricanes     1      US         2006.0\n",
       "20       Calgary Flames     1  Canada         1989.0\n",
       "21  Washington Capitals     1      US         2018.0"
      ]
     },
     "execution_count": 181,
     "metadata": {},
     "output_type": "execute_result"
    }
   ],
   "source": [
    "df_fix1 = df3.fillna(0)  #Replace with 0\n",
    "df_fix1 "
   ]
  },
  {
   "cell_type": "code",
   "execution_count": 182,
   "metadata": {
    "id": "cXAAouLl4MqT"
   },
   "outputs": [
    {
     "data": {
      "text/html": [
       "<div>\n",
       "<style scoped>\n",
       "    .dataframe tbody tr th:only-of-type {\n",
       "        vertical-align: middle;\n",
       "    }\n",
       "\n",
       "    .dataframe tbody tr th {\n",
       "        vertical-align: top;\n",
       "    }\n",
       "\n",
       "    .dataframe thead th {\n",
       "        text-align: right;\n",
       "    }\n",
       "</style>\n",
       "<table border=\"1\" class=\"dataframe\">\n",
       "  <thead>\n",
       "    <tr style=\"text-align: right;\">\n",
       "      <th></th>\n",
       "      <th>Team</th>\n",
       "      <th>Wins</th>\n",
       "      <th>Country</th>\n",
       "      <th>Last year won</th>\n",
       "    </tr>\n",
       "  </thead>\n",
       "  <tbody>\n",
       "    <tr>\n",
       "      <th>0</th>\n",
       "      <td>Montréal Canadiens</td>\n",
       "      <td>23</td>\n",
       "      <td>Canada</td>\n",
       "      <td>Unknown</td>\n",
       "    </tr>\n",
       "    <tr>\n",
       "      <th>1</th>\n",
       "      <td>Toronto Maple Leafs</td>\n",
       "      <td>13</td>\n",
       "      <td>Canada</td>\n",
       "      <td>1967.0</td>\n",
       "    </tr>\n",
       "    <tr>\n",
       "      <th>2</th>\n",
       "      <td>Detroit Red Wings</td>\n",
       "      <td>11</td>\n",
       "      <td>US</td>\n",
       "      <td>2008.0</td>\n",
       "    </tr>\n",
       "    <tr>\n",
       "      <th>3</th>\n",
       "      <td>Boston Bruins</td>\n",
       "      <td>6</td>\n",
       "      <td>US</td>\n",
       "      <td>2011.0</td>\n",
       "    </tr>\n",
       "    <tr>\n",
       "      <th>4</th>\n",
       "      <td>Chicago Blackhawks</td>\n",
       "      <td>6</td>\n",
       "      <td>US</td>\n",
       "      <td>2015.0</td>\n",
       "    </tr>\n",
       "    <tr>\n",
       "      <th>5</th>\n",
       "      <td>Edmonton Oilers</td>\n",
       "      <td>5</td>\n",
       "      <td>Canada</td>\n",
       "      <td>1990.0</td>\n",
       "    </tr>\n",
       "    <tr>\n",
       "      <th>6</th>\n",
       "      <td>Pittsburgh Penguins</td>\n",
       "      <td>5</td>\n",
       "      <td>US</td>\n",
       "      <td>2017.0</td>\n",
       "    </tr>\n",
       "    <tr>\n",
       "      <th>7</th>\n",
       "      <td>St. Louis Eagles</td>\n",
       "      <td>4</td>\n",
       "      <td>US</td>\n",
       "      <td>Unknown</td>\n",
       "    </tr>\n",
       "    <tr>\n",
       "      <th>8</th>\n",
       "      <td>New York Islanders</td>\n",
       "      <td>4</td>\n",
       "      <td>US</td>\n",
       "      <td>1983.0</td>\n",
       "    </tr>\n",
       "    <tr>\n",
       "      <th>9</th>\n",
       "      <td>New York Rangers</td>\n",
       "      <td>4</td>\n",
       "      <td>US</td>\n",
       "      <td>1994.0</td>\n",
       "    </tr>\n",
       "    <tr>\n",
       "      <th>10</th>\n",
       "      <td>Tampa Bay Lightning</td>\n",
       "      <td>3</td>\n",
       "      <td>US</td>\n",
       "      <td>2020.0</td>\n",
       "    </tr>\n",
       "    <tr>\n",
       "      <th>11</th>\n",
       "      <td>New Jersey Devils</td>\n",
       "      <td>3</td>\n",
       "      <td>US</td>\n",
       "      <td>2003.0</td>\n",
       "    </tr>\n",
       "    <tr>\n",
       "      <th>12</th>\n",
       "      <td>Los Angeles Kings</td>\n",
       "      <td>2</td>\n",
       "      <td>US</td>\n",
       "      <td>2014.0</td>\n",
       "    </tr>\n",
       "    <tr>\n",
       "      <th>13</th>\n",
       "      <td>Colorado Avalanche</td>\n",
       "      <td>2</td>\n",
       "      <td>US</td>\n",
       "      <td>2001.0</td>\n",
       "    </tr>\n",
       "    <tr>\n",
       "      <th>14</th>\n",
       "      <td>Philadelphia Flyers</td>\n",
       "      <td>2</td>\n",
       "      <td>US</td>\n",
       "      <td>1975.0</td>\n",
       "    </tr>\n",
       "    <tr>\n",
       "      <th>15</th>\n",
       "      <td>Montreal Maroons</td>\n",
       "      <td>2</td>\n",
       "      <td>Canada</td>\n",
       "      <td>1935.0</td>\n",
       "    </tr>\n",
       "    <tr>\n",
       "      <th>16</th>\n",
       "      <td>St. Louis Blues</td>\n",
       "      <td>1</td>\n",
       "      <td>US</td>\n",
       "      <td>2019.0</td>\n",
       "    </tr>\n",
       "    <tr>\n",
       "      <th>17</th>\n",
       "      <td>Anaheim Ducks</td>\n",
       "      <td>1</td>\n",
       "      <td>US</td>\n",
       "      <td>2007.0</td>\n",
       "    </tr>\n",
       "    <tr>\n",
       "      <th>18</th>\n",
       "      <td>Dallas Stars</td>\n",
       "      <td>1</td>\n",
       "      <td>US</td>\n",
       "      <td>1999.0</td>\n",
       "    </tr>\n",
       "    <tr>\n",
       "      <th>19</th>\n",
       "      <td>Carolina Hurricanes</td>\n",
       "      <td>1</td>\n",
       "      <td>US</td>\n",
       "      <td>2006.0</td>\n",
       "    </tr>\n",
       "    <tr>\n",
       "      <th>20</th>\n",
       "      <td>Calgary Flames</td>\n",
       "      <td>1</td>\n",
       "      <td>Canada</td>\n",
       "      <td>1989.0</td>\n",
       "    </tr>\n",
       "    <tr>\n",
       "      <th>21</th>\n",
       "      <td>Washington Capitals</td>\n",
       "      <td>1</td>\n",
       "      <td>US</td>\n",
       "      <td>2018.0</td>\n",
       "    </tr>\n",
       "  </tbody>\n",
       "</table>\n",
       "</div>"
      ],
      "text/plain": [
       "                   Team  Wins Country Last year won\n",
       "0    Montréal Canadiens    23  Canada       Unknown\n",
       "1   Toronto Maple Leafs    13  Canada        1967.0\n",
       "2     Detroit Red Wings    11      US        2008.0\n",
       "3         Boston Bruins     6      US        2011.0\n",
       "4    Chicago Blackhawks     6      US        2015.0\n",
       "5       Edmonton Oilers     5  Canada        1990.0\n",
       "6   Pittsburgh Penguins     5      US        2017.0\n",
       "7      St. Louis Eagles     4      US       Unknown\n",
       "8    New York Islanders     4      US        1983.0\n",
       "9      New York Rangers     4      US        1994.0\n",
       "10  Tampa Bay Lightning     3      US        2020.0\n",
       "11    New Jersey Devils     3      US        2003.0\n",
       "12    Los Angeles Kings     2      US        2014.0\n",
       "13   Colorado Avalanche     2      US        2001.0\n",
       "14  Philadelphia Flyers     2      US        1975.0\n",
       "15     Montreal Maroons     2  Canada        1935.0\n",
       "16      St. Louis Blues     1      US        2019.0\n",
       "17        Anaheim Ducks     1      US        2007.0\n",
       "18         Dallas Stars     1      US        1999.0\n",
       "19  Carolina Hurricanes     1      US        2006.0\n",
       "20       Calgary Flames     1  Canada        1989.0\n",
       "21  Washington Capitals     1      US        2018.0"
      ]
     },
     "execution_count": 182,
     "metadata": {},
     "output_type": "execute_result"
    }
   ],
   "source": [
    "df_fix1 = df3.fillna('Unknown')  # Replace with a different category\n",
    "df_fix1 "
   ]
  },
  {
   "cell_type": "code",
   "execution_count": 183,
   "metadata": {
    "id": "gMHYGALR4MqW"
   },
   "outputs": [
    {
     "data": {
      "text/html": [
       "<div>\n",
       "<style scoped>\n",
       "    .dataframe tbody tr th:only-of-type {\n",
       "        vertical-align: middle;\n",
       "    }\n",
       "\n",
       "    .dataframe tbody tr th {\n",
       "        vertical-align: top;\n",
       "    }\n",
       "\n",
       "    .dataframe thead th {\n",
       "        text-align: right;\n",
       "    }\n",
       "</style>\n",
       "<table border=\"1\" class=\"dataframe\">\n",
       "  <thead>\n",
       "    <tr style=\"text-align: right;\">\n",
       "      <th></th>\n",
       "      <th>Team</th>\n",
       "      <th>Wins</th>\n",
       "      <th>Country</th>\n",
       "      <th>Last year won</th>\n",
       "    </tr>\n",
       "  </thead>\n",
       "  <tbody>\n",
       "    <tr>\n",
       "      <th>0</th>\n",
       "      <td>Montréal Canadiens</td>\n",
       "      <td>23</td>\n",
       "      <td>Canada</td>\n",
       "      <td>1998.55</td>\n",
       "    </tr>\n",
       "    <tr>\n",
       "      <th>1</th>\n",
       "      <td>Toronto Maple Leafs</td>\n",
       "      <td>13</td>\n",
       "      <td>Canada</td>\n",
       "      <td>1967.00</td>\n",
       "    </tr>\n",
       "    <tr>\n",
       "      <th>2</th>\n",
       "      <td>Detroit Red Wings</td>\n",
       "      <td>11</td>\n",
       "      <td>US</td>\n",
       "      <td>2008.00</td>\n",
       "    </tr>\n",
       "    <tr>\n",
       "      <th>3</th>\n",
       "      <td>Boston Bruins</td>\n",
       "      <td>6</td>\n",
       "      <td>US</td>\n",
       "      <td>2011.00</td>\n",
       "    </tr>\n",
       "    <tr>\n",
       "      <th>4</th>\n",
       "      <td>Chicago Blackhawks</td>\n",
       "      <td>6</td>\n",
       "      <td>US</td>\n",
       "      <td>2015.00</td>\n",
       "    </tr>\n",
       "    <tr>\n",
       "      <th>5</th>\n",
       "      <td>Edmonton Oilers</td>\n",
       "      <td>5</td>\n",
       "      <td>Canada</td>\n",
       "      <td>1990.00</td>\n",
       "    </tr>\n",
       "    <tr>\n",
       "      <th>6</th>\n",
       "      <td>Pittsburgh Penguins</td>\n",
       "      <td>5</td>\n",
       "      <td>US</td>\n",
       "      <td>2017.00</td>\n",
       "    </tr>\n",
       "    <tr>\n",
       "      <th>7</th>\n",
       "      <td>St. Louis Eagles</td>\n",
       "      <td>4</td>\n",
       "      <td>US</td>\n",
       "      <td>1998.55</td>\n",
       "    </tr>\n",
       "    <tr>\n",
       "      <th>8</th>\n",
       "      <td>New York Islanders</td>\n",
       "      <td>4</td>\n",
       "      <td>US</td>\n",
       "      <td>1983.00</td>\n",
       "    </tr>\n",
       "    <tr>\n",
       "      <th>9</th>\n",
       "      <td>New York Rangers</td>\n",
       "      <td>4</td>\n",
       "      <td>US</td>\n",
       "      <td>1994.00</td>\n",
       "    </tr>\n",
       "    <tr>\n",
       "      <th>10</th>\n",
       "      <td>Tampa Bay Lightning</td>\n",
       "      <td>3</td>\n",
       "      <td>US</td>\n",
       "      <td>2020.00</td>\n",
       "    </tr>\n",
       "    <tr>\n",
       "      <th>11</th>\n",
       "      <td>New Jersey Devils</td>\n",
       "      <td>3</td>\n",
       "      <td>US</td>\n",
       "      <td>2003.00</td>\n",
       "    </tr>\n",
       "    <tr>\n",
       "      <th>12</th>\n",
       "      <td>Los Angeles Kings</td>\n",
       "      <td>2</td>\n",
       "      <td>US</td>\n",
       "      <td>2014.00</td>\n",
       "    </tr>\n",
       "    <tr>\n",
       "      <th>13</th>\n",
       "      <td>Colorado Avalanche</td>\n",
       "      <td>2</td>\n",
       "      <td>US</td>\n",
       "      <td>2001.00</td>\n",
       "    </tr>\n",
       "    <tr>\n",
       "      <th>14</th>\n",
       "      <td>Philadelphia Flyers</td>\n",
       "      <td>2</td>\n",
       "      <td>US</td>\n",
       "      <td>1975.00</td>\n",
       "    </tr>\n",
       "    <tr>\n",
       "      <th>15</th>\n",
       "      <td>Montreal Maroons</td>\n",
       "      <td>2</td>\n",
       "      <td>Canada</td>\n",
       "      <td>1935.00</td>\n",
       "    </tr>\n",
       "    <tr>\n",
       "      <th>16</th>\n",
       "      <td>St. Louis Blues</td>\n",
       "      <td>1</td>\n",
       "      <td>US</td>\n",
       "      <td>2019.00</td>\n",
       "    </tr>\n",
       "    <tr>\n",
       "      <th>17</th>\n",
       "      <td>Anaheim Ducks</td>\n",
       "      <td>1</td>\n",
       "      <td>US</td>\n",
       "      <td>2007.00</td>\n",
       "    </tr>\n",
       "    <tr>\n",
       "      <th>18</th>\n",
       "      <td>Dallas Stars</td>\n",
       "      <td>1</td>\n",
       "      <td>US</td>\n",
       "      <td>1999.00</td>\n",
       "    </tr>\n",
       "    <tr>\n",
       "      <th>19</th>\n",
       "      <td>Carolina Hurricanes</td>\n",
       "      <td>1</td>\n",
       "      <td>US</td>\n",
       "      <td>2006.00</td>\n",
       "    </tr>\n",
       "    <tr>\n",
       "      <th>20</th>\n",
       "      <td>Calgary Flames</td>\n",
       "      <td>1</td>\n",
       "      <td>Canada</td>\n",
       "      <td>1989.00</td>\n",
       "    </tr>\n",
       "    <tr>\n",
       "      <th>21</th>\n",
       "      <td>Washington Capitals</td>\n",
       "      <td>1</td>\n",
       "      <td>US</td>\n",
       "      <td>2018.00</td>\n",
       "    </tr>\n",
       "  </tbody>\n",
       "</table>\n",
       "</div>"
      ],
      "text/plain": [
       "                   Team  Wins Country  Last year won\n",
       "0    Montréal Canadiens    23  Canada        1998.55\n",
       "1   Toronto Maple Leafs    13  Canada        1967.00\n",
       "2     Detroit Red Wings    11      US        2008.00\n",
       "3         Boston Bruins     6      US        2011.00\n",
       "4    Chicago Blackhawks     6      US        2015.00\n",
       "5       Edmonton Oilers     5  Canada        1990.00\n",
       "6   Pittsburgh Penguins     5      US        2017.00\n",
       "7      St. Louis Eagles     4      US        1998.55\n",
       "8    New York Islanders     4      US        1983.00\n",
       "9      New York Rangers     4      US        1994.00\n",
       "10  Tampa Bay Lightning     3      US        2020.00\n",
       "11    New Jersey Devils     3      US        2003.00\n",
       "12    Los Angeles Kings     2      US        2014.00\n",
       "13   Colorado Avalanche     2      US        2001.00\n",
       "14  Philadelphia Flyers     2      US        1975.00\n",
       "15     Montreal Maroons     2  Canada        1935.00\n",
       "16      St. Louis Blues     1      US        2019.00\n",
       "17        Anaheim Ducks     1      US        2007.00\n",
       "18         Dallas Stars     1      US        1999.00\n",
       "19  Carolina Hurricanes     1      US        2006.00\n",
       "20       Calgary Flames     1  Canada        1989.00\n",
       "21  Washington Capitals     1      US        2018.00"
      ]
     },
     "execution_count": 183,
     "metadata": {},
     "output_type": "execute_result"
    }
   ],
   "source": [
    "# Might replace with mean\n",
    "\n",
    "df_mean = df3.fillna(df3['Last year won'].mean())\n",
    "df_mean"
   ]
  },
  {
   "cell_type": "code",
   "execution_count": 184,
   "metadata": {
    "id": "WCDkzBiN4MqZ"
   },
   "outputs": [
    {
     "data": {
      "text/html": [
       "<div>\n",
       "<style scoped>\n",
       "    .dataframe tbody tr th:only-of-type {\n",
       "        vertical-align: middle;\n",
       "    }\n",
       "\n",
       "    .dataframe tbody tr th {\n",
       "        vertical-align: top;\n",
       "    }\n",
       "\n",
       "    .dataframe thead th {\n",
       "        text-align: right;\n",
       "    }\n",
       "</style>\n",
       "<table border=\"1\" class=\"dataframe\">\n",
       "  <thead>\n",
       "    <tr style=\"text-align: right;\">\n",
       "      <th></th>\n",
       "      <th>Team</th>\n",
       "      <th>Wins</th>\n",
       "      <th>Country</th>\n",
       "      <th>Last year won</th>\n",
       "    </tr>\n",
       "  </thead>\n",
       "  <tbody>\n",
       "    <tr>\n",
       "      <th>0</th>\n",
       "      <td>Montréal Canadiens</td>\n",
       "      <td>23</td>\n",
       "      <td>Canada</td>\n",
       "      <td>2004.5</td>\n",
       "    </tr>\n",
       "    <tr>\n",
       "      <th>1</th>\n",
       "      <td>Toronto Maple Leafs</td>\n",
       "      <td>13</td>\n",
       "      <td>Canada</td>\n",
       "      <td>1967.0</td>\n",
       "    </tr>\n",
       "    <tr>\n",
       "      <th>2</th>\n",
       "      <td>Detroit Red Wings</td>\n",
       "      <td>11</td>\n",
       "      <td>US</td>\n",
       "      <td>2008.0</td>\n",
       "    </tr>\n",
       "    <tr>\n",
       "      <th>3</th>\n",
       "      <td>Boston Bruins</td>\n",
       "      <td>6</td>\n",
       "      <td>US</td>\n",
       "      <td>2011.0</td>\n",
       "    </tr>\n",
       "    <tr>\n",
       "      <th>4</th>\n",
       "      <td>Chicago Blackhawks</td>\n",
       "      <td>6</td>\n",
       "      <td>US</td>\n",
       "      <td>2015.0</td>\n",
       "    </tr>\n",
       "    <tr>\n",
       "      <th>5</th>\n",
       "      <td>Edmonton Oilers</td>\n",
       "      <td>5</td>\n",
       "      <td>Canada</td>\n",
       "      <td>1990.0</td>\n",
       "    </tr>\n",
       "    <tr>\n",
       "      <th>6</th>\n",
       "      <td>Pittsburgh Penguins</td>\n",
       "      <td>5</td>\n",
       "      <td>US</td>\n",
       "      <td>2017.0</td>\n",
       "    </tr>\n",
       "    <tr>\n",
       "      <th>7</th>\n",
       "      <td>St. Louis Eagles</td>\n",
       "      <td>4</td>\n",
       "      <td>US</td>\n",
       "      <td>2004.5</td>\n",
       "    </tr>\n",
       "    <tr>\n",
       "      <th>8</th>\n",
       "      <td>New York Islanders</td>\n",
       "      <td>4</td>\n",
       "      <td>US</td>\n",
       "      <td>1983.0</td>\n",
       "    </tr>\n",
       "    <tr>\n",
       "      <th>9</th>\n",
       "      <td>New York Rangers</td>\n",
       "      <td>4</td>\n",
       "      <td>US</td>\n",
       "      <td>1994.0</td>\n",
       "    </tr>\n",
       "    <tr>\n",
       "      <th>10</th>\n",
       "      <td>Tampa Bay Lightning</td>\n",
       "      <td>3</td>\n",
       "      <td>US</td>\n",
       "      <td>2020.0</td>\n",
       "    </tr>\n",
       "    <tr>\n",
       "      <th>11</th>\n",
       "      <td>New Jersey Devils</td>\n",
       "      <td>3</td>\n",
       "      <td>US</td>\n",
       "      <td>2003.0</td>\n",
       "    </tr>\n",
       "    <tr>\n",
       "      <th>12</th>\n",
       "      <td>Los Angeles Kings</td>\n",
       "      <td>2</td>\n",
       "      <td>US</td>\n",
       "      <td>2014.0</td>\n",
       "    </tr>\n",
       "    <tr>\n",
       "      <th>13</th>\n",
       "      <td>Colorado Avalanche</td>\n",
       "      <td>2</td>\n",
       "      <td>US</td>\n",
       "      <td>2001.0</td>\n",
       "    </tr>\n",
       "    <tr>\n",
       "      <th>14</th>\n",
       "      <td>Philadelphia Flyers</td>\n",
       "      <td>2</td>\n",
       "      <td>US</td>\n",
       "      <td>1975.0</td>\n",
       "    </tr>\n",
       "    <tr>\n",
       "      <th>15</th>\n",
       "      <td>Montreal Maroons</td>\n",
       "      <td>2</td>\n",
       "      <td>Canada</td>\n",
       "      <td>1935.0</td>\n",
       "    </tr>\n",
       "    <tr>\n",
       "      <th>16</th>\n",
       "      <td>St. Louis Blues</td>\n",
       "      <td>1</td>\n",
       "      <td>US</td>\n",
       "      <td>2019.0</td>\n",
       "    </tr>\n",
       "    <tr>\n",
       "      <th>17</th>\n",
       "      <td>Anaheim Ducks</td>\n",
       "      <td>1</td>\n",
       "      <td>US</td>\n",
       "      <td>2007.0</td>\n",
       "    </tr>\n",
       "    <tr>\n",
       "      <th>18</th>\n",
       "      <td>Dallas Stars</td>\n",
       "      <td>1</td>\n",
       "      <td>US</td>\n",
       "      <td>1999.0</td>\n",
       "    </tr>\n",
       "    <tr>\n",
       "      <th>19</th>\n",
       "      <td>Carolina Hurricanes</td>\n",
       "      <td>1</td>\n",
       "      <td>US</td>\n",
       "      <td>2006.0</td>\n",
       "    </tr>\n",
       "    <tr>\n",
       "      <th>20</th>\n",
       "      <td>Calgary Flames</td>\n",
       "      <td>1</td>\n",
       "      <td>Canada</td>\n",
       "      <td>1989.0</td>\n",
       "    </tr>\n",
       "    <tr>\n",
       "      <th>21</th>\n",
       "      <td>Washington Capitals</td>\n",
       "      <td>1</td>\n",
       "      <td>US</td>\n",
       "      <td>2018.0</td>\n",
       "    </tr>\n",
       "  </tbody>\n",
       "</table>\n",
       "</div>"
      ],
      "text/plain": [
       "                   Team  Wins Country  Last year won\n",
       "0    Montréal Canadiens    23  Canada         2004.5\n",
       "1   Toronto Maple Leafs    13  Canada         1967.0\n",
       "2     Detroit Red Wings    11      US         2008.0\n",
       "3         Boston Bruins     6      US         2011.0\n",
       "4    Chicago Blackhawks     6      US         2015.0\n",
       "5       Edmonton Oilers     5  Canada         1990.0\n",
       "6   Pittsburgh Penguins     5      US         2017.0\n",
       "7      St. Louis Eagles     4      US         2004.5\n",
       "8    New York Islanders     4      US         1983.0\n",
       "9      New York Rangers     4      US         1994.0\n",
       "10  Tampa Bay Lightning     3      US         2020.0\n",
       "11    New Jersey Devils     3      US         2003.0\n",
       "12    Los Angeles Kings     2      US         2014.0\n",
       "13   Colorado Avalanche     2      US         2001.0\n",
       "14  Philadelphia Flyers     2      US         1975.0\n",
       "15     Montreal Maroons     2  Canada         1935.0\n",
       "16      St. Louis Blues     1      US         2019.0\n",
       "17        Anaheim Ducks     1      US         2007.0\n",
       "18         Dallas Stars     1      US         1999.0\n",
       "19  Carolina Hurricanes     1      US         2006.0\n",
       "20       Calgary Flames     1  Canada         1989.0\n",
       "21  Washington Capitals     1      US         2018.0"
      ]
     },
     "execution_count": 184,
     "metadata": {},
     "output_type": "execute_result"
    }
   ],
   "source": [
    "# Might replace with median:\n",
    "\n",
    "df_mean = df3.fillna(df3['Last year won'].median())\n",
    "df_mean"
   ]
  },
  {
   "cell_type": "markdown",
   "metadata": {
    "id": "MxiPytfD4Mqa"
   },
   "source": [
    "## Reading & Writing Data to CSV:"
   ]
  },
  {
   "cell_type": "markdown",
   "metadata": {
    "id": "brI_3mZUnZkF"
   },
   "source": [
    "### Writing to CSV"
   ]
  },
  {
   "cell_type": "code",
   "execution_count": 185,
   "metadata": {
    "id": "ySgDBICe4Mqo"
   },
   "outputs": [],
   "source": [
    "# To save the data we can use the to_csv() function:\n",
    "\n",
    "df3.to_csv('Stanely_cup_analysis.csv')  # Will save the dataframe as a csv called test in the directory you are in"
   ]
  },
  {
   "cell_type": "markdown",
   "metadata": {
    "id": "RKhx4a7R4Mqb"
   },
   "source": [
    "### Reading CSV"
   ]
  },
  {
   "cell_type": "code",
   "execution_count": 186,
   "metadata": {
    "id": "Zp0UXXwj4Mqb"
   },
   "outputs": [],
   "source": [
    "# Assuming you have the data already in the same directory/file:\n",
    "\n",
    "df_final = pd.read_csv('Stanely_cup_analysis.csv')\n",
    "\n",
    "# Can  explicitly specify column names:\n",
    "# syntax: pd.read_csv('path/filename.csv', names=['label1', 'label2', 'etc'])"
   ]
  },
  {
   "cell_type": "code",
   "execution_count": 187,
   "metadata": {
    "id": "HLChQaoc4Mqc"
   },
   "outputs": [
    {
     "data": {
      "text/html": [
       "<div>\n",
       "<style scoped>\n",
       "    .dataframe tbody tr th:only-of-type {\n",
       "        vertical-align: middle;\n",
       "    }\n",
       "\n",
       "    .dataframe tbody tr th {\n",
       "        vertical-align: top;\n",
       "    }\n",
       "\n",
       "    .dataframe thead th {\n",
       "        text-align: right;\n",
       "    }\n",
       "</style>\n",
       "<table border=\"1\" class=\"dataframe\">\n",
       "  <thead>\n",
       "    <tr style=\"text-align: right;\">\n",
       "      <th></th>\n",
       "      <th>Unnamed: 0</th>\n",
       "      <th>Team</th>\n",
       "      <th>Wins</th>\n",
       "      <th>Country</th>\n",
       "      <th>Last year won</th>\n",
       "    </tr>\n",
       "  </thead>\n",
       "  <tbody>\n",
       "    <tr>\n",
       "      <th>0</th>\n",
       "      <td>0</td>\n",
       "      <td>Montréal Canadiens</td>\n",
       "      <td>23</td>\n",
       "      <td>Canada</td>\n",
       "      <td>NaN</td>\n",
       "    </tr>\n",
       "    <tr>\n",
       "      <th>1</th>\n",
       "      <td>1</td>\n",
       "      <td>Toronto Maple Leafs</td>\n",
       "      <td>13</td>\n",
       "      <td>Canada</td>\n",
       "      <td>1967.0</td>\n",
       "    </tr>\n",
       "    <tr>\n",
       "      <th>2</th>\n",
       "      <td>2</td>\n",
       "      <td>Detroit Red Wings</td>\n",
       "      <td>11</td>\n",
       "      <td>US</td>\n",
       "      <td>2008.0</td>\n",
       "    </tr>\n",
       "    <tr>\n",
       "      <th>3</th>\n",
       "      <td>3</td>\n",
       "      <td>Boston Bruins</td>\n",
       "      <td>6</td>\n",
       "      <td>US</td>\n",
       "      <td>2011.0</td>\n",
       "    </tr>\n",
       "    <tr>\n",
       "      <th>4</th>\n",
       "      <td>4</td>\n",
       "      <td>Chicago Blackhawks</td>\n",
       "      <td>6</td>\n",
       "      <td>US</td>\n",
       "      <td>2015.0</td>\n",
       "    </tr>\n",
       "    <tr>\n",
       "      <th>5</th>\n",
       "      <td>5</td>\n",
       "      <td>Edmonton Oilers</td>\n",
       "      <td>5</td>\n",
       "      <td>Canada</td>\n",
       "      <td>1990.0</td>\n",
       "    </tr>\n",
       "    <tr>\n",
       "      <th>6</th>\n",
       "      <td>6</td>\n",
       "      <td>Pittsburgh Penguins</td>\n",
       "      <td>5</td>\n",
       "      <td>US</td>\n",
       "      <td>2017.0</td>\n",
       "    </tr>\n",
       "    <tr>\n",
       "      <th>7</th>\n",
       "      <td>7</td>\n",
       "      <td>St. Louis Eagles</td>\n",
       "      <td>4</td>\n",
       "      <td>US</td>\n",
       "      <td>NaN</td>\n",
       "    </tr>\n",
       "    <tr>\n",
       "      <th>8</th>\n",
       "      <td>8</td>\n",
       "      <td>New York Islanders</td>\n",
       "      <td>4</td>\n",
       "      <td>US</td>\n",
       "      <td>1983.0</td>\n",
       "    </tr>\n",
       "    <tr>\n",
       "      <th>9</th>\n",
       "      <td>9</td>\n",
       "      <td>New York Rangers</td>\n",
       "      <td>4</td>\n",
       "      <td>US</td>\n",
       "      <td>1994.0</td>\n",
       "    </tr>\n",
       "  </tbody>\n",
       "</table>\n",
       "</div>"
      ],
      "text/plain": [
       "   Unnamed: 0                 Team  Wins Country  Last year won\n",
       "0           0   Montréal Canadiens    23  Canada            NaN\n",
       "1           1  Toronto Maple Leafs    13  Canada         1967.0\n",
       "2           2    Detroit Red Wings    11      US         2008.0\n",
       "3           3        Boston Bruins     6      US         2011.0\n",
       "4           4   Chicago Blackhawks     6      US         2015.0\n",
       "5           5      Edmonton Oilers     5  Canada         1990.0\n",
       "6           6  Pittsburgh Penguins     5      US         2017.0\n",
       "7           7     St. Louis Eagles     4      US            NaN\n",
       "8           8   New York Islanders     4      US         1983.0\n",
       "9           9     New York Rangers     4      US         1994.0"
      ]
     },
     "execution_count": 187,
     "metadata": {},
     "output_type": "execute_result"
    }
   ],
   "source": [
    "# We can look at the imported data using the df.head() and df.tail() functions:\n",
    "\n",
    "df_final.head(10) # display the top 10 entries in the dataframe - note can leave the () empty, this will default a value of 5"
   ]
  },
  {
   "cell_type": "code",
   "execution_count": 188,
   "metadata": {
    "id": "NaffJIpz4Mqg"
   },
   "outputs": [
    {
     "data": {
      "text/html": [
       "<div>\n",
       "<style scoped>\n",
       "    .dataframe tbody tr th:only-of-type {\n",
       "        vertical-align: middle;\n",
       "    }\n",
       "\n",
       "    .dataframe tbody tr th {\n",
       "        vertical-align: top;\n",
       "    }\n",
       "\n",
       "    .dataframe thead th {\n",
       "        text-align: right;\n",
       "    }\n",
       "</style>\n",
       "<table border=\"1\" class=\"dataframe\">\n",
       "  <thead>\n",
       "    <tr style=\"text-align: right;\">\n",
       "      <th></th>\n",
       "      <th>Unnamed: 0</th>\n",
       "      <th>Team</th>\n",
       "      <th>Wins</th>\n",
       "      <th>Country</th>\n",
       "      <th>Last year won</th>\n",
       "    </tr>\n",
       "  </thead>\n",
       "  <tbody>\n",
       "    <tr>\n",
       "      <th>12</th>\n",
       "      <td>12</td>\n",
       "      <td>Los Angeles Kings</td>\n",
       "      <td>2</td>\n",
       "      <td>US</td>\n",
       "      <td>2014.0</td>\n",
       "    </tr>\n",
       "    <tr>\n",
       "      <th>13</th>\n",
       "      <td>13</td>\n",
       "      <td>Colorado Avalanche</td>\n",
       "      <td>2</td>\n",
       "      <td>US</td>\n",
       "      <td>2001.0</td>\n",
       "    </tr>\n",
       "    <tr>\n",
       "      <th>14</th>\n",
       "      <td>14</td>\n",
       "      <td>Philadelphia Flyers</td>\n",
       "      <td>2</td>\n",
       "      <td>US</td>\n",
       "      <td>1975.0</td>\n",
       "    </tr>\n",
       "    <tr>\n",
       "      <th>15</th>\n",
       "      <td>15</td>\n",
       "      <td>Montreal Maroons</td>\n",
       "      <td>2</td>\n",
       "      <td>Canada</td>\n",
       "      <td>1935.0</td>\n",
       "    </tr>\n",
       "    <tr>\n",
       "      <th>16</th>\n",
       "      <td>16</td>\n",
       "      <td>St. Louis Blues</td>\n",
       "      <td>1</td>\n",
       "      <td>US</td>\n",
       "      <td>2019.0</td>\n",
       "    </tr>\n",
       "    <tr>\n",
       "      <th>17</th>\n",
       "      <td>17</td>\n",
       "      <td>Anaheim Ducks</td>\n",
       "      <td>1</td>\n",
       "      <td>US</td>\n",
       "      <td>2007.0</td>\n",
       "    </tr>\n",
       "    <tr>\n",
       "      <th>18</th>\n",
       "      <td>18</td>\n",
       "      <td>Dallas Stars</td>\n",
       "      <td>1</td>\n",
       "      <td>US</td>\n",
       "      <td>1999.0</td>\n",
       "    </tr>\n",
       "    <tr>\n",
       "      <th>19</th>\n",
       "      <td>19</td>\n",
       "      <td>Carolina Hurricanes</td>\n",
       "      <td>1</td>\n",
       "      <td>US</td>\n",
       "      <td>2006.0</td>\n",
       "    </tr>\n",
       "    <tr>\n",
       "      <th>20</th>\n",
       "      <td>20</td>\n",
       "      <td>Calgary Flames</td>\n",
       "      <td>1</td>\n",
       "      <td>Canada</td>\n",
       "      <td>1989.0</td>\n",
       "    </tr>\n",
       "    <tr>\n",
       "      <th>21</th>\n",
       "      <td>21</td>\n",
       "      <td>Washington Capitals</td>\n",
       "      <td>1</td>\n",
       "      <td>US</td>\n",
       "      <td>2018.0</td>\n",
       "    </tr>\n",
       "  </tbody>\n",
       "</table>\n",
       "</div>"
      ],
      "text/plain": [
       "    Unnamed: 0                 Team  Wins Country  Last year won\n",
       "12          12    Los Angeles Kings     2      US         2014.0\n",
       "13          13   Colorado Avalanche     2      US         2001.0\n",
       "14          14  Philadelphia Flyers     2      US         1975.0\n",
       "15          15     Montreal Maroons     2  Canada         1935.0\n",
       "16          16      St. Louis Blues     1      US         2019.0\n",
       "17          17        Anaheim Ducks     1      US         2007.0\n",
       "18          18         Dallas Stars     1      US         1999.0\n",
       "19          19  Carolina Hurricanes     1      US         2006.0\n",
       "20          20       Calgary Flames     1  Canada         1989.0\n",
       "21          21  Washington Capitals     1      US         2018.0"
      ]
     },
     "execution_count": 188,
     "metadata": {},
     "output_type": "execute_result"
    }
   ],
   "source": [
    "df_final.tail(10) # display the bottom 10 entries in the dataframe - note can leave the () empty, this will default a value of 5"
   ]
  },
  {
   "cell_type": "code",
   "execution_count": 189,
   "metadata": {
    "id": "4gPmHwFe4Mqk"
   },
   "outputs": [
    {
     "data": {
      "text/plain": [
       "5"
      ]
     },
     "execution_count": 189,
     "metadata": {},
     "output_type": "execute_result"
    }
   ],
   "source": [
    "# Can also look at the number of columns: \n",
    "\n",
    "len(df_final.columns)\n"
   ]
  },
  {
   "cell_type": "code",
   "execution_count": 190,
   "metadata": {
    "id": "dtcFLSWV4Mqm"
   },
   "outputs": [
    {
     "data": {
      "text/html": [
       "<div>\n",
       "<style scoped>\n",
       "    .dataframe tbody tr th:only-of-type {\n",
       "        vertical-align: middle;\n",
       "    }\n",
       "\n",
       "    .dataframe tbody tr th {\n",
       "        vertical-align: top;\n",
       "    }\n",
       "\n",
       "    .dataframe thead th {\n",
       "        text-align: right;\n",
       "    }\n",
       "</style>\n",
       "<table border=\"1\" class=\"dataframe\">\n",
       "  <thead>\n",
       "    <tr style=\"text-align: right;\">\n",
       "      <th></th>\n",
       "      <th>Unnamed: 0</th>\n",
       "      <th>Wins</th>\n",
       "      <th>Last year won</th>\n",
       "    </tr>\n",
       "  </thead>\n",
       "  <tbody>\n",
       "    <tr>\n",
       "      <th>count</th>\n",
       "      <td>22.000000</td>\n",
       "      <td>22.000000</td>\n",
       "      <td>20.00000</td>\n",
       "    </tr>\n",
       "    <tr>\n",
       "      <th>mean</th>\n",
       "      <td>10.500000</td>\n",
       "      <td>4.590909</td>\n",
       "      <td>1998.55000</td>\n",
       "    </tr>\n",
       "    <tr>\n",
       "      <th>std</th>\n",
       "      <td>6.493587</td>\n",
       "      <td>5.188440</td>\n",
       "      <td>21.17465</td>\n",
       "    </tr>\n",
       "    <tr>\n",
       "      <th>min</th>\n",
       "      <td>0.000000</td>\n",
       "      <td>1.000000</td>\n",
       "      <td>1935.00000</td>\n",
       "    </tr>\n",
       "    <tr>\n",
       "      <th>25%</th>\n",
       "      <td>5.250000</td>\n",
       "      <td>1.250000</td>\n",
       "      <td>1989.75000</td>\n",
       "    </tr>\n",
       "    <tr>\n",
       "      <th>50%</th>\n",
       "      <td>10.500000</td>\n",
       "      <td>3.000000</td>\n",
       "      <td>2004.50000</td>\n",
       "    </tr>\n",
       "    <tr>\n",
       "      <th>75%</th>\n",
       "      <td>15.750000</td>\n",
       "      <td>5.000000</td>\n",
       "      <td>2014.25000</td>\n",
       "    </tr>\n",
       "    <tr>\n",
       "      <th>max</th>\n",
       "      <td>21.000000</td>\n",
       "      <td>23.000000</td>\n",
       "      <td>2020.00000</td>\n",
       "    </tr>\n",
       "  </tbody>\n",
       "</table>\n",
       "</div>"
      ],
      "text/plain": [
       "       Unnamed: 0       Wins  Last year won\n",
       "count   22.000000  22.000000       20.00000\n",
       "mean    10.500000   4.590909     1998.55000\n",
       "std      6.493587   5.188440       21.17465\n",
       "min      0.000000   1.000000     1935.00000\n",
       "25%      5.250000   1.250000     1989.75000\n",
       "50%     10.500000   3.000000     2004.50000\n",
       "75%     15.750000   5.000000     2014.25000\n",
       "max     21.000000  23.000000     2020.00000"
      ]
     },
     "execution_count": 190,
     "metadata": {},
     "output_type": "execute_result"
    }
   ],
   "source": [
    "# Can get a statistical summary: \n",
    "\n",
    "df_final.describe()"
   ]
  },
  {
   "cell_type": "markdown",
   "metadata": {
    "id": "wSwWFFHn4Mqp"
   },
   "source": [
    "### Read more about the JSON file strcuture. It will be very useful for your projects\n",
    "https://realpython.com/python-json/"
   ]
  },
  {
   "cell_type": "markdown",
   "metadata": {
    "id": "TqGuBVT84Mqp"
   },
   "source": [
    "# Part Three: Fingerprinting "
   ]
  },
  {
   "cell_type": "markdown",
   "metadata": {
    "id": "Kyu3jisF4Mqp"
   },
   "source": [
    "## ML Packages Only Understand Numbers"
   ]
  },
  {
   "cell_type": "markdown",
   "metadata": {
    "id": "HIiOWHHZ4Mqq"
   },
   "source": [
    "Machine learning doesn’t understand non-numerical inputs. However, in real life many things are not numerical; the trick is to find proxies. In the above example, we can provide the robot the latitude and longitude of Canada. "
   ]
  },
  {
   "cell_type": "markdown",
   "metadata": {
    "id": "uhS4R9ID4Mqq"
   },
   "source": [
    "## Numerical Proxies are Also Important in Science"
   ]
  },
  {
   "cell_type": "markdown",
   "metadata": {
    "id": "IAXw5RbE4Mqr"
   },
   "source": [
    "Non numerical (categorical) labels are everywhere in science. To feed this information as inputs we need to find some numerical proxies. This featurization of the dataset is probably among the hottest research topics and many different research groups have come up with their own solution. It’s hard to really tell what is good and what is not as each solution is based off a different dataset! "
   ]
  },
  {
   "cell_type": "markdown",
   "metadata": {
    "id": "Na-w_uId4Mqr"
   },
   "source": [
    "## One Hot Encoding"
   ]
  },
  {
   "cell_type": "markdown",
   "metadata": {
    "id": "npuf5Hkt4Mqr"
   },
   "source": [
    "* One of the most common methods of dealing with categorical data. I think it’s also one of the simplest. \n",
    "* Implemented in many packages including Pandas & SK-learn. \n",
    "* Process:\n",
    "    1. Create a column for each category of data2. \n",
    "    2. Go through the rows with the categorical data and fill them with dummy/indicator variables (1 or 0):\n",
    "        1. Enter 1 into column if the category matches column category.\n",
    "        2. Enter 0 into column if the category does not match column category."
   ]
  },
  {
   "cell_type": "markdown",
   "metadata": {
    "id": "G1Xobz704Mqs"
   },
   "source": [
    "<div>\n",
    "    <img src=\"img/encoding.png\">\n",
    "</div>\n",
    "\n",
    "**Source:**https://towardsdatascience.com/building-a-one-hot-encoding-layer-with-tensorflow-f907d686bf39"
   ]
  },
  {
   "cell_type": "markdown",
   "metadata": {
    "id": "Pn8yGt6n4Mqt"
   },
   "source": [
    "## One Hot Encoding in Action - Using the Pandas get_dummies function:"
   ]
  },
  {
   "cell_type": "code",
   "execution_count": 191,
   "metadata": {
    "id": "FEMKUlnb4Mqt"
   },
   "outputs": [],
   "source": [
    "# Let's import the modules we will use for this lecture:\n",
    "\n",
    "import pandas as pd         # Pandas\n",
    "import numpy as np          # NumPy"
   ]
  },
  {
   "cell_type": "code",
   "execution_count": 192,
   "metadata": {
    "id": "CBmLUwNa4Mqv"
   },
   "outputs": [
    {
     "data": {
      "text/html": [
       "<div>\n",
       "<style scoped>\n",
       "    .dataframe tbody tr th:only-of-type {\n",
       "        vertical-align: middle;\n",
       "    }\n",
       "\n",
       "    .dataframe tbody tr th {\n",
       "        vertical-align: top;\n",
       "    }\n",
       "\n",
       "    .dataframe thead th {\n",
       "        text-align: right;\n",
       "    }\n",
       "</style>\n",
       "<table border=\"1\" class=\"dataframe\">\n",
       "  <thead>\n",
       "    <tr style=\"text-align: right;\">\n",
       "      <th></th>\n",
       "      <th>Team</th>\n",
       "      <th>Wins</th>\n",
       "      <th>Country</th>\n",
       "      <th>Last year won</th>\n",
       "    </tr>\n",
       "  </thead>\n",
       "  <tbody>\n",
       "    <tr>\n",
       "      <th>0</th>\n",
       "      <td>Montréal Canadiens</td>\n",
       "      <td>23</td>\n",
       "      <td>Canada</td>\n",
       "      <td>NaN</td>\n",
       "    </tr>\n",
       "    <tr>\n",
       "      <th>1</th>\n",
       "      <td>Toronto Maple Leafs</td>\n",
       "      <td>13</td>\n",
       "      <td>Canada</td>\n",
       "      <td>1967.0</td>\n",
       "    </tr>\n",
       "    <tr>\n",
       "      <th>2</th>\n",
       "      <td>Detroit Red Wings</td>\n",
       "      <td>11</td>\n",
       "      <td>US</td>\n",
       "      <td>2008.0</td>\n",
       "    </tr>\n",
       "    <tr>\n",
       "      <th>3</th>\n",
       "      <td>Boston Bruins</td>\n",
       "      <td>6</td>\n",
       "      <td>US</td>\n",
       "      <td>2011.0</td>\n",
       "    </tr>\n",
       "    <tr>\n",
       "      <th>4</th>\n",
       "      <td>Chicago Blackhawks</td>\n",
       "      <td>6</td>\n",
       "      <td>US</td>\n",
       "      <td>2015.0</td>\n",
       "    </tr>\n",
       "    <tr>\n",
       "      <th>5</th>\n",
       "      <td>Edmonton Oilers</td>\n",
       "      <td>5</td>\n",
       "      <td>Canada</td>\n",
       "      <td>1990.0</td>\n",
       "    </tr>\n",
       "    <tr>\n",
       "      <th>6</th>\n",
       "      <td>Pittsburgh Penguins</td>\n",
       "      <td>5</td>\n",
       "      <td>US</td>\n",
       "      <td>2017.0</td>\n",
       "    </tr>\n",
       "    <tr>\n",
       "      <th>7</th>\n",
       "      <td>St. Louis Eagles</td>\n",
       "      <td>4</td>\n",
       "      <td>US</td>\n",
       "      <td>NaN</td>\n",
       "    </tr>\n",
       "    <tr>\n",
       "      <th>8</th>\n",
       "      <td>New York Islanders</td>\n",
       "      <td>4</td>\n",
       "      <td>US</td>\n",
       "      <td>1983.0</td>\n",
       "    </tr>\n",
       "    <tr>\n",
       "      <th>9</th>\n",
       "      <td>New York Rangers</td>\n",
       "      <td>4</td>\n",
       "      <td>US</td>\n",
       "      <td>1994.0</td>\n",
       "    </tr>\n",
       "    <tr>\n",
       "      <th>10</th>\n",
       "      <td>Tampa Bay Lightning</td>\n",
       "      <td>3</td>\n",
       "      <td>US</td>\n",
       "      <td>2020.0</td>\n",
       "    </tr>\n",
       "    <tr>\n",
       "      <th>11</th>\n",
       "      <td>New Jersey Devils</td>\n",
       "      <td>3</td>\n",
       "      <td>US</td>\n",
       "      <td>2003.0</td>\n",
       "    </tr>\n",
       "    <tr>\n",
       "      <th>12</th>\n",
       "      <td>Los Angeles Kings</td>\n",
       "      <td>2</td>\n",
       "      <td>US</td>\n",
       "      <td>2014.0</td>\n",
       "    </tr>\n",
       "    <tr>\n",
       "      <th>13</th>\n",
       "      <td>Colorado Avalanche</td>\n",
       "      <td>2</td>\n",
       "      <td>US</td>\n",
       "      <td>2001.0</td>\n",
       "    </tr>\n",
       "    <tr>\n",
       "      <th>14</th>\n",
       "      <td>Philadelphia Flyers</td>\n",
       "      <td>2</td>\n",
       "      <td>US</td>\n",
       "      <td>1975.0</td>\n",
       "    </tr>\n",
       "    <tr>\n",
       "      <th>15</th>\n",
       "      <td>Montreal Maroons</td>\n",
       "      <td>2</td>\n",
       "      <td>Canada</td>\n",
       "      <td>1935.0</td>\n",
       "    </tr>\n",
       "    <tr>\n",
       "      <th>16</th>\n",
       "      <td>St. Louis Blues</td>\n",
       "      <td>1</td>\n",
       "      <td>US</td>\n",
       "      <td>2019.0</td>\n",
       "    </tr>\n",
       "    <tr>\n",
       "      <th>17</th>\n",
       "      <td>Anaheim Ducks</td>\n",
       "      <td>1</td>\n",
       "      <td>US</td>\n",
       "      <td>2007.0</td>\n",
       "    </tr>\n",
       "    <tr>\n",
       "      <th>18</th>\n",
       "      <td>Dallas Stars</td>\n",
       "      <td>1</td>\n",
       "      <td>US</td>\n",
       "      <td>1999.0</td>\n",
       "    </tr>\n",
       "    <tr>\n",
       "      <th>19</th>\n",
       "      <td>Carolina Hurricanes</td>\n",
       "      <td>1</td>\n",
       "      <td>US</td>\n",
       "      <td>2006.0</td>\n",
       "    </tr>\n",
       "    <tr>\n",
       "      <th>20</th>\n",
       "      <td>Calgary Flames</td>\n",
       "      <td>1</td>\n",
       "      <td>Canada</td>\n",
       "      <td>1989.0</td>\n",
       "    </tr>\n",
       "    <tr>\n",
       "      <th>21</th>\n",
       "      <td>Washington Capitals</td>\n",
       "      <td>1</td>\n",
       "      <td>US</td>\n",
       "      <td>2018.0</td>\n",
       "    </tr>\n",
       "  </tbody>\n",
       "</table>\n",
       "</div>"
      ],
      "text/plain": [
       "                   Team  Wins Country  Last year won\n",
       "0    Montréal Canadiens    23  Canada            NaN\n",
       "1   Toronto Maple Leafs    13  Canada         1967.0\n",
       "2     Detroit Red Wings    11      US         2008.0\n",
       "3         Boston Bruins     6      US         2011.0\n",
       "4    Chicago Blackhawks     6      US         2015.0\n",
       "5       Edmonton Oilers     5  Canada         1990.0\n",
       "6   Pittsburgh Penguins     5      US         2017.0\n",
       "7      St. Louis Eagles     4      US            NaN\n",
       "8    New York Islanders     4      US         1983.0\n",
       "9      New York Rangers     4      US         1994.0\n",
       "10  Tampa Bay Lightning     3      US         2020.0\n",
       "11    New Jersey Devils     3      US         2003.0\n",
       "12    Los Angeles Kings     2      US         2014.0\n",
       "13   Colorado Avalanche     2      US         2001.0\n",
       "14  Philadelphia Flyers     2      US         1975.0\n",
       "15     Montreal Maroons     2  Canada         1935.0\n",
       "16      St. Louis Blues     1      US         2019.0\n",
       "17        Anaheim Ducks     1      US         2007.0\n",
       "18         Dallas Stars     1      US         1999.0\n",
       "19  Carolina Hurricanes     1      US         2006.0\n",
       "20       Calgary Flames     1  Canada         1989.0\n",
       "21  Washington Capitals     1      US         2018.0"
      ]
     },
     "execution_count": 192,
     "metadata": {},
     "output_type": "execute_result"
    }
   ],
   "source": [
    "# Create a DataFrame to work with:\n",
    "\n",
    "data = df3\n",
    "df = pd.DataFrame(data)\n",
    "df"
   ]
  },
  {
   "cell_type": "code",
   "execution_count": 193,
   "metadata": {
    "id": "aHF48WQi4Mqw"
   },
   "outputs": [
    {
     "data": {
      "text/html": [
       "<div>\n",
       "<style scoped>\n",
       "    .dataframe tbody tr th:only-of-type {\n",
       "        vertical-align: middle;\n",
       "    }\n",
       "\n",
       "    .dataframe tbody tr th {\n",
       "        vertical-align: top;\n",
       "    }\n",
       "\n",
       "    .dataframe thead th {\n",
       "        text-align: right;\n",
       "    }\n",
       "</style>\n",
       "<table border=\"1\" class=\"dataframe\">\n",
       "  <thead>\n",
       "    <tr style=\"text-align: right;\">\n",
       "      <th></th>\n",
       "      <th>Wins</th>\n",
       "      <th>Last year won</th>\n",
       "      <th>Team_Anaheim Ducks</th>\n",
       "      <th>Team_Boston Bruins</th>\n",
       "      <th>Team_Calgary Flames</th>\n",
       "      <th>Team_Carolina Hurricanes</th>\n",
       "      <th>Team_Chicago Blackhawks</th>\n",
       "      <th>Team_Colorado Avalanche</th>\n",
       "      <th>Team_Dallas Stars</th>\n",
       "      <th>Team_Detroit Red Wings</th>\n",
       "      <th>...</th>\n",
       "      <th>Team_New York Rangers</th>\n",
       "      <th>Team_Philadelphia Flyers</th>\n",
       "      <th>Team_Pittsburgh Penguins</th>\n",
       "      <th>Team_St. Louis Blues</th>\n",
       "      <th>Team_St. Louis Eagles</th>\n",
       "      <th>Team_Tampa Bay Lightning</th>\n",
       "      <th>Team_Toronto Maple Leafs</th>\n",
       "      <th>Team_Washington Capitals</th>\n",
       "      <th>Country_Canada</th>\n",
       "      <th>Country_US</th>\n",
       "    </tr>\n",
       "  </thead>\n",
       "  <tbody>\n",
       "    <tr>\n",
       "      <th>0</th>\n",
       "      <td>23</td>\n",
       "      <td>NaN</td>\n",
       "      <td>0</td>\n",
       "      <td>0</td>\n",
       "      <td>0</td>\n",
       "      <td>0</td>\n",
       "      <td>0</td>\n",
       "      <td>0</td>\n",
       "      <td>0</td>\n",
       "      <td>0</td>\n",
       "      <td>...</td>\n",
       "      <td>0</td>\n",
       "      <td>0</td>\n",
       "      <td>0</td>\n",
       "      <td>0</td>\n",
       "      <td>0</td>\n",
       "      <td>0</td>\n",
       "      <td>0</td>\n",
       "      <td>0</td>\n",
       "      <td>1</td>\n",
       "      <td>0</td>\n",
       "    </tr>\n",
       "    <tr>\n",
       "      <th>1</th>\n",
       "      <td>13</td>\n",
       "      <td>1967.0</td>\n",
       "      <td>0</td>\n",
       "      <td>0</td>\n",
       "      <td>0</td>\n",
       "      <td>0</td>\n",
       "      <td>0</td>\n",
       "      <td>0</td>\n",
       "      <td>0</td>\n",
       "      <td>0</td>\n",
       "      <td>...</td>\n",
       "      <td>0</td>\n",
       "      <td>0</td>\n",
       "      <td>0</td>\n",
       "      <td>0</td>\n",
       "      <td>0</td>\n",
       "      <td>0</td>\n",
       "      <td>1</td>\n",
       "      <td>0</td>\n",
       "      <td>1</td>\n",
       "      <td>0</td>\n",
       "    </tr>\n",
       "    <tr>\n",
       "      <th>2</th>\n",
       "      <td>11</td>\n",
       "      <td>2008.0</td>\n",
       "      <td>0</td>\n",
       "      <td>0</td>\n",
       "      <td>0</td>\n",
       "      <td>0</td>\n",
       "      <td>0</td>\n",
       "      <td>0</td>\n",
       "      <td>0</td>\n",
       "      <td>1</td>\n",
       "      <td>...</td>\n",
       "      <td>0</td>\n",
       "      <td>0</td>\n",
       "      <td>0</td>\n",
       "      <td>0</td>\n",
       "      <td>0</td>\n",
       "      <td>0</td>\n",
       "      <td>0</td>\n",
       "      <td>0</td>\n",
       "      <td>0</td>\n",
       "      <td>1</td>\n",
       "    </tr>\n",
       "    <tr>\n",
       "      <th>3</th>\n",
       "      <td>6</td>\n",
       "      <td>2011.0</td>\n",
       "      <td>0</td>\n",
       "      <td>1</td>\n",
       "      <td>0</td>\n",
       "      <td>0</td>\n",
       "      <td>0</td>\n",
       "      <td>0</td>\n",
       "      <td>0</td>\n",
       "      <td>0</td>\n",
       "      <td>...</td>\n",
       "      <td>0</td>\n",
       "      <td>0</td>\n",
       "      <td>0</td>\n",
       "      <td>0</td>\n",
       "      <td>0</td>\n",
       "      <td>0</td>\n",
       "      <td>0</td>\n",
       "      <td>0</td>\n",
       "      <td>0</td>\n",
       "      <td>1</td>\n",
       "    </tr>\n",
       "    <tr>\n",
       "      <th>4</th>\n",
       "      <td>6</td>\n",
       "      <td>2015.0</td>\n",
       "      <td>0</td>\n",
       "      <td>0</td>\n",
       "      <td>0</td>\n",
       "      <td>0</td>\n",
       "      <td>1</td>\n",
       "      <td>0</td>\n",
       "      <td>0</td>\n",
       "      <td>0</td>\n",
       "      <td>...</td>\n",
       "      <td>0</td>\n",
       "      <td>0</td>\n",
       "      <td>0</td>\n",
       "      <td>0</td>\n",
       "      <td>0</td>\n",
       "      <td>0</td>\n",
       "      <td>0</td>\n",
       "      <td>0</td>\n",
       "      <td>0</td>\n",
       "      <td>1</td>\n",
       "    </tr>\n",
       "    <tr>\n",
       "      <th>5</th>\n",
       "      <td>5</td>\n",
       "      <td>1990.0</td>\n",
       "      <td>0</td>\n",
       "      <td>0</td>\n",
       "      <td>0</td>\n",
       "      <td>0</td>\n",
       "      <td>0</td>\n",
       "      <td>0</td>\n",
       "      <td>0</td>\n",
       "      <td>0</td>\n",
       "      <td>...</td>\n",
       "      <td>0</td>\n",
       "      <td>0</td>\n",
       "      <td>0</td>\n",
       "      <td>0</td>\n",
       "      <td>0</td>\n",
       "      <td>0</td>\n",
       "      <td>0</td>\n",
       "      <td>0</td>\n",
       "      <td>1</td>\n",
       "      <td>0</td>\n",
       "    </tr>\n",
       "    <tr>\n",
       "      <th>6</th>\n",
       "      <td>5</td>\n",
       "      <td>2017.0</td>\n",
       "      <td>0</td>\n",
       "      <td>0</td>\n",
       "      <td>0</td>\n",
       "      <td>0</td>\n",
       "      <td>0</td>\n",
       "      <td>0</td>\n",
       "      <td>0</td>\n",
       "      <td>0</td>\n",
       "      <td>...</td>\n",
       "      <td>0</td>\n",
       "      <td>0</td>\n",
       "      <td>1</td>\n",
       "      <td>0</td>\n",
       "      <td>0</td>\n",
       "      <td>0</td>\n",
       "      <td>0</td>\n",
       "      <td>0</td>\n",
       "      <td>0</td>\n",
       "      <td>1</td>\n",
       "    </tr>\n",
       "    <tr>\n",
       "      <th>7</th>\n",
       "      <td>4</td>\n",
       "      <td>NaN</td>\n",
       "      <td>0</td>\n",
       "      <td>0</td>\n",
       "      <td>0</td>\n",
       "      <td>0</td>\n",
       "      <td>0</td>\n",
       "      <td>0</td>\n",
       "      <td>0</td>\n",
       "      <td>0</td>\n",
       "      <td>...</td>\n",
       "      <td>0</td>\n",
       "      <td>0</td>\n",
       "      <td>0</td>\n",
       "      <td>0</td>\n",
       "      <td>1</td>\n",
       "      <td>0</td>\n",
       "      <td>0</td>\n",
       "      <td>0</td>\n",
       "      <td>0</td>\n",
       "      <td>1</td>\n",
       "    </tr>\n",
       "    <tr>\n",
       "      <th>8</th>\n",
       "      <td>4</td>\n",
       "      <td>1983.0</td>\n",
       "      <td>0</td>\n",
       "      <td>0</td>\n",
       "      <td>0</td>\n",
       "      <td>0</td>\n",
       "      <td>0</td>\n",
       "      <td>0</td>\n",
       "      <td>0</td>\n",
       "      <td>0</td>\n",
       "      <td>...</td>\n",
       "      <td>0</td>\n",
       "      <td>0</td>\n",
       "      <td>0</td>\n",
       "      <td>0</td>\n",
       "      <td>0</td>\n",
       "      <td>0</td>\n",
       "      <td>0</td>\n",
       "      <td>0</td>\n",
       "      <td>0</td>\n",
       "      <td>1</td>\n",
       "    </tr>\n",
       "    <tr>\n",
       "      <th>9</th>\n",
       "      <td>4</td>\n",
       "      <td>1994.0</td>\n",
       "      <td>0</td>\n",
       "      <td>0</td>\n",
       "      <td>0</td>\n",
       "      <td>0</td>\n",
       "      <td>0</td>\n",
       "      <td>0</td>\n",
       "      <td>0</td>\n",
       "      <td>0</td>\n",
       "      <td>...</td>\n",
       "      <td>1</td>\n",
       "      <td>0</td>\n",
       "      <td>0</td>\n",
       "      <td>0</td>\n",
       "      <td>0</td>\n",
       "      <td>0</td>\n",
       "      <td>0</td>\n",
       "      <td>0</td>\n",
       "      <td>0</td>\n",
       "      <td>1</td>\n",
       "    </tr>\n",
       "    <tr>\n",
       "      <th>10</th>\n",
       "      <td>3</td>\n",
       "      <td>2020.0</td>\n",
       "      <td>0</td>\n",
       "      <td>0</td>\n",
       "      <td>0</td>\n",
       "      <td>0</td>\n",
       "      <td>0</td>\n",
       "      <td>0</td>\n",
       "      <td>0</td>\n",
       "      <td>0</td>\n",
       "      <td>...</td>\n",
       "      <td>0</td>\n",
       "      <td>0</td>\n",
       "      <td>0</td>\n",
       "      <td>0</td>\n",
       "      <td>0</td>\n",
       "      <td>1</td>\n",
       "      <td>0</td>\n",
       "      <td>0</td>\n",
       "      <td>0</td>\n",
       "      <td>1</td>\n",
       "    </tr>\n",
       "    <tr>\n",
       "      <th>11</th>\n",
       "      <td>3</td>\n",
       "      <td>2003.0</td>\n",
       "      <td>0</td>\n",
       "      <td>0</td>\n",
       "      <td>0</td>\n",
       "      <td>0</td>\n",
       "      <td>0</td>\n",
       "      <td>0</td>\n",
       "      <td>0</td>\n",
       "      <td>0</td>\n",
       "      <td>...</td>\n",
       "      <td>0</td>\n",
       "      <td>0</td>\n",
       "      <td>0</td>\n",
       "      <td>0</td>\n",
       "      <td>0</td>\n",
       "      <td>0</td>\n",
       "      <td>0</td>\n",
       "      <td>0</td>\n",
       "      <td>0</td>\n",
       "      <td>1</td>\n",
       "    </tr>\n",
       "    <tr>\n",
       "      <th>12</th>\n",
       "      <td>2</td>\n",
       "      <td>2014.0</td>\n",
       "      <td>0</td>\n",
       "      <td>0</td>\n",
       "      <td>0</td>\n",
       "      <td>0</td>\n",
       "      <td>0</td>\n",
       "      <td>0</td>\n",
       "      <td>0</td>\n",
       "      <td>0</td>\n",
       "      <td>...</td>\n",
       "      <td>0</td>\n",
       "      <td>0</td>\n",
       "      <td>0</td>\n",
       "      <td>0</td>\n",
       "      <td>0</td>\n",
       "      <td>0</td>\n",
       "      <td>0</td>\n",
       "      <td>0</td>\n",
       "      <td>0</td>\n",
       "      <td>1</td>\n",
       "    </tr>\n",
       "    <tr>\n",
       "      <th>13</th>\n",
       "      <td>2</td>\n",
       "      <td>2001.0</td>\n",
       "      <td>0</td>\n",
       "      <td>0</td>\n",
       "      <td>0</td>\n",
       "      <td>0</td>\n",
       "      <td>0</td>\n",
       "      <td>1</td>\n",
       "      <td>0</td>\n",
       "      <td>0</td>\n",
       "      <td>...</td>\n",
       "      <td>0</td>\n",
       "      <td>0</td>\n",
       "      <td>0</td>\n",
       "      <td>0</td>\n",
       "      <td>0</td>\n",
       "      <td>0</td>\n",
       "      <td>0</td>\n",
       "      <td>0</td>\n",
       "      <td>0</td>\n",
       "      <td>1</td>\n",
       "    </tr>\n",
       "    <tr>\n",
       "      <th>14</th>\n",
       "      <td>2</td>\n",
       "      <td>1975.0</td>\n",
       "      <td>0</td>\n",
       "      <td>0</td>\n",
       "      <td>0</td>\n",
       "      <td>0</td>\n",
       "      <td>0</td>\n",
       "      <td>0</td>\n",
       "      <td>0</td>\n",
       "      <td>0</td>\n",
       "      <td>...</td>\n",
       "      <td>0</td>\n",
       "      <td>1</td>\n",
       "      <td>0</td>\n",
       "      <td>0</td>\n",
       "      <td>0</td>\n",
       "      <td>0</td>\n",
       "      <td>0</td>\n",
       "      <td>0</td>\n",
       "      <td>0</td>\n",
       "      <td>1</td>\n",
       "    </tr>\n",
       "    <tr>\n",
       "      <th>15</th>\n",
       "      <td>2</td>\n",
       "      <td>1935.0</td>\n",
       "      <td>0</td>\n",
       "      <td>0</td>\n",
       "      <td>0</td>\n",
       "      <td>0</td>\n",
       "      <td>0</td>\n",
       "      <td>0</td>\n",
       "      <td>0</td>\n",
       "      <td>0</td>\n",
       "      <td>...</td>\n",
       "      <td>0</td>\n",
       "      <td>0</td>\n",
       "      <td>0</td>\n",
       "      <td>0</td>\n",
       "      <td>0</td>\n",
       "      <td>0</td>\n",
       "      <td>0</td>\n",
       "      <td>0</td>\n",
       "      <td>1</td>\n",
       "      <td>0</td>\n",
       "    </tr>\n",
       "    <tr>\n",
       "      <th>16</th>\n",
       "      <td>1</td>\n",
       "      <td>2019.0</td>\n",
       "      <td>0</td>\n",
       "      <td>0</td>\n",
       "      <td>0</td>\n",
       "      <td>0</td>\n",
       "      <td>0</td>\n",
       "      <td>0</td>\n",
       "      <td>0</td>\n",
       "      <td>0</td>\n",
       "      <td>...</td>\n",
       "      <td>0</td>\n",
       "      <td>0</td>\n",
       "      <td>0</td>\n",
       "      <td>1</td>\n",
       "      <td>0</td>\n",
       "      <td>0</td>\n",
       "      <td>0</td>\n",
       "      <td>0</td>\n",
       "      <td>0</td>\n",
       "      <td>1</td>\n",
       "    </tr>\n",
       "    <tr>\n",
       "      <th>17</th>\n",
       "      <td>1</td>\n",
       "      <td>2007.0</td>\n",
       "      <td>1</td>\n",
       "      <td>0</td>\n",
       "      <td>0</td>\n",
       "      <td>0</td>\n",
       "      <td>0</td>\n",
       "      <td>0</td>\n",
       "      <td>0</td>\n",
       "      <td>0</td>\n",
       "      <td>...</td>\n",
       "      <td>0</td>\n",
       "      <td>0</td>\n",
       "      <td>0</td>\n",
       "      <td>0</td>\n",
       "      <td>0</td>\n",
       "      <td>0</td>\n",
       "      <td>0</td>\n",
       "      <td>0</td>\n",
       "      <td>0</td>\n",
       "      <td>1</td>\n",
       "    </tr>\n",
       "    <tr>\n",
       "      <th>18</th>\n",
       "      <td>1</td>\n",
       "      <td>1999.0</td>\n",
       "      <td>0</td>\n",
       "      <td>0</td>\n",
       "      <td>0</td>\n",
       "      <td>0</td>\n",
       "      <td>0</td>\n",
       "      <td>0</td>\n",
       "      <td>1</td>\n",
       "      <td>0</td>\n",
       "      <td>...</td>\n",
       "      <td>0</td>\n",
       "      <td>0</td>\n",
       "      <td>0</td>\n",
       "      <td>0</td>\n",
       "      <td>0</td>\n",
       "      <td>0</td>\n",
       "      <td>0</td>\n",
       "      <td>0</td>\n",
       "      <td>0</td>\n",
       "      <td>1</td>\n",
       "    </tr>\n",
       "    <tr>\n",
       "      <th>19</th>\n",
       "      <td>1</td>\n",
       "      <td>2006.0</td>\n",
       "      <td>0</td>\n",
       "      <td>0</td>\n",
       "      <td>0</td>\n",
       "      <td>1</td>\n",
       "      <td>0</td>\n",
       "      <td>0</td>\n",
       "      <td>0</td>\n",
       "      <td>0</td>\n",
       "      <td>...</td>\n",
       "      <td>0</td>\n",
       "      <td>0</td>\n",
       "      <td>0</td>\n",
       "      <td>0</td>\n",
       "      <td>0</td>\n",
       "      <td>0</td>\n",
       "      <td>0</td>\n",
       "      <td>0</td>\n",
       "      <td>0</td>\n",
       "      <td>1</td>\n",
       "    </tr>\n",
       "    <tr>\n",
       "      <th>20</th>\n",
       "      <td>1</td>\n",
       "      <td>1989.0</td>\n",
       "      <td>0</td>\n",
       "      <td>0</td>\n",
       "      <td>1</td>\n",
       "      <td>0</td>\n",
       "      <td>0</td>\n",
       "      <td>0</td>\n",
       "      <td>0</td>\n",
       "      <td>0</td>\n",
       "      <td>...</td>\n",
       "      <td>0</td>\n",
       "      <td>0</td>\n",
       "      <td>0</td>\n",
       "      <td>0</td>\n",
       "      <td>0</td>\n",
       "      <td>0</td>\n",
       "      <td>0</td>\n",
       "      <td>0</td>\n",
       "      <td>1</td>\n",
       "      <td>0</td>\n",
       "    </tr>\n",
       "    <tr>\n",
       "      <th>21</th>\n",
       "      <td>1</td>\n",
       "      <td>2018.0</td>\n",
       "      <td>0</td>\n",
       "      <td>0</td>\n",
       "      <td>0</td>\n",
       "      <td>0</td>\n",
       "      <td>0</td>\n",
       "      <td>0</td>\n",
       "      <td>0</td>\n",
       "      <td>0</td>\n",
       "      <td>...</td>\n",
       "      <td>0</td>\n",
       "      <td>0</td>\n",
       "      <td>0</td>\n",
       "      <td>0</td>\n",
       "      <td>0</td>\n",
       "      <td>0</td>\n",
       "      <td>0</td>\n",
       "      <td>1</td>\n",
       "      <td>0</td>\n",
       "      <td>1</td>\n",
       "    </tr>\n",
       "  </tbody>\n",
       "</table>\n",
       "<p>22 rows × 26 columns</p>\n",
       "</div>"
      ],
      "text/plain": [
       "    Wins  Last year won  Team_Anaheim Ducks  Team_Boston Bruins  \\\n",
       "0     23            NaN                   0                   0   \n",
       "1     13         1967.0                   0                   0   \n",
       "2     11         2008.0                   0                   0   \n",
       "3      6         2011.0                   0                   1   \n",
       "4      6         2015.0                   0                   0   \n",
       "5      5         1990.0                   0                   0   \n",
       "6      5         2017.0                   0                   0   \n",
       "7      4            NaN                   0                   0   \n",
       "8      4         1983.0                   0                   0   \n",
       "9      4         1994.0                   0                   0   \n",
       "10     3         2020.0                   0                   0   \n",
       "11     3         2003.0                   0                   0   \n",
       "12     2         2014.0                   0                   0   \n",
       "13     2         2001.0                   0                   0   \n",
       "14     2         1975.0                   0                   0   \n",
       "15     2         1935.0                   0                   0   \n",
       "16     1         2019.0                   0                   0   \n",
       "17     1         2007.0                   1                   0   \n",
       "18     1         1999.0                   0                   0   \n",
       "19     1         2006.0                   0                   0   \n",
       "20     1         1989.0                   0                   0   \n",
       "21     1         2018.0                   0                   0   \n",
       "\n",
       "    Team_Calgary Flames  Team_Carolina Hurricanes  Team_Chicago Blackhawks  \\\n",
       "0                     0                         0                        0   \n",
       "1                     0                         0                        0   \n",
       "2                     0                         0                        0   \n",
       "3                     0                         0                        0   \n",
       "4                     0                         0                        1   \n",
       "5                     0                         0                        0   \n",
       "6                     0                         0                        0   \n",
       "7                     0                         0                        0   \n",
       "8                     0                         0                        0   \n",
       "9                     0                         0                        0   \n",
       "10                    0                         0                        0   \n",
       "11                    0                         0                        0   \n",
       "12                    0                         0                        0   \n",
       "13                    0                         0                        0   \n",
       "14                    0                         0                        0   \n",
       "15                    0                         0                        0   \n",
       "16                    0                         0                        0   \n",
       "17                    0                         0                        0   \n",
       "18                    0                         0                        0   \n",
       "19                    0                         1                        0   \n",
       "20                    1                         0                        0   \n",
       "21                    0                         0                        0   \n",
       "\n",
       "    Team_Colorado Avalanche  Team_Dallas Stars  Team_Detroit Red Wings  ...  \\\n",
       "0                         0                  0                       0  ...   \n",
       "1                         0                  0                       0  ...   \n",
       "2                         0                  0                       1  ...   \n",
       "3                         0                  0                       0  ...   \n",
       "4                         0                  0                       0  ...   \n",
       "5                         0                  0                       0  ...   \n",
       "6                         0                  0                       0  ...   \n",
       "7                         0                  0                       0  ...   \n",
       "8                         0                  0                       0  ...   \n",
       "9                         0                  0                       0  ...   \n",
       "10                        0                  0                       0  ...   \n",
       "11                        0                  0                       0  ...   \n",
       "12                        0                  0                       0  ...   \n",
       "13                        1                  0                       0  ...   \n",
       "14                        0                  0                       0  ...   \n",
       "15                        0                  0                       0  ...   \n",
       "16                        0                  0                       0  ...   \n",
       "17                        0                  0                       0  ...   \n",
       "18                        0                  1                       0  ...   \n",
       "19                        0                  0                       0  ...   \n",
       "20                        0                  0                       0  ...   \n",
       "21                        0                  0                       0  ...   \n",
       "\n",
       "    Team_New York Rangers  Team_Philadelphia Flyers  Team_Pittsburgh Penguins  \\\n",
       "0                       0                         0                         0   \n",
       "1                       0                         0                         0   \n",
       "2                       0                         0                         0   \n",
       "3                       0                         0                         0   \n",
       "4                       0                         0                         0   \n",
       "5                       0                         0                         0   \n",
       "6                       0                         0                         1   \n",
       "7                       0                         0                         0   \n",
       "8                       0                         0                         0   \n",
       "9                       1                         0                         0   \n",
       "10                      0                         0                         0   \n",
       "11                      0                         0                         0   \n",
       "12                      0                         0                         0   \n",
       "13                      0                         0                         0   \n",
       "14                      0                         1                         0   \n",
       "15                      0                         0                         0   \n",
       "16                      0                         0                         0   \n",
       "17                      0                         0                         0   \n",
       "18                      0                         0                         0   \n",
       "19                      0                         0                         0   \n",
       "20                      0                         0                         0   \n",
       "21                      0                         0                         0   \n",
       "\n",
       "    Team_St. Louis Blues  Team_St. Louis Eagles  Team_Tampa Bay Lightning  \\\n",
       "0                      0                      0                         0   \n",
       "1                      0                      0                         0   \n",
       "2                      0                      0                         0   \n",
       "3                      0                      0                         0   \n",
       "4                      0                      0                         0   \n",
       "5                      0                      0                         0   \n",
       "6                      0                      0                         0   \n",
       "7                      0                      1                         0   \n",
       "8                      0                      0                         0   \n",
       "9                      0                      0                         0   \n",
       "10                     0                      0                         1   \n",
       "11                     0                      0                         0   \n",
       "12                     0                      0                         0   \n",
       "13                     0                      0                         0   \n",
       "14                     0                      0                         0   \n",
       "15                     0                      0                         0   \n",
       "16                     1                      0                         0   \n",
       "17                     0                      0                         0   \n",
       "18                     0                      0                         0   \n",
       "19                     0                      0                         0   \n",
       "20                     0                      0                         0   \n",
       "21                     0                      0                         0   \n",
       "\n",
       "    Team_Toronto Maple Leafs  Team_Washington Capitals  Country_Canada  \\\n",
       "0                          0                         0               1   \n",
       "1                          1                         0               1   \n",
       "2                          0                         0               0   \n",
       "3                          0                         0               0   \n",
       "4                          0                         0               0   \n",
       "5                          0                         0               1   \n",
       "6                          0                         0               0   \n",
       "7                          0                         0               0   \n",
       "8                          0                         0               0   \n",
       "9                          0                         0               0   \n",
       "10                         0                         0               0   \n",
       "11                         0                         0               0   \n",
       "12                         0                         0               0   \n",
       "13                         0                         0               0   \n",
       "14                         0                         0               0   \n",
       "15                         0                         0               1   \n",
       "16                         0                         0               0   \n",
       "17                         0                         0               0   \n",
       "18                         0                         0               0   \n",
       "19                         0                         0               0   \n",
       "20                         0                         0               1   \n",
       "21                         0                         1               0   \n",
       "\n",
       "    Country_US  \n",
       "0            0  \n",
       "1            0  \n",
       "2            1  \n",
       "3            1  \n",
       "4            1  \n",
       "5            0  \n",
       "6            1  \n",
       "7            1  \n",
       "8            1  \n",
       "9            1  \n",
       "10           1  \n",
       "11           1  \n",
       "12           1  \n",
       "13           1  \n",
       "14           1  \n",
       "15           0  \n",
       "16           1  \n",
       "17           1  \n",
       "18           1  \n",
       "19           1  \n",
       "20           0  \n",
       "21           1  \n",
       "\n",
       "[22 rows x 26 columns]"
      ]
     },
     "execution_count": 193,
     "metadata": {},
     "output_type": "execute_result"
    }
   ],
   "source": [
    "# Implement One hot Encoding using the get_dummies() function:\n",
    "\n",
    "df = pd.get_dummies(df)\n",
    "df"
   ]
  },
  {
   "cell_type": "markdown",
   "metadata": {
    "id": "fM7U_stF4Mqy"
   },
   "source": [
    "### Oxides example"
   ]
  },
  {
   "cell_type": "code",
   "execution_count": null,
   "metadata": {
    "id": "vFKrUkTl4Mqy"
   },
   "outputs": [],
   "source": [
    "data = {'formula':['IrO2', 'RuO2', 'TiO2', 'Ni3O4'], 'overpotential':[300, 250, 400, 280]}\n",
    "df2 = pd.DataFrame(data)\n",
    "df2"
   ]
  },
  {
   "cell_type": "markdown",
   "metadata": {
    "id": "giJnnbte4MrB"
   },
   "source": [
    "## Matminer"
   ]
  },
  {
   "cell_type": "markdown",
   "metadata": {
    "id": "FqdSkAiQ4MrB"
   },
   "source": [
    "Matminer is a powerful python library which aims to simplify the machine learning pipeline for material science. Has 3 key capabilities:\n",
    "\n",
    "1. Data retrieval tools: allows to import data from various online databases in the form of DataFrames. \n",
    "2. Data descriptor tools: utilities to describe a material from its composition or structure, and represent them in numerical format such that they are readily usable as features.\n",
    "3. Plotting tools: create plots to visualize the data.\n",
    "\n",
    "The inputs prepared by Matminer can be easily fed into ML packages such as SK-Learn and Keras to conduct Machine Learning.\n",
    "\n",
    "**Matminer Homepage:** https://hackingmaterials.lbl.gov/matminer/ \n",
    "\n",
    "**Table of Featurizers**: https://hackingmaterials.lbl.gov/matminer/featurizer_summary.html"
   ]
  },
  {
   "cell_type": "markdown",
   "metadata": {
    "id": "CArVfslN4MrQ"
   },
   "source": [
    "<div>\n",
    "    <img src=\"img/matminer.png\" width=600>\n",
    " </div>"
   ]
  },
  {
   "cell_type": "code",
   "execution_count": 198,
   "metadata": {
    "id": "VnPBPYptnZkR"
   },
   "outputs": [
    {
     "ename": "SyntaxError",
     "evalue": "invalid syntax (2609264039.py, line 3)",
     "output_type": "error",
     "traceback": [
      "\u001b[0;36m  Input \u001b[0;32mIn [198]\u001b[0;36m\u001b[0m\n\u001b[0;31m    pip install matminer\u001b[0m\n\u001b[0m        ^\u001b[0m\n\u001b[0;31mSyntaxError\u001b[0m\u001b[0;31m:\u001b[0m invalid syntax\n"
     ]
    }
   ],
   "source": [
    "# Uncomment and run the line between to install Matminer\n",
    "\n",
    "pip install matminer"
   ]
  },
  {
   "cell_type": "markdown",
   "metadata": {
    "id": "-lREaF4O4MrC"
   },
   "source": [
    "### 1. Get composition"
   ]
  },
  {
   "cell_type": "code",
   "execution_count": 196,
   "metadata": {
    "id": "qTgwoIEX4MrE"
   },
   "outputs": [
    {
     "ename": "KeyError",
     "evalue": "\"None of [Index(['formula'], dtype='object')] are in the [columns]\"",
     "output_type": "error",
     "traceback": [
      "\u001b[0;31m---------------------------------------------------------------------------\u001b[0m",
      "\u001b[0;31mKeyError\u001b[0m                                  Traceback (most recent call last)",
      "Input \u001b[0;32mIn [196]\u001b[0m, in \u001b[0;36m<cell line: 5>\u001b[0;34m()\u001b[0m\n\u001b[1;32m      2\u001b[0m \u001b[38;5;28;01mfrom\u001b[39;00m \u001b[38;5;21;01mtqdm\u001b[39;00m\u001b[38;5;21;01m.\u001b[39;00m\u001b[38;5;21;01mautonotebook\u001b[39;00m \u001b[38;5;28;01mimport\u001b[39;00m tqdm \u001b[38;5;66;03m# This line is to supresse some warnings. You can ignore it.\u001b[39;00m\n\u001b[1;32m      4\u001b[0m \u001b[38;5;66;03m#convert the formula from a string into chemical composition\u001b[39;00m\n\u001b[0;32m----> 5\u001b[0m df2 \u001b[38;5;241m=\u001b[39m \u001b[43mStrToComposition\u001b[49m\u001b[43m(\u001b[49m\u001b[43m)\u001b[49m\u001b[38;5;241;43m.\u001b[39;49m\u001b[43mfeaturize_dataframe\u001b[49m\u001b[43m(\u001b[49m\u001b[43mdf2\u001b[49m\u001b[43m,\u001b[49m\u001b[43m \u001b[49m\u001b[38;5;124;43m\"\u001b[39;49m\u001b[38;5;124;43mformula\u001b[39;49m\u001b[38;5;124;43m\"\u001b[39;49m\u001b[43m)\u001b[49m\n\u001b[1;32m      6\u001b[0m df2\u001b[38;5;241m.\u001b[39mhead()\n",
      "File \u001b[0;32m~/opt/anaconda3/lib/python3.9/site-packages/matminer/featurizers/conversions.py:89\u001b[0m, in \u001b[0;36mConversionFeaturizer.featurize_dataframe\u001b[0;34m(self, df, col_id, **kwargs)\u001b[0m\n\u001b[1;32m     86\u001b[0m \u001b[38;5;28;01melif\u001b[39;00m target \u001b[38;5;129;01mis\u001b[39;00m \u001b[38;5;28;01mNone\u001b[39;00m:\n\u001b[1;32m     87\u001b[0m     \u001b[38;5;28mself\u001b[39m\u001b[38;5;241m.\u001b[39m_target_col_id \u001b[38;5;241m=\u001b[39m col_id\n\u001b[0;32m---> 89\u001b[0m \u001b[38;5;28;01mreturn\u001b[39;00m \u001b[38;5;28;43msuper\u001b[39;49m\u001b[43m(\u001b[49m\u001b[43m)\u001b[49m\u001b[38;5;241;43m.\u001b[39;49m\u001b[43mfeaturize_dataframe\u001b[49m\u001b[43m(\u001b[49m\u001b[43mdf\u001b[49m\u001b[43m,\u001b[49m\u001b[43m \u001b[49m\u001b[43mcol_id\u001b[49m\u001b[43m,\u001b[49m\u001b[43m \u001b[49m\u001b[38;5;241;43m*\u001b[39;49m\u001b[38;5;241;43m*\u001b[39;49m\u001b[43mkwargs\u001b[49m\u001b[43m)\u001b[49m\n",
      "File \u001b[0;32m~/opt/anaconda3/lib/python3.9/site-packages/matminer/featurizers/base.py:339\u001b[0m, in \u001b[0;36mBaseFeaturizer.featurize_dataframe\u001b[0;34m(self, df, col_id, ignore_errors, return_errors, inplace, multiindex, pbar)\u001b[0m\n\u001b[1;32m    335\u001b[0m             \u001b[38;5;28;01mraise\u001b[39;00m \u001b[38;5;167;01mValueError\u001b[39;00m(\u001b[38;5;124mf\u001b[39m\u001b[38;5;124m'\u001b[39m\u001b[38;5;124m\"\u001b[39m\u001b[38;5;132;01m{\u001b[39;00mcol\u001b[38;5;132;01m}\u001b[39;00m\u001b[38;5;124m\"\u001b[39m\u001b[38;5;124m exists in input dataframe\u001b[39m\u001b[38;5;124m'\u001b[39m)\n\u001b[1;32m    337\u001b[0m \u001b[38;5;66;03m# Compute the features\u001b[39;00m\n\u001b[1;32m    338\u001b[0m features \u001b[38;5;241m=\u001b[39m \u001b[38;5;28mself\u001b[39m\u001b[38;5;241m.\u001b[39mfeaturize_many(\n\u001b[0;32m--> 339\u001b[0m     \u001b[43mdf\u001b[49m\u001b[43m[\u001b[49m\u001b[43mcol_id\u001b[49m\u001b[43m]\u001b[49m\u001b[38;5;241m.\u001b[39mvalues,\n\u001b[1;32m    340\u001b[0m     ignore_errors\u001b[38;5;241m=\u001b[39mignore_errors,\n\u001b[1;32m    341\u001b[0m     return_errors\u001b[38;5;241m=\u001b[39mreturn_errors,\n\u001b[1;32m    342\u001b[0m     pbar\u001b[38;5;241m=\u001b[39mpbar,\n\u001b[1;32m    343\u001b[0m )\n\u001b[1;32m    345\u001b[0m \u001b[38;5;66;03m# Make sure the dataframe can handle multiindices\u001b[39;00m\n\u001b[1;32m    346\u001b[0m \u001b[38;5;28;01mif\u001b[39;00m multiindex:\n",
      "File \u001b[0;32m~/opt/anaconda3/lib/python3.9/site-packages/pandas/core/frame.py:3511\u001b[0m, in \u001b[0;36mDataFrame.__getitem__\u001b[0;34m(self, key)\u001b[0m\n\u001b[1;32m   3509\u001b[0m     \u001b[38;5;28;01mif\u001b[39;00m is_iterator(key):\n\u001b[1;32m   3510\u001b[0m         key \u001b[38;5;241m=\u001b[39m \u001b[38;5;28mlist\u001b[39m(key)\n\u001b[0;32m-> 3511\u001b[0m     indexer \u001b[38;5;241m=\u001b[39m \u001b[38;5;28;43mself\u001b[39;49m\u001b[38;5;241;43m.\u001b[39;49m\u001b[43mcolumns\u001b[49m\u001b[38;5;241;43m.\u001b[39;49m\u001b[43m_get_indexer_strict\u001b[49m\u001b[43m(\u001b[49m\u001b[43mkey\u001b[49m\u001b[43m,\u001b[49m\u001b[43m \u001b[49m\u001b[38;5;124;43m\"\u001b[39;49m\u001b[38;5;124;43mcolumns\u001b[39;49m\u001b[38;5;124;43m\"\u001b[39;49m\u001b[43m)\u001b[49m[\u001b[38;5;241m1\u001b[39m]\n\u001b[1;32m   3513\u001b[0m \u001b[38;5;66;03m# take() does not accept boolean indexers\u001b[39;00m\n\u001b[1;32m   3514\u001b[0m \u001b[38;5;28;01mif\u001b[39;00m \u001b[38;5;28mgetattr\u001b[39m(indexer, \u001b[38;5;124m\"\u001b[39m\u001b[38;5;124mdtype\u001b[39m\u001b[38;5;124m\"\u001b[39m, \u001b[38;5;28;01mNone\u001b[39;00m) \u001b[38;5;241m==\u001b[39m \u001b[38;5;28mbool\u001b[39m:\n",
      "File \u001b[0;32m~/opt/anaconda3/lib/python3.9/site-packages/pandas/core/indexes/base.py:5782\u001b[0m, in \u001b[0;36mIndex._get_indexer_strict\u001b[0;34m(self, key, axis_name)\u001b[0m\n\u001b[1;32m   5779\u001b[0m \u001b[38;5;28;01melse\u001b[39;00m:\n\u001b[1;32m   5780\u001b[0m     keyarr, indexer, new_indexer \u001b[38;5;241m=\u001b[39m \u001b[38;5;28mself\u001b[39m\u001b[38;5;241m.\u001b[39m_reindex_non_unique(keyarr)\n\u001b[0;32m-> 5782\u001b[0m \u001b[38;5;28;43mself\u001b[39;49m\u001b[38;5;241;43m.\u001b[39;49m\u001b[43m_raise_if_missing\u001b[49m\u001b[43m(\u001b[49m\u001b[43mkeyarr\u001b[49m\u001b[43m,\u001b[49m\u001b[43m \u001b[49m\u001b[43mindexer\u001b[49m\u001b[43m,\u001b[49m\u001b[43m \u001b[49m\u001b[43maxis_name\u001b[49m\u001b[43m)\u001b[49m\n\u001b[1;32m   5784\u001b[0m keyarr \u001b[38;5;241m=\u001b[39m \u001b[38;5;28mself\u001b[39m\u001b[38;5;241m.\u001b[39mtake(indexer)\n\u001b[1;32m   5785\u001b[0m \u001b[38;5;28;01mif\u001b[39;00m \u001b[38;5;28misinstance\u001b[39m(key, Index):\n\u001b[1;32m   5786\u001b[0m     \u001b[38;5;66;03m# GH 42790 - Preserve name from an Index\u001b[39;00m\n",
      "File \u001b[0;32m~/opt/anaconda3/lib/python3.9/site-packages/pandas/core/indexes/base.py:5842\u001b[0m, in \u001b[0;36mIndex._raise_if_missing\u001b[0;34m(self, key, indexer, axis_name)\u001b[0m\n\u001b[1;32m   5840\u001b[0m     \u001b[38;5;28;01mif\u001b[39;00m use_interval_msg:\n\u001b[1;32m   5841\u001b[0m         key \u001b[38;5;241m=\u001b[39m \u001b[38;5;28mlist\u001b[39m(key)\n\u001b[0;32m-> 5842\u001b[0m     \u001b[38;5;28;01mraise\u001b[39;00m \u001b[38;5;167;01mKeyError\u001b[39;00m(\u001b[38;5;124mf\u001b[39m\u001b[38;5;124m\"\u001b[39m\u001b[38;5;124mNone of [\u001b[39m\u001b[38;5;132;01m{\u001b[39;00mkey\u001b[38;5;132;01m}\u001b[39;00m\u001b[38;5;124m] are in the [\u001b[39m\u001b[38;5;132;01m{\u001b[39;00maxis_name\u001b[38;5;132;01m}\u001b[39;00m\u001b[38;5;124m]\u001b[39m\u001b[38;5;124m\"\u001b[39m)\n\u001b[1;32m   5844\u001b[0m not_found \u001b[38;5;241m=\u001b[39m \u001b[38;5;28mlist\u001b[39m(ensure_index(key)[missing_mask\u001b[38;5;241m.\u001b[39mnonzero()[\u001b[38;5;241m0\u001b[39m]]\u001b[38;5;241m.\u001b[39munique())\n\u001b[1;32m   5845\u001b[0m \u001b[38;5;28;01mraise\u001b[39;00m \u001b[38;5;167;01mKeyError\u001b[39;00m(\u001b[38;5;124mf\u001b[39m\u001b[38;5;124m\"\u001b[39m\u001b[38;5;132;01m{\u001b[39;00mnot_found\u001b[38;5;132;01m}\u001b[39;00m\u001b[38;5;124m not in index\u001b[39m\u001b[38;5;124m\"\u001b[39m)\n",
      "\u001b[0;31mKeyError\u001b[0m: \"None of [Index(['formula'], dtype='object')] are in the [columns]\""
     ]
    }
   ],
   "source": [
    "from matminer.featurizers.conversions import StrToComposition\n",
    "from tqdm.autonotebook import tqdm # This line is to supresse some warnings. You can ignore it.\n",
    "\n",
    "#convert the formula from a string into chemical composition\n",
    "df2 = StrToComposition().featurize_dataframe(df2, \"formula\")\n",
    "df2.head()"
   ]
  },
  {
   "cell_type": "code",
   "execution_count": 197,
   "metadata": {
    "id": "NdF_uT6u4MrG"
   },
   "outputs": [
    {
     "ename": "KeyError",
     "evalue": "\"None of [Index(['composition'], dtype='object')] are in the [columns]\"",
     "output_type": "error",
     "traceback": [
      "\u001b[0;31m---------------------------------------------------------------------------\u001b[0m",
      "\u001b[0;31mKeyError\u001b[0m                                  Traceback (most recent call last)",
      "Input \u001b[0;32mIn [197]\u001b[0m, in \u001b[0;36m<cell line: 4>\u001b[0;34m()\u001b[0m\n\u001b[1;32m      1\u001b[0m \u001b[38;5;28;01mfrom\u001b[39;00m \u001b[38;5;21;01mmatminer\u001b[39;00m\u001b[38;5;21;01m.\u001b[39;00m\u001b[38;5;21;01mfeaturizers\u001b[39;00m\u001b[38;5;21;01m.\u001b[39;00m\u001b[38;5;21;01mcomposition\u001b[39;00m \u001b[38;5;28;01mimport\u001b[39;00m ElementFraction\n\u001b[1;32m      3\u001b[0m \u001b[38;5;66;03m##get stoichiometry from formula\u001b[39;00m\n\u001b[0;32m----> 4\u001b[0m df2 \u001b[38;5;241m=\u001b[39m \u001b[43mElementFraction\u001b[49m\u001b[43m(\u001b[49m\u001b[43m)\u001b[49m\u001b[38;5;241;43m.\u001b[39;49m\u001b[43mfeaturize_dataframe\u001b[49m\u001b[43m(\u001b[49m\u001b[43mdf2\u001b[49m\u001b[43m,\u001b[49m\u001b[43m \u001b[49m\u001b[38;5;124;43m\"\u001b[39;49m\u001b[38;5;124;43mcomposition\u001b[39;49m\u001b[38;5;124;43m\"\u001b[39;49m\u001b[43m)\u001b[49m\n\u001b[1;32m      5\u001b[0m df2\n",
      "File \u001b[0;32m~/opt/anaconda3/lib/python3.9/site-packages/matminer/featurizers/base.py:339\u001b[0m, in \u001b[0;36mBaseFeaturizer.featurize_dataframe\u001b[0;34m(self, df, col_id, ignore_errors, return_errors, inplace, multiindex, pbar)\u001b[0m\n\u001b[1;32m    335\u001b[0m             \u001b[38;5;28;01mraise\u001b[39;00m \u001b[38;5;167;01mValueError\u001b[39;00m(\u001b[38;5;124mf\u001b[39m\u001b[38;5;124m'\u001b[39m\u001b[38;5;124m\"\u001b[39m\u001b[38;5;132;01m{\u001b[39;00mcol\u001b[38;5;132;01m}\u001b[39;00m\u001b[38;5;124m\"\u001b[39m\u001b[38;5;124m exists in input dataframe\u001b[39m\u001b[38;5;124m'\u001b[39m)\n\u001b[1;32m    337\u001b[0m \u001b[38;5;66;03m# Compute the features\u001b[39;00m\n\u001b[1;32m    338\u001b[0m features \u001b[38;5;241m=\u001b[39m \u001b[38;5;28mself\u001b[39m\u001b[38;5;241m.\u001b[39mfeaturize_many(\n\u001b[0;32m--> 339\u001b[0m     \u001b[43mdf\u001b[49m\u001b[43m[\u001b[49m\u001b[43mcol_id\u001b[49m\u001b[43m]\u001b[49m\u001b[38;5;241m.\u001b[39mvalues,\n\u001b[1;32m    340\u001b[0m     ignore_errors\u001b[38;5;241m=\u001b[39mignore_errors,\n\u001b[1;32m    341\u001b[0m     return_errors\u001b[38;5;241m=\u001b[39mreturn_errors,\n\u001b[1;32m    342\u001b[0m     pbar\u001b[38;5;241m=\u001b[39mpbar,\n\u001b[1;32m    343\u001b[0m )\n\u001b[1;32m    345\u001b[0m \u001b[38;5;66;03m# Make sure the dataframe can handle multiindices\u001b[39;00m\n\u001b[1;32m    346\u001b[0m \u001b[38;5;28;01mif\u001b[39;00m multiindex:\n",
      "File \u001b[0;32m~/opt/anaconda3/lib/python3.9/site-packages/pandas/core/frame.py:3511\u001b[0m, in \u001b[0;36mDataFrame.__getitem__\u001b[0;34m(self, key)\u001b[0m\n\u001b[1;32m   3509\u001b[0m     \u001b[38;5;28;01mif\u001b[39;00m is_iterator(key):\n\u001b[1;32m   3510\u001b[0m         key \u001b[38;5;241m=\u001b[39m \u001b[38;5;28mlist\u001b[39m(key)\n\u001b[0;32m-> 3511\u001b[0m     indexer \u001b[38;5;241m=\u001b[39m \u001b[38;5;28;43mself\u001b[39;49m\u001b[38;5;241;43m.\u001b[39;49m\u001b[43mcolumns\u001b[49m\u001b[38;5;241;43m.\u001b[39;49m\u001b[43m_get_indexer_strict\u001b[49m\u001b[43m(\u001b[49m\u001b[43mkey\u001b[49m\u001b[43m,\u001b[49m\u001b[43m \u001b[49m\u001b[38;5;124;43m\"\u001b[39;49m\u001b[38;5;124;43mcolumns\u001b[39;49m\u001b[38;5;124;43m\"\u001b[39;49m\u001b[43m)\u001b[49m[\u001b[38;5;241m1\u001b[39m]\n\u001b[1;32m   3513\u001b[0m \u001b[38;5;66;03m# take() does not accept boolean indexers\u001b[39;00m\n\u001b[1;32m   3514\u001b[0m \u001b[38;5;28;01mif\u001b[39;00m \u001b[38;5;28mgetattr\u001b[39m(indexer, \u001b[38;5;124m\"\u001b[39m\u001b[38;5;124mdtype\u001b[39m\u001b[38;5;124m\"\u001b[39m, \u001b[38;5;28;01mNone\u001b[39;00m) \u001b[38;5;241m==\u001b[39m \u001b[38;5;28mbool\u001b[39m:\n",
      "File \u001b[0;32m~/opt/anaconda3/lib/python3.9/site-packages/pandas/core/indexes/base.py:5782\u001b[0m, in \u001b[0;36mIndex._get_indexer_strict\u001b[0;34m(self, key, axis_name)\u001b[0m\n\u001b[1;32m   5779\u001b[0m \u001b[38;5;28;01melse\u001b[39;00m:\n\u001b[1;32m   5780\u001b[0m     keyarr, indexer, new_indexer \u001b[38;5;241m=\u001b[39m \u001b[38;5;28mself\u001b[39m\u001b[38;5;241m.\u001b[39m_reindex_non_unique(keyarr)\n\u001b[0;32m-> 5782\u001b[0m \u001b[38;5;28;43mself\u001b[39;49m\u001b[38;5;241;43m.\u001b[39;49m\u001b[43m_raise_if_missing\u001b[49m\u001b[43m(\u001b[49m\u001b[43mkeyarr\u001b[49m\u001b[43m,\u001b[49m\u001b[43m \u001b[49m\u001b[43mindexer\u001b[49m\u001b[43m,\u001b[49m\u001b[43m \u001b[49m\u001b[43maxis_name\u001b[49m\u001b[43m)\u001b[49m\n\u001b[1;32m   5784\u001b[0m keyarr \u001b[38;5;241m=\u001b[39m \u001b[38;5;28mself\u001b[39m\u001b[38;5;241m.\u001b[39mtake(indexer)\n\u001b[1;32m   5785\u001b[0m \u001b[38;5;28;01mif\u001b[39;00m \u001b[38;5;28misinstance\u001b[39m(key, Index):\n\u001b[1;32m   5786\u001b[0m     \u001b[38;5;66;03m# GH 42790 - Preserve name from an Index\u001b[39;00m\n",
      "File \u001b[0;32m~/opt/anaconda3/lib/python3.9/site-packages/pandas/core/indexes/base.py:5842\u001b[0m, in \u001b[0;36mIndex._raise_if_missing\u001b[0;34m(self, key, indexer, axis_name)\u001b[0m\n\u001b[1;32m   5840\u001b[0m     \u001b[38;5;28;01mif\u001b[39;00m use_interval_msg:\n\u001b[1;32m   5841\u001b[0m         key \u001b[38;5;241m=\u001b[39m \u001b[38;5;28mlist\u001b[39m(key)\n\u001b[0;32m-> 5842\u001b[0m     \u001b[38;5;28;01mraise\u001b[39;00m \u001b[38;5;167;01mKeyError\u001b[39;00m(\u001b[38;5;124mf\u001b[39m\u001b[38;5;124m\"\u001b[39m\u001b[38;5;124mNone of [\u001b[39m\u001b[38;5;132;01m{\u001b[39;00mkey\u001b[38;5;132;01m}\u001b[39;00m\u001b[38;5;124m] are in the [\u001b[39m\u001b[38;5;132;01m{\u001b[39;00maxis_name\u001b[38;5;132;01m}\u001b[39;00m\u001b[38;5;124m]\u001b[39m\u001b[38;5;124m\"\u001b[39m)\n\u001b[1;32m   5844\u001b[0m not_found \u001b[38;5;241m=\u001b[39m \u001b[38;5;28mlist\u001b[39m(ensure_index(key)[missing_mask\u001b[38;5;241m.\u001b[39mnonzero()[\u001b[38;5;241m0\u001b[39m]]\u001b[38;5;241m.\u001b[39munique())\n\u001b[1;32m   5845\u001b[0m \u001b[38;5;28;01mraise\u001b[39;00m \u001b[38;5;167;01mKeyError\u001b[39;00m(\u001b[38;5;124mf\u001b[39m\u001b[38;5;124m\"\u001b[39m\u001b[38;5;132;01m{\u001b[39;00mnot_found\u001b[38;5;132;01m}\u001b[39;00m\u001b[38;5;124m not in index\u001b[39m\u001b[38;5;124m\"\u001b[39m)\n",
      "\u001b[0;31mKeyError\u001b[0m: \"None of [Index(['composition'], dtype='object')] are in the [columns]\""
     ]
    }
   ],
   "source": [
    "from matminer.featurizers.composition import ElementFraction\n",
    "\n",
    "##get stoichiometry from formula\n",
    "df2 = ElementFraction().featurize_dataframe(df2, \"composition\")\n",
    "df2"
   ]
  },
  {
   "cell_type": "code",
   "execution_count": null,
   "metadata": {
    "id": "F9yBBrqlnZkU"
   },
   "outputs": [],
   "source": [
    "df2['O']"
   ]
  },
  {
   "cell_type": "code",
   "execution_count": null,
   "metadata": {
    "id": "eKulmnke4MrF"
   },
   "outputs": [],
   "source": [
    "from matminer.featurizers.composition import BandCenter\n",
    "\n",
    "df2 = BandCenter().featurize_dataframe(df2, col_id=\"composition\")\n",
    "df2.head()"
   ]
  },
  {
   "cell_type": "code",
   "execution_count": null,
   "metadata": {
    "id": "5hnpGYay4MrM"
   },
   "outputs": [],
   "source": [
    "from matminer.featurizers.conversions import CompositionToOxidComposition\n",
    "from matminer.featurizers.composition import OxidationStates\n",
    "\n",
    "df2 = CompositionToOxidComposition().featurize_dataframe(df2, \"composition\")\n",
    "\n",
    "os_feat = OxidationStates()\n",
    "df2 = os_feat.featurize_dataframe(df2, \"composition_oxid\")\n",
    "df2"
   ]
  },
  {
   "cell_type": "code",
   "execution_count": null,
   "metadata": {
    "id": "zwUWyJuU4MrN"
   },
   "outputs": [],
   "source": [
    "from matminer.featurizers.composition import ElectronegativityDiff\n",
    "\n",
    "df2 = ElectronegativityDiff().featurize_dataframe(df2, col_id=\"composition_oxid\")  \n",
    "df2.head()"
   ]
  },
  {
   "cell_type": "code",
   "execution_count": null,
   "metadata": {
    "id": "RQZFmhz1ykDV"
   },
   "outputs": [],
   "source": []
  }
 ],
 "metadata": {
  "colab": {
   "provenance": []
  },
  "kernelspec": {
   "display_name": "Python 3 (ipykernel)",
   "language": "python",
   "name": "python3"
  },
  "language_info": {
   "codemirror_mode": {
    "name": "ipython",
    "version": 3
   },
   "file_extension": ".py",
   "mimetype": "text/x-python",
   "name": "python",
   "nbconvert_exporter": "python",
   "pygments_lexer": "ipython3",
   "version": "3.9.12"
  }
 },
 "nbformat": 4,
 "nbformat_minor": 4
}
