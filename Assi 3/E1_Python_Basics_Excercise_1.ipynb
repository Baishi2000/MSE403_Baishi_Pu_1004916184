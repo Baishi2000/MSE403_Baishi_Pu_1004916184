{
 "cells": [
  {
   "cell_type": "markdown",
   "id": "72a6296e",
   "metadata": {},
   "source": [
    "## Now let's practice what we have learnt by trying out the following excercise!\n",
    "Remeber, Google and Stackoverflow are your friends!\n",
    "\n",
    "(Later you will be asked to upload the finised excercise to github, where it will then be graded). "
   ]
  },
  {
   "cell_type": "markdown",
   "id": "ab381c08",
   "metadata": {},
   "source": [
    "### <span style=\"color: red\"> Task 1:</span> The text file you downloaded earlier ('E1_T1.csv') contains ten words. Read the words into a list and use a \"for loop\" to print out each word. Also print the words as a full sentence (i.e., a single string), as well as the data type of the sentence."
   ]
  },
  {
   "cell_type": "markdown",
   "id": "8dd56675",
   "metadata": {},
   "source": [
    "### <span style=\"color: blue\"> Solution:</span>"
   ]
  },
  {
   "cell_type": "code",
   "execution_count": null,
   "id": "c93c8189",
   "metadata": {},
   "outputs": [],
   "source": []
  },
  {
   "cell_type": "markdown",
   "id": "5dce3cf6",
   "metadata": {},
   "source": [
    "### <span style=\"color: red\"> Task 2:</span> Now that you asked - Let's try another one. Create a dictionary with the keys \"List\", \"Tuple\", \"String\". For each key, assign a list, a tuple, and a string as their values, respectively. You can choose what you want to include in the values but each of them must contain more than five elements (for the string, it's more that five charactors). Finally, extract the third of your list, the second last of your tuple, and the whole string from your dictionary and save them into a .csv file.\n"
   ]
  },
  {
   "cell_type": "markdown",
   "id": "68034ce2",
   "metadata": {},
   "source": [
    "### <span style=\"color: blue\"> Solution:</span>"
   ]
  },
  {
   "cell_type": "code",
   "execution_count": null,
   "id": "41e6e9dd",
   "metadata": {},
   "outputs": [],
   "source": []
  },
  {
   "cell_type": "markdown",
   "id": "a5cfa193",
   "metadata": {},
   "source": [
    "### <span style=\"color: red\"> Task 3:</span> Create a function that finds the largest number in a list. Don not use built-in function. Show you function by using a random number generator to create the inputs."
   ]
  },
  {
   "cell_type": "markdown",
   "id": "32bd35de",
   "metadata": {},
   "source": [
    "### <span style=\"color: blue\"> Solution:</span>"
   ]
  },
  {
   "cell_type": "code",
   "execution_count": null,
   "id": "d41e2961",
   "metadata": {},
   "outputs": [],
   "source": []
  },
  {
   "cell_type": "markdown",
   "id": "f2eb8802",
   "metadata": {},
   "source": [
    "### <span style=\"color: red\"> Task 4:</span> Create a class named \"Alloys\". Initilize it with name and number of elements. In class \"Alloys\", write a method named \"info\", which prints \"\\<name> has \\<num_of_elements> elements\". For example, for Ti6Al4V, it will print \"Ti6Al4V has 3 elements\". Then create an inheritance calss of \"Alloys\" called \"HEAs\" (that's High Entropy Alloys). Create an instance from HEAs and print it's info. You can use CoCrFeMnNi, which has 5 elements."
   ]
  },
  {
   "cell_type": "markdown",
   "id": "ddf9378a",
   "metadata": {},
   "source": [
    "### <span style=\"color: blue\"> Solution:</span>"
   ]
  },
  {
   "cell_type": "code",
   "execution_count": null,
   "id": "cdd7a0c9",
   "metadata": {},
   "outputs": [],
   "source": []
  },
  {
   "cell_type": "markdown",
   "id": "73ef4f1c",
   "metadata": {},
   "source": [
    "### <span style=\"color: red\"> Task 5:</span> Write a function to check if an alloy’s composition is normalized. If it is not, your function should normalize it and return the normalized alloy name. E.g., if the input is $A_{1}B_{2}$, your function should output A0.33B0.67. To simplify the problem, if an element's composition is 1, include that in your input. E.g., if the alloy is $Ti_{6}Al_{4}V$,  you should use Ti6Al4V1 as the input.\n",
    "Bonus question: your function can run a check on the input name to check if there is any “not elements” in the name. Hint: you can try the Mendeleev python library for a complete list of elements."
   ]
  },
  {
   "attachments": {},
   "cell_type": "markdown",
   "id": "bb11e0c8",
   "metadata": {},
   "source": [
    "\n",
    "### <span style=\"color: blue\"> Solution:</span>"
   ]
  },
  {
   "cell_type": "code",
   "execution_count": 8,
   "id": "c44600ad",
   "metadata": {},
   "outputs": [
    {
     "name": "stdout",
     "output_type": "stream",
     "text": [
      "The chemical element Tj is not valid\n",
      "Tj0.4482758620689655Al0.27586206896551724V0.27586206896551724\n"
     ]
    }
   ],
   "source": [
    "string = 'Tj6.5Al4V4'\n",
    "\n",
    "def normalize_elements(string):\n",
    "\n",
    "    import re \n",
    "    # split string into list of elements\n",
    "    elements = re.findall('[A-Z][a-z]*', string)\n",
    "\n",
    "    # split the string into a list of numbers\n",
    "    numbers = re.findall('[0-9.]+', string)\n",
    "    numbers = [float(i) for i in numbers]\n",
    "    total = sum(numbers)\n",
    "\n",
    "    numbers = [i/total for i in numbers]\n",
    "\n",
    "    # combine the items in elements and numbers into a string\n",
    "    output = ''\n",
    "    for my_element, my_number in zip(elements, numbers):\n",
    "        \n",
    "        # check if element is valid\n",
    "        chemical_elements = ['H', 'He', 'Li', 'Be', 'B', 'C', 'N', 'O', 'F', 'Ne', 'Na', 'Mg', 'Al', 'Si', 'P', 'S', 'Cl', 'Ar', 'K', 'Ca', 'Sc', 'Ti', 'V', 'Cr', 'Mn', 'Fe', 'Co', 'Ni', 'Cu', 'Zn', 'Ga', 'Ge', 'As', 'Se', 'Br', 'Kr', 'Rb', 'Sr', 'Y', 'Zr', 'Nb', 'Mo', 'Tc', 'Ru', 'Rh', 'Pd', 'Ag', 'Cd', 'In', 'Sn', 'Sb', 'Te', 'I', 'Xe', 'Cs', 'Ba', 'La', 'Ce', 'Pr', 'Nd', 'Pm', 'Sm', 'Eu', 'Gd', 'Tb', 'Dy', 'Ho', 'Er', 'Tm', 'Yb', 'Lu', 'Hf', 'Ta', 'W', 'Re', 'Os', 'Ir', 'Pt', 'Au', 'Hg', 'Tl', 'Pb', 'Bi', 'Po', 'At', 'Rn', 'Fr', 'Ra', 'Ac', 'Th', 'Pa', 'U', 'Np', 'Pu', 'Am', 'Cm', 'Bk', 'Cf', 'Es', 'Fm', 'Md', 'No', 'Lr', 'Rf', 'Db', 'Sg', 'Bh', 'Hs', 'Mt', 'Ds', 'Rg', 'Cn', 'Nh', 'Fl', 'Mc', 'Lv', 'Ts', 'Og']\n",
    "\n",
    "        if my_element not in chemical_elements:\n",
    "            print('The chemical element ' + my_element + ' is not valid')\n",
    "        \n",
    "        output += my_element + str(my_number)\n",
    "\n",
    "    return output\n",
    "\n",
    "print(normalize_elements(string))"
   ]
  }
 ],
 "metadata": {
  "kernelspec": {
   "display_name": "base",
   "language": "python",
   "name": "python3"
  },
  "language_info": {
   "codemirror_mode": {
    "name": "ipython",
    "version": 3
   },
   "file_extension": ".py",
   "mimetype": "text/x-python",
   "name": "python",
   "nbconvert_exporter": "python",
   "pygments_lexer": "ipython3",
   "version": "3.9.12"
  },
  "vscode": {
   "interpreter": {
    "hash": "971a7f751eef7e2e1170bfe64bf0a4c8201d3d1e0f96916522123c17fd6d34ef"
   }
  }
 },
 "nbformat": 4,
 "nbformat_minor": 5
}
